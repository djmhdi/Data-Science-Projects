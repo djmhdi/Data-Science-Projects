{
 "cells": [
  {
   "cell_type": "code",
   "execution_count": 1,
   "metadata": {
    "collapsed": true
   },
   "outputs": [],
   "source": [
    "import pandas as pd"
   ]
  },
  {
   "cell_type": "code",
   "execution_count": 2,
   "metadata": {
    "collapsed": true
   },
   "outputs": [],
   "source": [
    "df = pd.read_csv('data/food52_scraped_data.csv')"
   ]
  },
  {
   "cell_type": "code",
   "execution_count": 3,
   "metadata": {},
   "outputs": [
    {
     "data": {
      "text/html": [
       "<div>\n",
       "<style>\n",
       "    .dataframe thead tr:only-child th {\n",
       "        text-align: right;\n",
       "    }\n",
       "\n",
       "    .dataframe thead th {\n",
       "        text-align: left;\n",
       "    }\n",
       "\n",
       "    .dataframe tbody tr th {\n",
       "        vertical-align: top;\n",
       "    }\n",
       "</style>\n",
       "<table border=\"1\" class=\"dataframe\">\n",
       "  <thead>\n",
       "    <tr style=\"text-align: right;\">\n",
       "      <th></th>\n",
       "      <th>_id</th>\n",
       "      <th>rating</th>\n",
       "      <th>recipe</th>\n",
       "      <th>title</th>\n",
       "      <th>weblink</th>\n",
       "    </tr>\n",
       "  </thead>\n",
       "  <tbody>\n",
       "    <tr>\n",
       "      <th>0</th>\n",
       "      <td>59d7cf29a980892888190548</td>\n",
       "      <td>14</td>\n",
       "      <td>2 tablespoons unsalted butter\\n1/4 cup diced y...</td>\n",
       "      <td>Austin Diner-Style Queso</td>\n",
       "      <td>https://food52.com/recipes/73529-austin-diner-...</td>\n",
       "    </tr>\n",
       "    <tr>\n",
       "      <th>1</th>\n",
       "      <td>59d7cf30a98089288819054a</td>\n",
       "      <td>29</td>\n",
       "      <td>1 pound shelled raw peanuts\\n1 tablespoon plus...</td>\n",
       "      <td>Mamba (Spicy Haitian Peanut Butter)</td>\n",
       "      <td>https://food52.com/recipes/73211-mamba-spicy-h...</td>\n",
       "    </tr>\n",
       "    <tr>\n",
       "      <th>2</th>\n",
       "      <td>59d7cf39a98089288819054c</td>\n",
       "      <td>2</td>\n",
       "      <td>2 cups (8 1/2 ounces) all-purpose flour\\n1/2 c...</td>\n",
       "      <td>Sheet Pan Muffins</td>\n",
       "      <td>https://food52.com/recipes/73548-sheet-pan-muf...</td>\n",
       "    </tr>\n",
       "    <tr>\n",
       "      <th>3</th>\n",
       "      <td>59d7cf3fa98089288819054e</td>\n",
       "      <td>92</td>\n",
       "      <td>1 1/2 cups (300g) Puy lentils, washed\\n4 clove...</td>\n",
       "      <td>Anna Jones' Favorite Lentils with Roasted Toma...</td>\n",
       "      <td>https://food52.com/recipes/73511-anna-jones-fa...</td>\n",
       "    </tr>\n",
       "    <tr>\n",
       "      <th>4</th>\n",
       "      <td>59d7cf48a980892888190550</td>\n",
       "      <td>3</td>\n",
       "      <td>2 ounces Seedlip Garden 108\\n0.75 ounces Lemon...</td>\n",
       "      <td>Seedlip's A Good Dill</td>\n",
       "      <td>https://food52.com/recipes/73252-seedlip-s-a-g...</td>\n",
       "    </tr>\n",
       "  </tbody>\n",
       "</table>\n",
       "</div>"
      ],
      "text/plain": [
       "                        _id  rating  \\\n",
       "0  59d7cf29a980892888190548      14   \n",
       "1  59d7cf30a98089288819054a      29   \n",
       "2  59d7cf39a98089288819054c       2   \n",
       "3  59d7cf3fa98089288819054e      92   \n",
       "4  59d7cf48a980892888190550       3   \n",
       "\n",
       "                                              recipe  \\\n",
       "0  2 tablespoons unsalted butter\\n1/4 cup diced y...   \n",
       "1  1 pound shelled raw peanuts\\n1 tablespoon plus...   \n",
       "2  2 cups (8 1/2 ounces) all-purpose flour\\n1/2 c...   \n",
       "3  1 1/2 cups (300g) Puy lentils, washed\\n4 clove...   \n",
       "4  2 ounces Seedlip Garden 108\\n0.75 ounces Lemon...   \n",
       "\n",
       "                                               title  \\\n",
       "0                           Austin Diner-Style Queso   \n",
       "1                Mamba (Spicy Haitian Peanut Butter)   \n",
       "2                                  Sheet Pan Muffins   \n",
       "3  Anna Jones' Favorite Lentils with Roasted Toma...   \n",
       "4                              Seedlip's A Good Dill   \n",
       "\n",
       "                                             weblink  \n",
       "0  https://food52.com/recipes/73529-austin-diner-...  \n",
       "1  https://food52.com/recipes/73211-mamba-spicy-h...  \n",
       "2  https://food52.com/recipes/73548-sheet-pan-muf...  \n",
       "3  https://food52.com/recipes/73511-anna-jones-fa...  \n",
       "4  https://food52.com/recipes/73252-seedlip-s-a-g...  "
      ]
     },
     "execution_count": 3,
     "metadata": {},
     "output_type": "execute_result"
    }
   ],
   "source": [
    "df.head()"
   ]
  },
  {
   "cell_type": "code",
   "execution_count": 4,
   "metadata": {},
   "outputs": [
    {
     "data": {
      "text/plain": [
       "9721"
      ]
     },
     "execution_count": 4,
     "metadata": {},
     "output_type": "execute_result"
    }
   ],
   "source": [
    "len(df['rating'].where(df['rating'] == 0))"
   ]
  },
  {
   "cell_type": "code",
   "execution_count": 5,
   "metadata": {},
   "outputs": [
    {
     "name": "stdout",
     "output_type": "stream",
     "text": [
      "<class 'pandas.core.frame.DataFrame'>\n",
      "RangeIndex: 9721 entries, 0 to 9720\n",
      "Data columns (total 5 columns):\n",
      "_id        9721 non-null object\n",
      "rating     9721 non-null int64\n",
      "recipe     9233 non-null object\n",
      "title      9721 non-null object\n",
      "weblink    9721 non-null object\n",
      "dtypes: int64(1), object(4)\n",
      "memory usage: 379.8+ KB\n"
     ]
    }
   ],
   "source": [
    "df.info()"
   ]
  },
  {
   "cell_type": "code",
   "execution_count": 6,
   "metadata": {
    "collapsed": true
   },
   "outputs": [],
   "source": [
    "import numpy as np\n",
    "import string"
   ]
  },
  {
   "cell_type": "code",
   "execution_count": 7,
   "metadata": {
    "collapsed": true
   },
   "outputs": [],
   "source": [
    "def main_ingredient(col):\n",
    "    ingredients = ['pork', 'chicken', 'beef']\n",
    "    for item in ingredients:\n",
    "        if item in str(col):\n",
    "            return item\n",
    "        else:\n",
    "            continue"
   ]
  },
  {
   "cell_type": "code",
   "execution_count": 8,
   "metadata": {
    "collapsed": true
   },
   "outputs": [],
   "source": [
    "df['category'] = df['recipe'].apply(main_ingredient)"
   ]
  },
  {
   "cell_type": "code",
   "execution_count": 9,
   "metadata": {},
   "outputs": [
    {
     "data": {
      "text/plain": [
       "chicken    2137\n",
       "pork        696\n",
       "beef        625\n",
       "Name: category, dtype: int64"
      ]
     },
     "execution_count": 9,
     "metadata": {},
     "output_type": "execute_result"
    }
   ],
   "source": [
    "df['category'].value_counts()"
   ]
  },
  {
   "cell_type": "code",
   "execution_count": 10,
   "metadata": {
    "collapsed": true
   },
   "outputs": [],
   "source": [
    "dummies = pd.get_dummies(df['category'])"
   ]
  },
  {
   "cell_type": "code",
   "execution_count": 11,
   "metadata": {},
   "outputs": [
    {
     "data": {
      "text/html": [
       "<div>\n",
       "<style>\n",
       "    .dataframe thead tr:only-child th {\n",
       "        text-align: right;\n",
       "    }\n",
       "\n",
       "    .dataframe thead th {\n",
       "        text-align: left;\n",
       "    }\n",
       "\n",
       "    .dataframe tbody tr th {\n",
       "        vertical-align: top;\n",
       "    }\n",
       "</style>\n",
       "<table border=\"1\" class=\"dataframe\">\n",
       "  <thead>\n",
       "    <tr style=\"text-align: right;\">\n",
       "      <th></th>\n",
       "      <th>beef</th>\n",
       "      <th>chicken</th>\n",
       "      <th>pork</th>\n",
       "    </tr>\n",
       "  </thead>\n",
       "  <tbody>\n",
       "    <tr>\n",
       "      <th>0</th>\n",
       "      <td>0</td>\n",
       "      <td>0</td>\n",
       "      <td>0</td>\n",
       "    </tr>\n",
       "    <tr>\n",
       "      <th>1</th>\n",
       "      <td>0</td>\n",
       "      <td>0</td>\n",
       "      <td>0</td>\n",
       "    </tr>\n",
       "    <tr>\n",
       "      <th>2</th>\n",
       "      <td>0</td>\n",
       "      <td>0</td>\n",
       "      <td>0</td>\n",
       "    </tr>\n",
       "    <tr>\n",
       "      <th>3</th>\n",
       "      <td>1</td>\n",
       "      <td>0</td>\n",
       "      <td>0</td>\n",
       "    </tr>\n",
       "    <tr>\n",
       "      <th>4</th>\n",
       "      <td>0</td>\n",
       "      <td>0</td>\n",
       "      <td>0</td>\n",
       "    </tr>\n",
       "  </tbody>\n",
       "</table>\n",
       "</div>"
      ],
      "text/plain": [
       "   beef  chicken  pork\n",
       "0     0        0     0\n",
       "1     0        0     0\n",
       "2     0        0     0\n",
       "3     1        0     0\n",
       "4     0        0     0"
      ]
     },
     "execution_count": 11,
     "metadata": {},
     "output_type": "execute_result"
    }
   ],
   "source": [
    "dummies.head()"
   ]
  },
  {
   "cell_type": "code",
   "execution_count": 12,
   "metadata": {
    "collapsed": true
   },
   "outputs": [],
   "source": [
    "df2 = pd.concat([df,dummies], axis=1)"
   ]
  },
  {
   "cell_type": "code",
   "execution_count": 13,
   "metadata": {},
   "outputs": [
    {
     "data": {
      "text/html": [
       "<div>\n",
       "<style>\n",
       "    .dataframe thead tr:only-child th {\n",
       "        text-align: right;\n",
       "    }\n",
       "\n",
       "    .dataframe thead th {\n",
       "        text-align: left;\n",
       "    }\n",
       "\n",
       "    .dataframe tbody tr th {\n",
       "        vertical-align: top;\n",
       "    }\n",
       "</style>\n",
       "<table border=\"1\" class=\"dataframe\">\n",
       "  <thead>\n",
       "    <tr style=\"text-align: right;\">\n",
       "      <th></th>\n",
       "      <th>_id</th>\n",
       "      <th>rating</th>\n",
       "      <th>recipe</th>\n",
       "      <th>title</th>\n",
       "      <th>weblink</th>\n",
       "      <th>category</th>\n",
       "      <th>beef</th>\n",
       "      <th>chicken</th>\n",
       "      <th>pork</th>\n",
       "    </tr>\n",
       "  </thead>\n",
       "  <tbody>\n",
       "    <tr>\n",
       "      <th>0</th>\n",
       "      <td>59d7cf29a980892888190548</td>\n",
       "      <td>14</td>\n",
       "      <td>2 tablespoons unsalted butter\\n1/4 cup diced y...</td>\n",
       "      <td>Austin Diner-Style Queso</td>\n",
       "      <td>https://food52.com/recipes/73529-austin-diner-...</td>\n",
       "      <td>None</td>\n",
       "      <td>0</td>\n",
       "      <td>0</td>\n",
       "      <td>0</td>\n",
       "    </tr>\n",
       "    <tr>\n",
       "      <th>1</th>\n",
       "      <td>59d7cf30a98089288819054a</td>\n",
       "      <td>29</td>\n",
       "      <td>1 pound shelled raw peanuts\\n1 tablespoon plus...</td>\n",
       "      <td>Mamba (Spicy Haitian Peanut Butter)</td>\n",
       "      <td>https://food52.com/recipes/73211-mamba-spicy-h...</td>\n",
       "      <td>None</td>\n",
       "      <td>0</td>\n",
       "      <td>0</td>\n",
       "      <td>0</td>\n",
       "    </tr>\n",
       "    <tr>\n",
       "      <th>2</th>\n",
       "      <td>59d7cf39a98089288819054c</td>\n",
       "      <td>2</td>\n",
       "      <td>2 cups (8 1/2 ounces) all-purpose flour\\n1/2 c...</td>\n",
       "      <td>Sheet Pan Muffins</td>\n",
       "      <td>https://food52.com/recipes/73548-sheet-pan-muf...</td>\n",
       "      <td>None</td>\n",
       "      <td>0</td>\n",
       "      <td>0</td>\n",
       "      <td>0</td>\n",
       "    </tr>\n",
       "    <tr>\n",
       "      <th>3</th>\n",
       "      <td>59d7cf3fa98089288819054e</td>\n",
       "      <td>92</td>\n",
       "      <td>1 1/2 cups (300g) Puy lentils, washed\\n4 clove...</td>\n",
       "      <td>Anna Jones' Favorite Lentils with Roasted Toma...</td>\n",
       "      <td>https://food52.com/recipes/73511-anna-jones-fa...</td>\n",
       "      <td>beef</td>\n",
       "      <td>1</td>\n",
       "      <td>0</td>\n",
       "      <td>0</td>\n",
       "    </tr>\n",
       "    <tr>\n",
       "      <th>4</th>\n",
       "      <td>59d7cf48a980892888190550</td>\n",
       "      <td>3</td>\n",
       "      <td>2 ounces Seedlip Garden 108\\n0.75 ounces Lemon...</td>\n",
       "      <td>Seedlip's A Good Dill</td>\n",
       "      <td>https://food52.com/recipes/73252-seedlip-s-a-g...</td>\n",
       "      <td>None</td>\n",
       "      <td>0</td>\n",
       "      <td>0</td>\n",
       "      <td>0</td>\n",
       "    </tr>\n",
       "  </tbody>\n",
       "</table>\n",
       "</div>"
      ],
      "text/plain": [
       "                        _id  rating  \\\n",
       "0  59d7cf29a980892888190548      14   \n",
       "1  59d7cf30a98089288819054a      29   \n",
       "2  59d7cf39a98089288819054c       2   \n",
       "3  59d7cf3fa98089288819054e      92   \n",
       "4  59d7cf48a980892888190550       3   \n",
       "\n",
       "                                              recipe  \\\n",
       "0  2 tablespoons unsalted butter\\n1/4 cup diced y...   \n",
       "1  1 pound shelled raw peanuts\\n1 tablespoon plus...   \n",
       "2  2 cups (8 1/2 ounces) all-purpose flour\\n1/2 c...   \n",
       "3  1 1/2 cups (300g) Puy lentils, washed\\n4 clove...   \n",
       "4  2 ounces Seedlip Garden 108\\n0.75 ounces Lemon...   \n",
       "\n",
       "                                               title  \\\n",
       "0                           Austin Diner-Style Queso   \n",
       "1                Mamba (Spicy Haitian Peanut Butter)   \n",
       "2                                  Sheet Pan Muffins   \n",
       "3  Anna Jones' Favorite Lentils with Roasted Toma...   \n",
       "4                              Seedlip's A Good Dill   \n",
       "\n",
       "                                             weblink category  beef  chicken  \\\n",
       "0  https://food52.com/recipes/73529-austin-diner-...     None     0        0   \n",
       "1  https://food52.com/recipes/73211-mamba-spicy-h...     None     0        0   \n",
       "2  https://food52.com/recipes/73548-sheet-pan-muf...     None     0        0   \n",
       "3  https://food52.com/recipes/73511-anna-jones-fa...     beef     1        0   \n",
       "4  https://food52.com/recipes/73252-seedlip-s-a-g...     None     0        0   \n",
       "\n",
       "   pork  \n",
       "0     0  \n",
       "1     0  \n",
       "2     0  \n",
       "3     0  \n",
       "4     0  "
      ]
     },
     "execution_count": 13,
     "metadata": {},
     "output_type": "execute_result"
    }
   ],
   "source": [
    "df2.head()"
   ]
  },
  {
   "cell_type": "code",
   "execution_count": 14,
   "metadata": {
    "collapsed": true
   },
   "outputs": [],
   "source": [
    "del df2['_id']"
   ]
  },
  {
   "cell_type": "code",
   "execution_count": 15,
   "metadata": {},
   "outputs": [
    {
     "name": "stdout",
     "output_type": "stream",
     "text": [
      "<class 'pandas.core.frame.DataFrame'>\n",
      "RangeIndex: 9721 entries, 0 to 9720\n",
      "Data columns (total 8 columns):\n",
      "rating      9721 non-null int64\n",
      "recipe      9233 non-null object\n",
      "title       9721 non-null object\n",
      "weblink     9721 non-null object\n",
      "category    3458 non-null object\n",
      "beef        9721 non-null uint8\n",
      "chicken     9721 non-null uint8\n",
      "pork        9721 non-null uint8\n",
      "dtypes: int64(1), object(4), uint8(3)\n",
      "memory usage: 408.3+ KB\n"
     ]
    }
   ],
   "source": [
    "df2.info()"
   ]
  },
  {
   "cell_type": "code",
   "execution_count": 16,
   "metadata": {
    "collapsed": true
   },
   "outputs": [],
   "source": [
    "df2.dropna(axis=0, subset=['recipe'], inplace=True)"
   ]
  },
  {
   "cell_type": "code",
   "execution_count": 208,
   "metadata": {
    "collapsed": true
   },
   "outputs": [],
   "source": [
    "# df2['vegetarian'] = df2['category'].isnull()"
   ]
  },
  {
   "cell_type": "code",
   "execution_count": 17,
   "metadata": {
    "collapsed": true
   },
   "outputs": [],
   "source": [
    "from sklearn.feature_extraction.text import TfidfVectorizer"
   ]
  },
  {
   "cell_type": "code",
   "execution_count": 18,
   "metadata": {
    "collapsed": true
   },
   "outputs": [],
   "source": [
    "from sklearn.decomposition import NMF"
   ]
  },
  {
   "cell_type": "markdown",
   "metadata": {},
   "source": [
    "## topic extraction from recipe title"
   ]
  },
  {
   "cell_type": "code",
   "execution_count": 19,
   "metadata": {
    "collapsed": true
   },
   "outputs": [],
   "source": [
    "from sklearn.naive_bayes import MultinomialNB"
   ]
  },
  {
   "cell_type": "code",
   "execution_count": 34,
   "metadata": {
    "collapsed": true
   },
   "outputs": [],
   "source": [
    "def label(col):\n",
    "    if col <= 10:\n",
    "        return True\n",
    "    if col != 0:\n",
    "        return False\n",
    "    \n",
    "df2['label'] = df2['rating'].apply(label)"
   ]
  },
  {
   "cell_type": "code",
   "execution_count": 35,
   "metadata": {
    "collapsed": true
   },
   "outputs": [],
   "source": [
    "X_recipe_text = df2['recipe'].values"
   ]
  },
  {
   "cell_type": "code",
   "execution_count": 36,
   "metadata": {
    "collapsed": true
   },
   "outputs": [],
   "source": [
    "tfidf_vectorizer = TfidfVectorizer()"
   ]
  },
  {
   "cell_type": "code",
   "execution_count": 37,
   "metadata": {},
   "outputs": [],
   "source": [
    "tfidf2 = tfidf_vectorizer.fit_transform(X_recipe_text)"
   ]
  },
  {
   "cell_type": "code",
   "execution_count": 38,
   "metadata": {
    "collapsed": true
   },
   "outputs": [],
   "source": [
    "y = df2['label'].values"
   ]
  },
  {
   "cell_type": "code",
   "execution_count": 39,
   "metadata": {
    "collapsed": true
   },
   "outputs": [],
   "source": [
    "from sklearn.model_selection import train_test_split"
   ]
  },
  {
   "cell_type": "code",
   "execution_count": 40,
   "metadata": {},
   "outputs": [],
   "source": [
    "X_train, X_test, y_train, y_test = train_test_split(tfidf2, y, test_size=0.33, random_state=42)"
   ]
  },
  {
   "cell_type": "code",
   "execution_count": 41,
   "metadata": {
    "collapsed": true
   },
   "outputs": [],
   "source": [
    "mnb = MultinomialNB()"
   ]
  },
  {
   "cell_type": "code",
   "execution_count": 42,
   "metadata": {
    "collapsed": true
   },
   "outputs": [],
   "source": [
    "mnb_mod = mnb.fit(X_train, y_train)"
   ]
  },
  {
   "cell_type": "code",
   "execution_count": 43,
   "metadata": {},
   "outputs": [
    {
     "data": {
      "text/plain": [
       "0.7036429274696423"
      ]
     },
     "execution_count": 43,
     "metadata": {},
     "output_type": "execute_result"
    }
   ],
   "source": [
    "mnb_mod.score(X_test, y_test)"
   ]
  },
  {
   "cell_type": "code",
   "execution_count": 44,
   "metadata": {},
   "outputs": [
    {
     "name": "stdout",
     "output_type": "stream",
     "text": [
      "Average precision-recall score: 0.21\n"
     ]
    }
   ],
   "source": [
    "from sklearn.metrics import average_precision_score\n",
    "average_precision = average_precision_score(y_test, mnb_mod.predict_proba(X_test)[:, 0])\n",
    "\n",
    "print('Average precision-recall score: {0:0.2f}'.format(\n",
    "      average_precision))"
   ]
  },
  {
   "cell_type": "code",
   "execution_count": 51,
   "metadata": {
    "collapsed": true
   },
   "outputs": [],
   "source": [
    "X = df2['title']"
   ]
  },
  {
   "cell_type": "code",
   "execution_count": null,
   "metadata": {
    "collapsed": true
   },
   "outputs": [],
   "source": []
  },
  {
   "cell_type": "code",
   "execution_count": 52,
   "metadata": {
    "collapsed": true
   },
   "outputs": [],
   "source": [
    "tfidf_vectorizer2 = TfidfVectorizer(max_df=0.95, min_df=2, stop_words='english')"
   ]
  },
  {
   "cell_type": "code",
   "execution_count": 57,
   "metadata": {},
   "outputs": [],
   "source": [
    "tfidf = tfidf_vectorizer.fit_transform(X)"
   ]
  },
  {
   "cell_type": "code",
   "execution_count": 58,
   "metadata": {
    "collapsed": true
   },
   "outputs": [],
   "source": [
    "nmf = NMF(n_components=8, random_state=1,\n",
    "          alpha=.1, l1_ratio=.5).fit(tfidf)"
   ]
  },
  {
   "cell_type": "code",
   "execution_count": 59,
   "metadata": {
    "collapsed": true
   },
   "outputs": [],
   "source": [
    "def print_top_words(model, feature_names, n_top_words):\n",
    "    for topic_idx, topic in enumerate(model.components_):\n",
    "        message = \"Topic #%d: \" % topic_idx\n",
    "        message += \" \".join([feature_names[i]\n",
    "                             for i in topic.argsort()[:-n_top_words - 1:-1]])\n",
    "        print(message)\n",
    "    print()"
   ]
  },
  {
   "cell_type": "code",
   "execution_count": 61,
   "metadata": {
    "collapsed": true
   },
   "outputs": [],
   "source": [
    "nmf_w = nmf.fit_transform(tfidf)\n",
    "nmf_h = nmf.components_"
   ]
  },
  {
   "cell_type": "code",
   "execution_count": 62,
   "metadata": {
    "collapsed": true
   },
   "outputs": [],
   "source": [
    "df2['topic_labels'] = nmf_w.argmax(axis=1) # this was the right code to get labels/clusters"
   ]
  },
  {
   "cell_type": "code",
   "execution_count": 63,
   "metadata": {},
   "outputs": [
    {
     "name": "stdout",
     "output_type": "stream",
     "text": [
      "<class 'pandas.core.frame.DataFrame'>\n",
      "Int64Index: 9233 entries, 0 to 9714\n",
      "Data columns (total 10 columns):\n",
      "rating          9233 non-null int64\n",
      "recipe          9233 non-null object\n",
      "title           9233 non-null object\n",
      "weblink         9233 non-null object\n",
      "category        3458 non-null object\n",
      "beef            9233 non-null uint8\n",
      "chicken         9233 non-null uint8\n",
      "pork            9233 non-null uint8\n",
      "label           9233 non-null bool\n",
      "topic_labels    9233 non-null int64\n",
      "dtypes: bool(1), int64(2), object(4), uint8(3)\n",
      "memory usage: 541.0+ KB\n"
     ]
    }
   ],
   "source": [
    "df2.info()"
   ]
  },
  {
   "cell_type": "code",
   "execution_count": 171,
   "metadata": {},
   "outputs": [
    {
     "name": "stdout",
     "output_type": "stream",
     "text": [
      "\n",
      "Topics in NMF model (Frobenius norm):\n",
      "Topic #0: and with sausage sweet cheese\n",
      "Topic #1: chicken roast fried lemon curry\n",
      "Topic #2: salad dressing summer vinaigrette potato\n",
      "Topic #3: soup noodle lentil bean mushroom\n",
      "Topic #4: pork sauce tenderloin chops pulled\n",
      "Topic #5: roasted garlic cauliflower potatoes squash\n",
      "Topic #6: chocolate cake cream cookies ice\n",
      "Topic #7: beef stew spicy corned braised\n",
      "\n"
     ]
    }
   ],
   "source": [
    "print(\"\\nTopics in NMF model (Frobenius norm):\")\n",
    "tfidf_feature_names = tfidf_vectorizer.get_feature_names()\n",
    "print_top_words(nmf, tfidf_feature_names, n_top_words=5)"
   ]
  },
  {
   "cell_type": "code",
   "execution_count": 204,
   "metadata": {
    "collapsed": true
   },
   "outputs": [],
   "source": [
    "topics = {0:'sausage_dish', 1:'chicken_dish', 2:'salad_dish', 3:'soup_dish', 4:'pork_dish', 5:'vegetable_dish', 6:'dessert_dish', 7:'beef_dish'}"
   ]
  },
  {
   "cell_type": "code",
   "execution_count": 205,
   "metadata": {
    "collapsed": true
   },
   "outputs": [],
   "source": [
    "def title_topics(col):\n",
    "    return topics[col]"
   ]
  },
  {
   "cell_type": "code",
   "execution_count": 206,
   "metadata": {
    "collapsed": true
   },
   "outputs": [],
   "source": [
    "df2['topic_word'] = df2['topic_labels'].apply(title_topics)"
   ]
  },
  {
   "cell_type": "code",
   "execution_count": 207,
   "metadata": {
    "collapsed": true
   },
   "outputs": [],
   "source": [
    "dum = pd.get_dummies(df2['topic_word'])"
   ]
  },
  {
   "cell_type": "code",
   "execution_count": 208,
   "metadata": {
    "collapsed": true
   },
   "outputs": [],
   "source": [
    "del dum['beef_dish']"
   ]
  },
  {
   "cell_type": "code",
   "execution_count": 209,
   "metadata": {
    "collapsed": true
   },
   "outputs": [],
   "source": [
    "df2 = pd.concat([df2, dum], axis=1)"
   ]
  },
  {
   "cell_type": "code",
   "execution_count": 210,
   "metadata": {},
   "outputs": [
    {
     "name": "stdout",
     "output_type": "stream",
     "text": [
      "<class 'pandas.core.frame.DataFrame'>\n",
      "Int64Index: 9233 entries, 0 to 9714\n",
      "Data columns (total 32 columns):\n",
      "rating                9233 non-null int64\n",
      "recipe                9233 non-null object\n",
      "title                 9233 non-null object\n",
      "weblink               9233 non-null object\n",
      "category              3458 non-null object\n",
      "beef                  9233 non-null uint8\n",
      "chicken               9233 non-null uint8\n",
      "pork                  9233 non-null uint8\n",
      "label                 9233 non-null bool\n",
      "topic_labels          9233 non-null int64\n",
      "topic_word            9233 non-null object\n",
      "beef_nmf              9233 non-null uint8\n",
      "chicken_nmf           9233 non-null uint8\n",
      "chocolate_cake_nmf    9233 non-null uint8\n",
      "pork_nmf              9233 non-null uint8\n",
      "potatoes_nmf          9233 non-null uint8\n",
      "salad_nmf             9233 non-null uint8\n",
      "soup_nmf              9233 non-null uint8\n",
      "chicken_dish          9233 non-null uint8\n",
      "dessert_dish          9233 non-null uint8\n",
      "pork_dish             9233 non-null uint8\n",
      "salad_dish            9233 non-null uint8\n",
      "sausage               9233 non-null uint8\n",
      "soup_dish             9233 non-null uint8\n",
      "vegetable_dish        9233 non-null uint8\n",
      "chicken_dish          9233 non-null uint8\n",
      "dessert_dish          9233 non-null uint8\n",
      "pork_dish             9233 non-null uint8\n",
      "salad_dish            9233 non-null uint8\n",
      "sausage_dish          9233 non-null uint8\n",
      "soup_dish             9233 non-null uint8\n",
      "vegetable_dish        9233 non-null uint8\n",
      "dtypes: bool(1), int64(2), object(5), uint8(24)\n",
      "memory usage: 1.1+ MB\n"
     ]
    }
   ],
   "source": [
    "df2.info()"
   ]
  },
  {
   "cell_type": "code",
   "execution_count": 211,
   "metadata": {
    "collapsed": true
   },
   "outputs": [],
   "source": [
    "# def label(col):\n",
    "#     if col <= 2:\n",
    "#         return True\n",
    "#     if col != 0:\n",
    "#         return False\n",
    "    \n",
    "# df2['label'] = df2['rating'].apply(label)"
   ]
  },
  {
   "cell_type": "code",
   "execution_count": 212,
   "metadata": {},
   "outputs": [
    {
     "data": {
      "text/plain": [
       "False    6160\n",
       "True     3073\n",
       "Name: label, dtype: int64"
      ]
     },
     "execution_count": 212,
     "metadata": {},
     "output_type": "execute_result"
    }
   ],
   "source": [
    "df2['label'].value_counts()"
   ]
  },
  {
   "cell_type": "code",
   "execution_count": 213,
   "metadata": {},
   "outputs": [
    {
     "data": {
      "text/plain": [
       "Index(['chicken_dish', 'dessert_dish', 'pork_dish', 'salad_dish',\n",
       "       'sausage_dish', 'soup_dish', 'vegetable_dish'],\n",
       "      dtype='object')"
      ]
     },
     "execution_count": 213,
     "metadata": {},
     "output_type": "execute_result"
    }
   ],
   "source": [
    "dum.columns"
   ]
  },
  {
   "cell_type": "code",
   "execution_count": 238,
   "metadata": {},
   "outputs": [],
   "source": [
    "working = df2[['label','rating', 'beef', 'chicken', 'pork','chicken_dish', 'dessert_dish', 'pork_dish', 'salad_dish', 'sausage_dish',\n",
    "       'soup_dish', 'vegetable_dish']]"
   ]
  },
  {
   "cell_type": "code",
   "execution_count": 239,
   "metadata": {},
   "outputs": [
    {
     "name": "stdout",
     "output_type": "stream",
     "text": [
      "<class 'pandas.core.frame.DataFrame'>\n",
      "Int64Index: 9233 entries, 0 to 9714\n",
      "Data columns (total 18 columns):\n",
      "label             9233 non-null bool\n",
      "rating            9233 non-null int64\n",
      "beef              9233 non-null uint8\n",
      "chicken           9233 non-null uint8\n",
      "pork              9233 non-null uint8\n",
      "chicken_dish      9233 non-null uint8\n",
      "chicken_dish      9233 non-null uint8\n",
      "dessert_dish      9233 non-null uint8\n",
      "dessert_dish      9233 non-null uint8\n",
      "pork_dish         9233 non-null uint8\n",
      "pork_dish         9233 non-null uint8\n",
      "salad_dish        9233 non-null uint8\n",
      "salad_dish        9233 non-null uint8\n",
      "sausage_dish      9233 non-null uint8\n",
      "soup_dish         9233 non-null uint8\n",
      "soup_dish         9233 non-null uint8\n",
      "vegetable_dish    9233 non-null uint8\n",
      "vegetable_dish    9233 non-null uint8\n",
      "dtypes: bool(1), int64(1), uint8(16)\n",
      "memory usage: 617.5 KB\n"
     ]
    }
   ],
   "source": [
    "working.info()"
   ]
  },
  {
   "cell_type": "code",
   "execution_count": 240,
   "metadata": {},
   "outputs": [
    {
     "data": {
      "text/html": [
       "<div>\n",
       "<style>\n",
       "    .dataframe thead tr:only-child th {\n",
       "        text-align: right;\n",
       "    }\n",
       "\n",
       "    .dataframe thead th {\n",
       "        text-align: left;\n",
       "    }\n",
       "\n",
       "    .dataframe tbody tr th {\n",
       "        vertical-align: top;\n",
       "    }\n",
       "</style>\n",
       "<table border=\"1\" class=\"dataframe\">\n",
       "  <thead>\n",
       "    <tr style=\"text-align: right;\">\n",
       "      <th></th>\n",
       "      <th>label</th>\n",
       "      <th>rating</th>\n",
       "      <th>beef</th>\n",
       "      <th>chicken</th>\n",
       "      <th>pork</th>\n",
       "      <th>chicken_dish</th>\n",
       "      <th>chicken_dish</th>\n",
       "      <th>dessert_dish</th>\n",
       "      <th>dessert_dish</th>\n",
       "      <th>pork_dish</th>\n",
       "      <th>pork_dish</th>\n",
       "      <th>salad_dish</th>\n",
       "      <th>salad_dish</th>\n",
       "      <th>sausage_dish</th>\n",
       "      <th>soup_dish</th>\n",
       "      <th>soup_dish</th>\n",
       "      <th>vegetable_dish</th>\n",
       "      <th>vegetable_dish</th>\n",
       "    </tr>\n",
       "  </thead>\n",
       "  <tbody>\n",
       "    <tr>\n",
       "      <th>0</th>\n",
       "      <td>False</td>\n",
       "      <td>14</td>\n",
       "      <td>0</td>\n",
       "      <td>0</td>\n",
       "      <td>0</td>\n",
       "      <td>1</td>\n",
       "      <td>1</td>\n",
       "      <td>0</td>\n",
       "      <td>0</td>\n",
       "      <td>0</td>\n",
       "      <td>0</td>\n",
       "      <td>0</td>\n",
       "      <td>0</td>\n",
       "      <td>0</td>\n",
       "      <td>0</td>\n",
       "      <td>0</td>\n",
       "      <td>0</td>\n",
       "      <td>0</td>\n",
       "    </tr>\n",
       "    <tr>\n",
       "      <th>1</th>\n",
       "      <td>False</td>\n",
       "      <td>29</td>\n",
       "      <td>0</td>\n",
       "      <td>0</td>\n",
       "      <td>0</td>\n",
       "      <td>0</td>\n",
       "      <td>0</td>\n",
       "      <td>1</td>\n",
       "      <td>1</td>\n",
       "      <td>0</td>\n",
       "      <td>0</td>\n",
       "      <td>0</td>\n",
       "      <td>0</td>\n",
       "      <td>0</td>\n",
       "      <td>0</td>\n",
       "      <td>0</td>\n",
       "      <td>0</td>\n",
       "      <td>0</td>\n",
       "    </tr>\n",
       "    <tr>\n",
       "      <th>2</th>\n",
       "      <td>True</td>\n",
       "      <td>2</td>\n",
       "      <td>0</td>\n",
       "      <td>0</td>\n",
       "      <td>0</td>\n",
       "      <td>0</td>\n",
       "      <td>0</td>\n",
       "      <td>0</td>\n",
       "      <td>0</td>\n",
       "      <td>0</td>\n",
       "      <td>0</td>\n",
       "      <td>0</td>\n",
       "      <td>0</td>\n",
       "      <td>0</td>\n",
       "      <td>0</td>\n",
       "      <td>0</td>\n",
       "      <td>1</td>\n",
       "      <td>1</td>\n",
       "    </tr>\n",
       "    <tr>\n",
       "      <th>3</th>\n",
       "      <td>False</td>\n",
       "      <td>92</td>\n",
       "      <td>1</td>\n",
       "      <td>0</td>\n",
       "      <td>0</td>\n",
       "      <td>0</td>\n",
       "      <td>0</td>\n",
       "      <td>0</td>\n",
       "      <td>0</td>\n",
       "      <td>0</td>\n",
       "      <td>0</td>\n",
       "      <td>0</td>\n",
       "      <td>0</td>\n",
       "      <td>0</td>\n",
       "      <td>0</td>\n",
       "      <td>0</td>\n",
       "      <td>1</td>\n",
       "      <td>1</td>\n",
       "    </tr>\n",
       "    <tr>\n",
       "      <th>4</th>\n",
       "      <td>True</td>\n",
       "      <td>3</td>\n",
       "      <td>0</td>\n",
       "      <td>0</td>\n",
       "      <td>0</td>\n",
       "      <td>0</td>\n",
       "      <td>0</td>\n",
       "      <td>0</td>\n",
       "      <td>0</td>\n",
       "      <td>0</td>\n",
       "      <td>0</td>\n",
       "      <td>0</td>\n",
       "      <td>0</td>\n",
       "      <td>1</td>\n",
       "      <td>0</td>\n",
       "      <td>0</td>\n",
       "      <td>0</td>\n",
       "      <td>0</td>\n",
       "    </tr>\n",
       "  </tbody>\n",
       "</table>\n",
       "</div>"
      ],
      "text/plain": [
       "   label  rating  beef  chicken  pork  chicken_dish  chicken_dish  \\\n",
       "0  False      14     0        0     0             1             1   \n",
       "1  False      29     0        0     0             0             0   \n",
       "2   True       2     0        0     0             0             0   \n",
       "3  False      92     1        0     0             0             0   \n",
       "4   True       3     0        0     0             0             0   \n",
       "\n",
       "   dessert_dish  dessert_dish  pork_dish  pork_dish  salad_dish  salad_dish  \\\n",
       "0             0             0          0          0           0           0   \n",
       "1             1             1          0          0           0           0   \n",
       "2             0             0          0          0           0           0   \n",
       "3             0             0          0          0           0           0   \n",
       "4             0             0          0          0           0           0   \n",
       "\n",
       "   sausage_dish  soup_dish  soup_dish  vegetable_dish  vegetable_dish  \n",
       "0             0          0          0               0               0  \n",
       "1             0          0          0               0               0  \n",
       "2             0          0          0               1               1  \n",
       "3             0          0          0               1               1  \n",
       "4             1          0          0               0               0  "
      ]
     },
     "execution_count": 240,
     "metadata": {},
     "output_type": "execute_result"
    }
   ],
   "source": [
    "working.head()"
   ]
  },
  {
   "cell_type": "code",
   "execution_count": 241,
   "metadata": {
    "collapsed": true
   },
   "outputs": [],
   "source": [
    "_, i = np.unique(working.columns, return_index=True)"
   ]
  },
  {
   "cell_type": "code",
   "execution_count": 243,
   "metadata": {},
   "outputs": [
    {
     "name": "stdout",
     "output_type": "stream",
     "text": [
      "<class 'pandas.core.frame.DataFrame'>\n",
      "Int64Index: 9233 entries, 0 to 9714\n",
      "Data columns (total 12 columns):\n",
      "beef              9233 non-null uint8\n",
      "chicken           9233 non-null uint8\n",
      "chicken_dish      9233 non-null uint8\n",
      "dessert_dish      9233 non-null uint8\n",
      "label             9233 non-null bool\n",
      "pork              9233 non-null uint8\n",
      "pork_dish         9233 non-null uint8\n",
      "rating            9233 non-null int64\n",
      "salad_dish        9233 non-null uint8\n",
      "sausage_dish      9233 non-null uint8\n",
      "soup_dish         9233 non-null uint8\n",
      "vegetable_dish    9233 non-null uint8\n",
      "dtypes: bool(1), int64(1), uint8(10)\n",
      "memory usage: 563.4 KB\n"
     ]
    }
   ],
   "source": [
    "working = working.iloc[:, i]\n",
    "working.info()"
   ]
  },
  {
   "cell_type": "code",
   "execution_count": null,
   "metadata": {
    "collapsed": true
   },
   "outputs": [],
   "source": [
    "working"
   ]
  },
  {
   "cell_type": "code",
   "execution_count": 236,
   "metadata": {},
   "outputs": [
    {
     "ename": "KeyError",
     "evalue": "'label'",
     "output_type": "error",
     "traceback": [
      "\u001b[0;31m---------------------------------------------------------------------------\u001b[0m",
      "\u001b[0;31mKeyError\u001b[0m                                  Traceback (most recent call last)",
      "\u001b[0;32m/Applications/anaconda/envs/py36/lib/python3.6/site-packages/pandas/core/indexes/base.py\u001b[0m in \u001b[0;36mget_loc\u001b[0;34m(self, key, method, tolerance)\u001b[0m\n\u001b[1;32m   2392\u001b[0m             \u001b[0;32mtry\u001b[0m\u001b[0;34m:\u001b[0m\u001b[0;34m\u001b[0m\u001b[0m\n\u001b[0;32m-> 2393\u001b[0;31m                 \u001b[0;32mreturn\u001b[0m \u001b[0mself\u001b[0m\u001b[0;34m.\u001b[0m\u001b[0m_engine\u001b[0m\u001b[0;34m.\u001b[0m\u001b[0mget_loc\u001b[0m\u001b[0;34m(\u001b[0m\u001b[0mkey\u001b[0m\u001b[0;34m)\u001b[0m\u001b[0;34m\u001b[0m\u001b[0m\n\u001b[0m\u001b[1;32m   2394\u001b[0m             \u001b[0;32mexcept\u001b[0m \u001b[0mKeyError\u001b[0m\u001b[0;34m:\u001b[0m\u001b[0;34m\u001b[0m\u001b[0m\n",
      "\u001b[0;32mpandas/_libs/index.pyx\u001b[0m in \u001b[0;36mpandas._libs.index.IndexEngine.get_loc (pandas/_libs/index.c:5239)\u001b[0;34m()\u001b[0m\n",
      "\u001b[0;32mpandas/_libs/index.pyx\u001b[0m in \u001b[0;36mpandas._libs.index.IndexEngine.get_loc (pandas/_libs/index.c:5085)\u001b[0;34m()\u001b[0m\n",
      "\u001b[0;32mpandas/_libs/hashtable_class_helper.pxi\u001b[0m in \u001b[0;36mpandas._libs.hashtable.PyObjectHashTable.get_item (pandas/_libs/hashtable.c:20405)\u001b[0;34m()\u001b[0m\n",
      "\u001b[0;32mpandas/_libs/hashtable_class_helper.pxi\u001b[0m in \u001b[0;36mpandas._libs.hashtable.PyObjectHashTable.get_item (pandas/_libs/hashtable.c:20359)\u001b[0;34m()\u001b[0m\n",
      "\u001b[0;31mKeyError\u001b[0m: 'label'",
      "\nDuring handling of the above exception, another exception occurred:\n",
      "\u001b[0;31mKeyError\u001b[0m                                  Traceback (most recent call last)",
      "\u001b[0;32m<ipython-input-236-834e01118fcd>\u001b[0m in \u001b[0;36m<module>\u001b[0;34m()\u001b[0m\n\u001b[0;32m----> 1\u001b[0;31m \u001b[0my\u001b[0m \u001b[0;34m=\u001b[0m \u001b[0mworking\u001b[0m\u001b[0;34m.\u001b[0m\u001b[0mpop\u001b[0m\u001b[0;34m(\u001b[0m\u001b[0;34m'label'\u001b[0m\u001b[0;34m)\u001b[0m\u001b[0;34m\u001b[0m\u001b[0m\n\u001b[0m\u001b[1;32m      2\u001b[0m \u001b[0;32mdel\u001b[0m \u001b[0mworking\u001b[0m\u001b[0;34m[\u001b[0m\u001b[0;34m'rating'\u001b[0m\u001b[0;34m]\u001b[0m\u001b[0;34m\u001b[0m\u001b[0m\n\u001b[1;32m      3\u001b[0m \u001b[0;31m# y = working.pop('log_rating')\u001b[0m\u001b[0;34m\u001b[0m\u001b[0;34m\u001b[0m\u001b[0m\n",
      "\u001b[0;32m/Applications/anaconda/envs/py36/lib/python3.6/site-packages/pandas/core/generic.py\u001b[0m in \u001b[0;36mpop\u001b[0;34m(self, item)\u001b[0m\n\u001b[1;32m    546\u001b[0m         \u001b[0mReturn\u001b[0m \u001b[0mitem\u001b[0m \u001b[0;32mand\u001b[0m \u001b[0mdrop\u001b[0m \u001b[0;32mfrom\u001b[0m \u001b[0mframe\u001b[0m\u001b[0;34m.\u001b[0m \u001b[0mRaise\u001b[0m \u001b[0mKeyError\u001b[0m \u001b[0;32mif\u001b[0m \u001b[0;32mnot\u001b[0m \u001b[0mfound\u001b[0m\u001b[0;34m.\u001b[0m\u001b[0;34m\u001b[0m\u001b[0m\n\u001b[1;32m    547\u001b[0m         \"\"\"\n\u001b[0;32m--> 548\u001b[0;31m         \u001b[0mresult\u001b[0m \u001b[0;34m=\u001b[0m \u001b[0mself\u001b[0m\u001b[0;34m[\u001b[0m\u001b[0mitem\u001b[0m\u001b[0;34m]\u001b[0m\u001b[0;34m\u001b[0m\u001b[0m\n\u001b[0m\u001b[1;32m    549\u001b[0m         \u001b[0;32mdel\u001b[0m \u001b[0mself\u001b[0m\u001b[0;34m[\u001b[0m\u001b[0mitem\u001b[0m\u001b[0;34m]\u001b[0m\u001b[0;34m\u001b[0m\u001b[0m\n\u001b[1;32m    550\u001b[0m         \u001b[0;32mtry\u001b[0m\u001b[0;34m:\u001b[0m\u001b[0;34m\u001b[0m\u001b[0m\n",
      "\u001b[0;32m/Applications/anaconda/envs/py36/lib/python3.6/site-packages/pandas/core/frame.py\u001b[0m in \u001b[0;36m__getitem__\u001b[0;34m(self, key)\u001b[0m\n\u001b[1;32m   2060\u001b[0m             \u001b[0;32mreturn\u001b[0m \u001b[0mself\u001b[0m\u001b[0;34m.\u001b[0m\u001b[0m_getitem_multilevel\u001b[0m\u001b[0;34m(\u001b[0m\u001b[0mkey\u001b[0m\u001b[0;34m)\u001b[0m\u001b[0;34m\u001b[0m\u001b[0m\n\u001b[1;32m   2061\u001b[0m         \u001b[0;32melse\u001b[0m\u001b[0;34m:\u001b[0m\u001b[0;34m\u001b[0m\u001b[0m\n\u001b[0;32m-> 2062\u001b[0;31m             \u001b[0;32mreturn\u001b[0m \u001b[0mself\u001b[0m\u001b[0;34m.\u001b[0m\u001b[0m_getitem_column\u001b[0m\u001b[0;34m(\u001b[0m\u001b[0mkey\u001b[0m\u001b[0;34m)\u001b[0m\u001b[0;34m\u001b[0m\u001b[0m\n\u001b[0m\u001b[1;32m   2063\u001b[0m \u001b[0;34m\u001b[0m\u001b[0m\n\u001b[1;32m   2064\u001b[0m     \u001b[0;32mdef\u001b[0m \u001b[0m_getitem_column\u001b[0m\u001b[0;34m(\u001b[0m\u001b[0mself\u001b[0m\u001b[0;34m,\u001b[0m \u001b[0mkey\u001b[0m\u001b[0;34m)\u001b[0m\u001b[0;34m:\u001b[0m\u001b[0;34m\u001b[0m\u001b[0m\n",
      "\u001b[0;32m/Applications/anaconda/envs/py36/lib/python3.6/site-packages/pandas/core/frame.py\u001b[0m in \u001b[0;36m_getitem_column\u001b[0;34m(self, key)\u001b[0m\n\u001b[1;32m   2067\u001b[0m         \u001b[0;31m# get column\u001b[0m\u001b[0;34m\u001b[0m\u001b[0;34m\u001b[0m\u001b[0m\n\u001b[1;32m   2068\u001b[0m         \u001b[0;32mif\u001b[0m \u001b[0mself\u001b[0m\u001b[0;34m.\u001b[0m\u001b[0mcolumns\u001b[0m\u001b[0;34m.\u001b[0m\u001b[0mis_unique\u001b[0m\u001b[0;34m:\u001b[0m\u001b[0;34m\u001b[0m\u001b[0m\n\u001b[0;32m-> 2069\u001b[0;31m             \u001b[0;32mreturn\u001b[0m \u001b[0mself\u001b[0m\u001b[0;34m.\u001b[0m\u001b[0m_get_item_cache\u001b[0m\u001b[0;34m(\u001b[0m\u001b[0mkey\u001b[0m\u001b[0;34m)\u001b[0m\u001b[0;34m\u001b[0m\u001b[0m\n\u001b[0m\u001b[1;32m   2070\u001b[0m \u001b[0;34m\u001b[0m\u001b[0m\n\u001b[1;32m   2071\u001b[0m         \u001b[0;31m# duplicate columns & possible reduce dimensionality\u001b[0m\u001b[0;34m\u001b[0m\u001b[0;34m\u001b[0m\u001b[0m\n",
      "\u001b[0;32m/Applications/anaconda/envs/py36/lib/python3.6/site-packages/pandas/core/generic.py\u001b[0m in \u001b[0;36m_get_item_cache\u001b[0;34m(self, item)\u001b[0m\n\u001b[1;32m   1532\u001b[0m         \u001b[0mres\u001b[0m \u001b[0;34m=\u001b[0m \u001b[0mcache\u001b[0m\u001b[0;34m.\u001b[0m\u001b[0mget\u001b[0m\u001b[0;34m(\u001b[0m\u001b[0mitem\u001b[0m\u001b[0;34m)\u001b[0m\u001b[0;34m\u001b[0m\u001b[0m\n\u001b[1;32m   1533\u001b[0m         \u001b[0;32mif\u001b[0m \u001b[0mres\u001b[0m \u001b[0;32mis\u001b[0m \u001b[0;32mNone\u001b[0m\u001b[0;34m:\u001b[0m\u001b[0;34m\u001b[0m\u001b[0m\n\u001b[0;32m-> 1534\u001b[0;31m             \u001b[0mvalues\u001b[0m \u001b[0;34m=\u001b[0m \u001b[0mself\u001b[0m\u001b[0;34m.\u001b[0m\u001b[0m_data\u001b[0m\u001b[0;34m.\u001b[0m\u001b[0mget\u001b[0m\u001b[0;34m(\u001b[0m\u001b[0mitem\u001b[0m\u001b[0;34m)\u001b[0m\u001b[0;34m\u001b[0m\u001b[0m\n\u001b[0m\u001b[1;32m   1535\u001b[0m             \u001b[0mres\u001b[0m \u001b[0;34m=\u001b[0m \u001b[0mself\u001b[0m\u001b[0;34m.\u001b[0m\u001b[0m_box_item_values\u001b[0m\u001b[0;34m(\u001b[0m\u001b[0mitem\u001b[0m\u001b[0;34m,\u001b[0m \u001b[0mvalues\u001b[0m\u001b[0;34m)\u001b[0m\u001b[0;34m\u001b[0m\u001b[0m\n\u001b[1;32m   1536\u001b[0m             \u001b[0mcache\u001b[0m\u001b[0;34m[\u001b[0m\u001b[0mitem\u001b[0m\u001b[0;34m]\u001b[0m \u001b[0;34m=\u001b[0m \u001b[0mres\u001b[0m\u001b[0;34m\u001b[0m\u001b[0m\n",
      "\u001b[0;32m/Applications/anaconda/envs/py36/lib/python3.6/site-packages/pandas/core/internals.py\u001b[0m in \u001b[0;36mget\u001b[0;34m(self, item, fastpath)\u001b[0m\n\u001b[1;32m   3588\u001b[0m \u001b[0;34m\u001b[0m\u001b[0m\n\u001b[1;32m   3589\u001b[0m             \u001b[0;32mif\u001b[0m \u001b[0;32mnot\u001b[0m \u001b[0misnull\u001b[0m\u001b[0;34m(\u001b[0m\u001b[0mitem\u001b[0m\u001b[0;34m)\u001b[0m\u001b[0;34m:\u001b[0m\u001b[0;34m\u001b[0m\u001b[0m\n\u001b[0;32m-> 3590\u001b[0;31m                 \u001b[0mloc\u001b[0m \u001b[0;34m=\u001b[0m \u001b[0mself\u001b[0m\u001b[0;34m.\u001b[0m\u001b[0mitems\u001b[0m\u001b[0;34m.\u001b[0m\u001b[0mget_loc\u001b[0m\u001b[0;34m(\u001b[0m\u001b[0mitem\u001b[0m\u001b[0;34m)\u001b[0m\u001b[0;34m\u001b[0m\u001b[0m\n\u001b[0m\u001b[1;32m   3591\u001b[0m             \u001b[0;32melse\u001b[0m\u001b[0;34m:\u001b[0m\u001b[0;34m\u001b[0m\u001b[0m\n\u001b[1;32m   3592\u001b[0m                 \u001b[0mindexer\u001b[0m \u001b[0;34m=\u001b[0m \u001b[0mnp\u001b[0m\u001b[0;34m.\u001b[0m\u001b[0marange\u001b[0m\u001b[0;34m(\u001b[0m\u001b[0mlen\u001b[0m\u001b[0;34m(\u001b[0m\u001b[0mself\u001b[0m\u001b[0;34m.\u001b[0m\u001b[0mitems\u001b[0m\u001b[0;34m)\u001b[0m\u001b[0;34m)\u001b[0m\u001b[0;34m[\u001b[0m\u001b[0misnull\u001b[0m\u001b[0;34m(\u001b[0m\u001b[0mself\u001b[0m\u001b[0;34m.\u001b[0m\u001b[0mitems\u001b[0m\u001b[0;34m)\u001b[0m\u001b[0;34m]\u001b[0m\u001b[0;34m\u001b[0m\u001b[0m\n",
      "\u001b[0;32m/Applications/anaconda/envs/py36/lib/python3.6/site-packages/pandas/core/indexes/base.py\u001b[0m in \u001b[0;36mget_loc\u001b[0;34m(self, key, method, tolerance)\u001b[0m\n\u001b[1;32m   2393\u001b[0m                 \u001b[0;32mreturn\u001b[0m \u001b[0mself\u001b[0m\u001b[0;34m.\u001b[0m\u001b[0m_engine\u001b[0m\u001b[0;34m.\u001b[0m\u001b[0mget_loc\u001b[0m\u001b[0;34m(\u001b[0m\u001b[0mkey\u001b[0m\u001b[0;34m)\u001b[0m\u001b[0;34m\u001b[0m\u001b[0m\n\u001b[1;32m   2394\u001b[0m             \u001b[0;32mexcept\u001b[0m \u001b[0mKeyError\u001b[0m\u001b[0;34m:\u001b[0m\u001b[0;34m\u001b[0m\u001b[0m\n\u001b[0;32m-> 2395\u001b[0;31m                 \u001b[0;32mreturn\u001b[0m \u001b[0mself\u001b[0m\u001b[0;34m.\u001b[0m\u001b[0m_engine\u001b[0m\u001b[0;34m.\u001b[0m\u001b[0mget_loc\u001b[0m\u001b[0;34m(\u001b[0m\u001b[0mself\u001b[0m\u001b[0;34m.\u001b[0m\u001b[0m_maybe_cast_indexer\u001b[0m\u001b[0;34m(\u001b[0m\u001b[0mkey\u001b[0m\u001b[0;34m)\u001b[0m\u001b[0;34m)\u001b[0m\u001b[0;34m\u001b[0m\u001b[0m\n\u001b[0m\u001b[1;32m   2396\u001b[0m \u001b[0;34m\u001b[0m\u001b[0m\n\u001b[1;32m   2397\u001b[0m         \u001b[0mindexer\u001b[0m \u001b[0;34m=\u001b[0m \u001b[0mself\u001b[0m\u001b[0;34m.\u001b[0m\u001b[0mget_indexer\u001b[0m\u001b[0;34m(\u001b[0m\u001b[0;34m[\u001b[0m\u001b[0mkey\u001b[0m\u001b[0;34m]\u001b[0m\u001b[0;34m,\u001b[0m \u001b[0mmethod\u001b[0m\u001b[0;34m=\u001b[0m\u001b[0mmethod\u001b[0m\u001b[0;34m,\u001b[0m \u001b[0mtolerance\u001b[0m\u001b[0;34m=\u001b[0m\u001b[0mtolerance\u001b[0m\u001b[0;34m)\u001b[0m\u001b[0;34m\u001b[0m\u001b[0m\n",
      "\u001b[0;32mpandas/_libs/index.pyx\u001b[0m in \u001b[0;36mpandas._libs.index.IndexEngine.get_loc (pandas/_libs/index.c:5239)\u001b[0;34m()\u001b[0m\n",
      "\u001b[0;32mpandas/_libs/index.pyx\u001b[0m in \u001b[0;36mpandas._libs.index.IndexEngine.get_loc (pandas/_libs/index.c:5085)\u001b[0;34m()\u001b[0m\n",
      "\u001b[0;32mpandas/_libs/hashtable_class_helper.pxi\u001b[0m in \u001b[0;36mpandas._libs.hashtable.PyObjectHashTable.get_item (pandas/_libs/hashtable.c:20405)\u001b[0;34m()\u001b[0m\n",
      "\u001b[0;32mpandas/_libs/hashtable_class_helper.pxi\u001b[0m in \u001b[0;36mpandas._libs.hashtable.PyObjectHashTable.get_item (pandas/_libs/hashtable.c:20359)\u001b[0;34m()\u001b[0m\n",
      "\u001b[0;31mKeyError\u001b[0m: 'label'"
     ]
    }
   ],
   "source": [
    "y = working.pop('label')\n",
    "del working['rating']\n",
    "# y = working.pop('log_rating')"
   ]
  },
  {
   "cell_type": "code",
   "execution_count": 218,
   "metadata": {},
   "outputs": [
    {
     "name": "stdout",
     "output_type": "stream",
     "text": [
      "<class 'pandas.core.frame.DataFrame'>\n",
      "Int64Index: 9233 entries, 0 to 9714\n",
      "Data columns (total 16 columns):\n",
      "beef              9233 non-null uint8\n",
      "chicken           9233 non-null uint8\n",
      "pork              9233 non-null uint8\n",
      "chicken_dish      9233 non-null uint8\n",
      "chicken_dish      9233 non-null uint8\n",
      "dessert_dish      9233 non-null uint8\n",
      "dessert_dish      9233 non-null uint8\n",
      "pork_dish         9233 non-null uint8\n",
      "pork_dish         9233 non-null uint8\n",
      "salad_dish        9233 non-null uint8\n",
      "salad_dish        9233 non-null uint8\n",
      "sausage_dish      9233 non-null uint8\n",
      "soup_dish         9233 non-null uint8\n",
      "soup_dish         9233 non-null uint8\n",
      "vegetable_dish    9233 non-null uint8\n",
      "vegetable_dish    9233 non-null uint8\n",
      "dtypes: uint8(16)\n",
      "memory usage: 536.4 KB\n"
     ]
    }
   ],
   "source": [
    "working.info()"
   ]
  },
  {
   "cell_type": "code",
   "execution_count": 219,
   "metadata": {
    "collapsed": true
   },
   "outputs": [],
   "source": [
    "X = working.values"
   ]
  },
  {
   "cell_type": "code",
   "execution_count": 220,
   "metadata": {
    "collapsed": true
   },
   "outputs": [],
   "source": [
    "X_train, X_test, y_train, y_test = train_test_split(X, y, test_size=0.33, random_state=42)"
   ]
  },
  {
   "cell_type": "code",
   "execution_count": 221,
   "metadata": {
    "collapsed": true
   },
   "outputs": [],
   "source": [
    "from sklearn.ensemble import GradientBoostingClassifier"
   ]
  },
  {
   "cell_type": "code",
   "execution_count": 222,
   "metadata": {
    "collapsed": true
   },
   "outputs": [],
   "source": [
    "gbc = GradientBoostingClassifier(n_estimators=200, learning_rate=0.1, max_features=\"auto\")"
   ]
  },
  {
   "cell_type": "code",
   "execution_count": 223,
   "metadata": {
    "collapsed": true
   },
   "outputs": [],
   "source": [
    "mod4 = gbc.fit(X_train, y_train)"
   ]
  },
  {
   "cell_type": "code",
   "execution_count": 224,
   "metadata": {},
   "outputs": [
    {
     "data": {
      "text/plain": [
       "0.70101739415818842"
      ]
     },
     "execution_count": 224,
     "metadata": {},
     "output_type": "execute_result"
    }
   ],
   "source": [
    "mod4.score(X_test, y_test)"
   ]
  },
  {
   "cell_type": "code",
   "execution_count": 225,
   "metadata": {},
   "outputs": [],
   "source": [
    "features = mod4.feature_importances_"
   ]
  },
  {
   "cell_type": "code",
   "execution_count": 226,
   "metadata": {
    "collapsed": true
   },
   "outputs": [],
   "source": [
    "y_pred = mod4.predict_proba(X_test)"
   ]
  },
  {
   "cell_type": "code",
   "execution_count": 227,
   "metadata": {
    "collapsed": true
   },
   "outputs": [],
   "source": [
    "from sklearn.metrics import precision_recall_curve"
   ]
  },
  {
   "cell_type": "code",
   "execution_count": 228,
   "metadata": {
    "collapsed": true
   },
   "outputs": [],
   "source": [
    "precision, recall, thresholds = precision_recall_curve(y_test, mod4.decision_function(X_test))"
   ]
  },
  {
   "cell_type": "code",
   "execution_count": 229,
   "metadata": {},
   "outputs": [
    {
     "name": "stdout",
     "output_type": "stream",
     "text": [
      "Average precision-recall score: 0.55\n"
     ]
    }
   ],
   "source": [
    "from sklearn.metrics import average_precision_score\n",
    "average_precision = average_precision_score(y_test, mod4.decision_function(X_test))\n",
    "\n",
    "print('Average precision-recall score: {0:0.2f}'.format(\n",
    "      average_precision))\n"
   ]
  },
  {
   "cell_type": "code",
   "execution_count": 230,
   "metadata": {
    "collapsed": true
   },
   "outputs": [],
   "source": [
    "from sklearn.metrics import roc_curve, auc"
   ]
  },
  {
   "cell_type": "code",
   "execution_count": 231,
   "metadata": {},
   "outputs": [
    {
     "data": {
      "image/png": "[encoded data removed]",
      "text/plain": [
       "<matplotlib.figure.Figure at 0x11e21beb8>"
      ]
     },
     "metadata": {},
     "output_type": "display_data"
    }
   ],
   "source": [
    "# features = mod4.feature_importances_\n",
    "indices = np.argsort(features)\n",
    "sorted_features = features[indices]\n",
    "y_pos = np.arange(len(sorted_features))\n",
    "labels = working.columns\n",
    "sorted_labels = labels[indices]\n",
    "fig, ax = plt.subplots(3, 1, figsize=(8, 12))\n",
    "ax[0].barh(y_pos, sorted_features, color='b')\n",
    "ax[0].set_yticks(y_pos)\n",
    "ax[0].set_yticklabels(sorted_labels, fontsize=10, fontweight='bold')\n",
    "ax[0].set_title('Important Features', fontweight='bold')\n",
    "preds = y_pred[:, 1]\n",
    "fpr, tpr, _ = roc_curve(y_test, preds)\n",
    "ax[1].scatter(x=fpr, y=tpr, s=1, c='r')\n",
    "ax[1].plot([0, 1], [0, 1], '--', c='b')\n",
    "ax[1].plot(fpr, tpr, '-', c='r')\n",
    "ax[1].set_ylim(0, 1)\n",
    "ax[1].set_xlim(0, 1)\n",
    "ax[1].set_xlabel('False Positive Rate', fontsize=10, fontweight='bold')\n",
    "ax[1].set_ylabel('True Positive Rate', fontsize=10, fontweight='bold')\n",
    "ax[1].set_title('Receiver Operating Characteristic', fontweight='bold')\n",
    "ax[2].step(recall, precision, color='b', alpha=0.2, where='post')\n",
    "ax[2].fill_between(recall, precision, step='post', alpha=0.2, color='b')\n",
    "ax[2].set_xlabel('Recall', fontsize=10, fontweight='bold')\n",
    "ax[2].set_ylabel('Precision', fontsize=10, fontweight='bold')\n",
    "ax[2].set_ylim([0.0, 1.05])\n",
    "ax[2].set_xlim([0.0, 1.0])\n",
    "ax[2].set_title('Recipe \"Popularity\" Precision-Recall curve: AUC={0:0.2f}'.format(average_precision), fontweight='bold')\n",
    "plt.grid(False)\n",
    "plt.tight_layout()\n",
    "plt.savefig('data/classifier_analysis.png')\n",
    "plt.show()"
   ]
  },
  {
   "cell_type": "code",
   "execution_count": null,
   "metadata": {
    "collapsed": true
   },
   "outputs": [],
   "source": []
  },
  {
   "cell_type": "code",
   "execution_count": null,
   "metadata": {
    "collapsed": true
   },
   "outputs": [],
   "source": []
  },
  {
   "cell_type": "code",
   "execution_count": null,
   "metadata": {
    "collapsed": true
   },
   "outputs": [],
   "source": []
  },
  {
   "cell_type": "markdown",
   "metadata": {},
   "source": [
    "## Linear modeling of data"
   ]
  },
  {
   "cell_type": "code",
   "execution_count": 234,
   "metadata": {
    "collapsed": true
   },
   "outputs": [],
   "source": [
    "from sklearn.model_selection import train_test_split"
   ]
  },
  {
   "cell_type": "code",
   "execution_count": 94,
   "metadata": {
    "collapsed": true
   },
   "outputs": [],
   "source": [
    "from sklearn.ensemble import GradientBoostingRegressor"
   ]
  },
  {
   "cell_type": "code",
   "execution_count": 99,
   "metadata": {
    "collapsed": true
   },
   "outputs": [],
   "source": [
    "working_linear = df2[['label','rating', 'beef', 'chicken', 'pork','beef_nmf', 'chicken_nmf', 'chocolate_cake_nmf', 'pork_nmf', 'potatoes_nmf', 'salad_nmf', 'soup_nmf']]"
   ]
  },
  {
   "cell_type": "code",
   "execution_count": 101,
   "metadata": {},
   "outputs": [
    {
     "name": "stderr",
     "output_type": "stream",
     "text": [
      "/Applications/anaconda/envs/py36/lib/python3.6/site-packages/ipykernel_launcher.py:4: SettingWithCopyWarning: \n",
      "A value is trying to be set on a copy of a slice from a DataFrame.\n",
      "Try using .loc[row_indexer,col_indexer] = value instead\n",
      "\n",
      "See the caveats in the documentation: http://pandas.pydata.org/pandas-docs/stable/indexing.html#indexing-view-versus-copy\n",
      "  after removing the cwd from sys.path.\n"
     ]
    }
   ],
   "source": [
    "import numpy as np\n",
    "def log_transform(col):\n",
    "    return np.log(col + 0.1)\n",
    "working_linear['log_rating'] = working_linear['rating'].apply(log_transform)"
   ]
  },
  {
   "cell_type": "code",
   "execution_count": 103,
   "metadata": {},
   "outputs": [],
   "source": [
    "y_straight = working_linear.pop('rating')"
   ]
  },
  {
   "cell_type": "code",
   "execution_count": 104,
   "metadata": {
    "collapsed": true
   },
   "outputs": [],
   "source": [
    "y_log = working_linear.pop('log_rating')"
   ]
  },
  {
   "cell_type": "code",
   "execution_count": 117,
   "metadata": {
    "collapsed": true
   },
   "outputs": [],
   "source": [
    "del working_linear['label']\n",
    "X2 = working_linear.values"
   ]
  },
  {
   "cell_type": "code",
   "execution_count": 118,
   "metadata": {
    "collapsed": true
   },
   "outputs": [],
   "source": [
    "X1_train, X1_test, y1_train, y1_test = train_test_split(X2, y_straight, random_state=13 ) "
   ]
  },
  {
   "cell_type": "code",
   "execution_count": 119,
   "metadata": {
    "collapsed": true
   },
   "outputs": [],
   "source": [
    "X2_train, X2_test, y2_train, y2_test = train_test_split(X2, y_log, random_state=13 ) "
   ]
  },
  {
   "cell_type": "code",
   "execution_count": 131,
   "metadata": {
    "collapsed": true
   },
   "outputs": [],
   "source": [
    "gbr = GradientBoostingRegressor(loss='huber', n_estimators=400,learning_rate=0.01, verbose=1)"
   ]
  },
  {
   "cell_type": "code",
   "execution_count": 132,
   "metadata": {},
   "outputs": [
    {
     "name": "stdout",
     "output_type": "stream",
     "text": [
      "      Iter       Train Loss   Remaining Time \n",
      "         1       36265.5989            2.34s\n",
      "         2       36148.9510            2.48s\n",
      "         3       36034.1243            2.68s\n",
      "         4       35921.0889            2.86s\n",
      "         5       35811.4279            2.88s\n",
      "         6       35706.0590            2.81s\n",
      "         7       35598.0686            2.87s\n",
      "         8       35493.2782            2.83s\n",
      "         9       35392.6906            2.77s\n",
      "        10       35289.4946            2.71s\n",
      "        20       34433.0510            2.35s\n",
      "        30       33763.4605            2.23s\n",
      "        40       33067.8402            2.14s\n",
      "        50       32489.3969            2.06s\n",
      "        60       32001.9483            1.98s\n",
      "        70       31625.0426            1.92s\n",
      "        80       31248.6966            1.85s\n",
      "        90       30916.9190            1.80s\n",
      "       100       30624.4312            1.75s\n",
      "       200       29059.0310            1.14s\n",
      "       300       28662.9378            0.56s\n",
      "       400       28485.8602            0.00s\n"
     ]
    }
   ],
   "source": [
    "straight = gbr.fit(X1_train, y1_train)"
   ]
  },
  {
   "cell_type": "code",
   "execution_count": 133,
   "metadata": {},
   "outputs": [
    {
     "data": {
      "text/plain": [
       "-0.011129692239035371"
      ]
     },
     "execution_count": 133,
     "metadata": {},
     "output_type": "execute_result"
    }
   ],
   "source": [
    "straight.score(X1_test, y1_test)"
   ]
  },
  {
   "cell_type": "code",
   "execution_count": 134,
   "metadata": {},
   "outputs": [
    {
     "data": {
      "text/plain": [
       "array([ 0.15002354,  0.18851563,  0.11458037,  0.03775283,  0.07970933,\n",
       "        0.05954676,  0.02549452,  0.11774253,  0.089794  ,  0.1368405 ])"
      ]
     },
     "execution_count": 134,
     "metadata": {},
     "output_type": "execute_result"
    }
   ],
   "source": [
    "straight.feature_importances_"
   ]
  },
  {
   "cell_type": "code",
   "execution_count": 135,
   "metadata": {},
   "outputs": [
    {
     "name": "stdout",
     "output_type": "stream",
     "text": [
      "      Iter       Train Loss   Remaining Time \n",
      "         1           2.7824            2.63s\n",
      "         2           2.7760            2.51s\n",
      "         3           2.7704            2.65s\n",
      "         4           2.7648            2.84s\n",
      "         5           2.7592            2.83s\n",
      "         6           2.7538            2.73s\n",
      "         7           2.7478            2.80s\n",
      "         8           2.7420            2.78s\n",
      "         9           2.7370            2.70s\n",
      "        10           2.7320            2.63s\n",
      "        20           2.6833            2.21s\n",
      "        30           2.6436            2.09s\n",
      "        40           2.6101            2.06s\n",
      "        50           2.5823            2.02s\n",
      "        60           2.5590            1.96s\n",
      "        70           2.5385            1.86s\n",
      "        80           2.5215            1.80s\n",
      "        90           2.5067            1.77s\n",
      "       100           2.4942            1.70s\n",
      "       200           2.4314            1.14s\n",
      "       300           2.4141            0.59s\n",
      "       400           2.4060            0.00s\n"
     ]
    }
   ],
   "source": [
    "log_mod = gbr.fit(X2_train, y2_train)"
   ]
  },
  {
   "cell_type": "code",
   "execution_count": 136,
   "metadata": {},
   "outputs": [
    {
     "data": {
      "text/plain": [
       "0.15286037596425794"
      ]
     },
     "execution_count": 136,
     "metadata": {},
     "output_type": "execute_result"
    }
   ],
   "source": [
    "log_mod.score(X2_test, y2_test)"
   ]
  },
  {
   "cell_type": "code",
   "execution_count": 137,
   "metadata": {},
   "outputs": [
    {
     "data": {
      "text/plain": [
       "array([ 0.14491739,  0.18879513,  0.11216608,  0.01500197,  0.10301019,\n",
       "        0.05907498,  0.02522444,  0.12154799,  0.09200277,  0.13825906])"
      ]
     },
     "execution_count": 137,
     "metadata": {},
     "output_type": "execute_result"
    }
   ],
   "source": [
    "log_mod.feature_importances_"
   ]
  },
  {
   "cell_type": "code",
   "execution_count": 127,
   "metadata": {},
   "outputs": [
    {
     "name": "stdout",
     "output_type": "stream",
     "text": [
      "<class 'pandas.core.frame.DataFrame'>\n",
      "Int64Index: 9233 entries, 0 to 9714\n",
      "Data columns (total 10 columns):\n",
      "beef                  9233 non-null uint8\n",
      "chicken               9233 non-null uint8\n",
      "pork                  9233 non-null uint8\n",
      "beef_nmf              9233 non-null uint8\n",
      "chicken_nmf           9233 non-null uint8\n",
      "chocolate_cake_nmf    9233 non-null uint8\n",
      "pork_nmf              9233 non-null uint8\n",
      "potatoes_nmf          9233 non-null uint8\n",
      "salad_nmf             9233 non-null uint8\n",
      "soup_nmf              9233 non-null uint8\n",
      "dtypes: uint8(10)\n",
      "memory usage: 482.3 KB\n"
     ]
    }
   ],
   "source": [
    "working_linear.info()"
   ]
  },
  {
   "cell_type": "markdown",
   "metadata": {},
   "source": [
    "# Distribution of # likes"
   ]
  },
  {
   "cell_type": "code",
   "execution_count": 150,
   "metadata": {},
   "outputs": [
    {
     "data": {
      "text/plain": [
       "<matplotlib.text.Text at 0x123d93d68>"
      ]
     },
     "execution_count": 150,
     "metadata": {},
     "output_type": "execute_result"
    },
    {
     "data": {
      "image/png": "[encoded data removed]",
      "text/plain": [
       "<matplotlib.figure.Figure at 0x1212bef28>"
      ]
     },
     "metadata": {},
     "output_type": "display_data"
    }
   ],
   "source": [
    "import matplotlib.pyplot as plt\n",
    "plt.style.use('ggplot')\n",
    "%matplotlib inline\n",
    "fig, ax = plt.subplots(figsize=(10,8))\n",
    "ax.hist(df2['rating'], bins=1000)\n",
    "ax.set_ylim([0, 1000])\n",
    "ax.set_xlim([-10, 500])\n",
    "ax.set_title('Distribution of Recipe \"Likes\"', fontsize=16, weight='bold', color='k')\n",
    "ax.set_xlabel('Number of \"Likes\" per Recipe', fontsize=14, weight='bold', color='k')\n",
    "ax.set_ylabel('Total Count', fontsize=14, weight='bold', color='k')\n",
    "# plt.savefig('data/distribution.png')"
   ]
  },
  {
   "cell_type": "code",
   "execution_count": 151,
   "metadata": {
    "collapsed": true
   },
   "outputs": [],
   "source": [
    "beef = df2['rating'].where(df2['category'] == 'beef')"
   ]
  },
  {
   "cell_type": "code",
   "execution_count": 152,
   "metadata": {
    "collapsed": true
   },
   "outputs": [],
   "source": [
    "beef.dropna(inplace=True)"
   ]
  },
  {
   "cell_type": "code",
   "execution_count": 153,
   "metadata": {
    "collapsed": true
   },
   "outputs": [],
   "source": [
    "beef_df = pd.DataFrame(beef)\n",
    "beef_df.reset_index(inplace=True)"
   ]
  },
  {
   "cell_type": "code",
   "execution_count": 154,
   "metadata": {
    "collapsed": true
   },
   "outputs": [],
   "source": [
    "chicken = df2['rating'].where(df2['category'] == 'chicken')"
   ]
  },
  {
   "cell_type": "code",
   "execution_count": 155,
   "metadata": {
    "collapsed": true
   },
   "outputs": [],
   "source": [
    "chicken.dropna(inplace=True)"
   ]
  },
  {
   "cell_type": "code",
   "execution_count": 156,
   "metadata": {
    "collapsed": true
   },
   "outputs": [],
   "source": [
    "pork = df2['rating'].where(df2['category'] == 'pork')"
   ]
  },
  {
   "cell_type": "code",
   "execution_count": 157,
   "metadata": {
    "collapsed": true
   },
   "outputs": [],
   "source": [
    "pork.dropna(inplace=True)"
   ]
  },
  {
   "cell_type": "code",
   "execution_count": 158,
   "metadata": {
    "collapsed": true
   },
   "outputs": [],
   "source": [
    "other = df2['rating'].where(df2['category'].isnull())"
   ]
  },
  {
   "cell_type": "code",
   "execution_count": 159,
   "metadata": {
    "collapsed": true
   },
   "outputs": [],
   "source": [
    "other.dropna(inplace=True)"
   ]
  },
  {
   "cell_type": "code",
   "execution_count": 160,
   "metadata": {
    "collapsed": true
   },
   "outputs": [],
   "source": [
    "chicken_df = pd.DataFrame(chicken)\n",
    "chicken_df.reset_index(inplace=True)\n",
    "pork_df = pd.DataFrame(pork)\n",
    "pork_df.reset_index(inplace=True)\n",
    "other_df = pd.DataFrame(other)\n",
    "other_df.reset_index(inplace=True)"
   ]
  },
  {
   "cell_type": "code",
   "execution_count": 161,
   "metadata": {},
   "outputs": [
    {
     "data": {
      "image/png": "[encoded data removed]",
      "text/plain": [
       "<matplotlib.figure.Figure at 0x1253cf9e8>"
      ]
     },
     "metadata": {},
     "output_type": "display_data"
    }
   ],
   "source": [
    "fig, axs = plt.subplots(2,2, figsize=(10,8))\n",
    "recipes = [beef_df, chicken_df, pork_df, other_df]\n",
    "titles = ['Beef', 'Chicken', 'Pork', 'Vegetarian']\n",
    "for idx, ax in enumerate(axs):\n",
    "    ax[0].hist(recipes[idx]['rating'], bins=500)\n",
    "    ax[1].hist(recipes[idx + 2]['rating'], bins=500)\n",
    "    ax[0].set_ylim([0, 1000])\n",
    "    ax[1].set_ylim([0, 1000])\n",
    "    ax[0].set_xlim([-10, 1000])\n",
    "    ax[1].set_xlim([-10, 1000])\n",
    "    ax[0].set_title(titles[idx], fontsize=12, weight='bold', color='k')\n",
    "    ax[1].set_title(titles[idx+2], fontsize=12, weight='bold', color='k')\n",
    "#     ax[idx].set_xlabel('Number of \"Likes\" per Recipe', fontsize=14, weight='bold', color='k')\n",
    "#     ax[idx].set_ylabel('Total Count', fontsize=14, weight='bold', color='k')\n",
    "#     plt.tight_layout()\n",
    "#     plt.savefig('data/distribution_ingredients.png')"
   ]
  },
  {
   "cell_type": "markdown",
   "metadata": {
    "collapsed": true
   },
   "source": [
    "($\\lambda = 1$) &nbsp;&nbsp;\n",
    "$pmf = \\frac{\\lambda^ke^{-\\lambda}}{k!}$"
   ]
  },
  {
   "cell_type": "code",
   "execution_count": null,
   "metadata": {
    "collapsed": true
   },
   "outputs": [],
   "source": []
  }
 ],
 "metadata": {
  "kernelspec": {
   "display_name": "Python 3",
   "language": "python",
   "name": "python3"
  },
  "language_info": {
   "codemirror_mode": {
    "name": "ipython",
    "version": 3
   },
   "file_extension": ".py",
   "mimetype": "text/x-python",
   "name": "python",
   "nbconvert_exporter": "python",
   "pygments_lexer": "ipython3",
   "version": "3.6.1"
  }
 },
 "nbformat": 4,
 "nbformat_minor": 2
}
