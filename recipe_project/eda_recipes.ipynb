{
 "cells": [
  {
   "cell_type": "code",
   "execution_count": 2,
   "metadata": {
    "collapsed": true
   },
   "outputs": [],
   "source": [
    "import pandas as pd"
   ]
  },
  {
   "cell_type": "code",
   "execution_count": 3,
   "metadata": {
    "collapsed": true
   },
   "outputs": [],
   "source": [
    "df = pd.read_csv('data/food52_scraped_data.csv')"
   ]
  },
  {
   "cell_type": "code",
   "execution_count": 4,
   "metadata": {},
   "outputs": [
    {
     "data": {
      "text/html": [
       "<div>\n",
       "<style>\n",
       "    .dataframe thead tr:only-child th {\n",
       "        text-align: right;\n",
       "    }\n",
       "\n",
       "    .dataframe thead th {\n",
       "        text-align: left;\n",
       "    }\n",
       "\n",
       "    .dataframe tbody tr th {\n",
       "        vertical-align: top;\n",
       "    }\n",
       "</style>\n",
       "<table border=\"1\" class=\"dataframe\">\n",
       "  <thead>\n",
       "    <tr style=\"text-align: right;\">\n",
       "      <th></th>\n",
       "      <th>_id</th>\n",
       "      <th>rating</th>\n",
       "      <th>recipe</th>\n",
       "      <th>title</th>\n",
       "      <th>weblink</th>\n",
       "    </tr>\n",
       "  </thead>\n",
       "  <tbody>\n",
       "    <tr>\n",
       "      <th>0</th>\n",
       "      <td>59d7cf29a980892888190548</td>\n",
       "      <td>14</td>\n",
       "      <td>2 tablespoons unsalted butter\\n1/4 cup diced y...</td>\n",
       "      <td>Austin Diner-Style Queso</td>\n",
       "      <td>https://food52.com/recipes/73529-austin-diner-...</td>\n",
       "    </tr>\n",
       "    <tr>\n",
       "      <th>1</th>\n",
       "      <td>59d7cf30a98089288819054a</td>\n",
       "      <td>29</td>\n",
       "      <td>1 pound shelled raw peanuts\\n1 tablespoon plus...</td>\n",
       "      <td>Mamba (Spicy Haitian Peanut Butter)</td>\n",
       "      <td>https://food52.com/recipes/73211-mamba-spicy-h...</td>\n",
       "    </tr>\n",
       "    <tr>\n",
       "      <th>2</th>\n",
       "      <td>59d7cf39a98089288819054c</td>\n",
       "      <td>2</td>\n",
       "      <td>2 cups (8 1/2 ounces) all-purpose flour\\n1/2 c...</td>\n",
       "      <td>Sheet Pan Muffins</td>\n",
       "      <td>https://food52.com/recipes/73548-sheet-pan-muf...</td>\n",
       "    </tr>\n",
       "    <tr>\n",
       "      <th>3</th>\n",
       "      <td>59d7cf3fa98089288819054e</td>\n",
       "      <td>92</td>\n",
       "      <td>1 1/2 cups (300g) Puy lentils, washed\\n4 clove...</td>\n",
       "      <td>Anna Jones' Favorite Lentils with Roasted Toma...</td>\n",
       "      <td>https://food52.com/recipes/73511-anna-jones-fa...</td>\n",
       "    </tr>\n",
       "    <tr>\n",
       "      <th>4</th>\n",
       "      <td>59d7cf48a980892888190550</td>\n",
       "      <td>3</td>\n",
       "      <td>2 ounces Seedlip Garden 108\\n0.75 ounces Lemon...</td>\n",
       "      <td>Seedlip's A Good Dill</td>\n",
       "      <td>https://food52.com/recipes/73252-seedlip-s-a-g...</td>\n",
       "    </tr>\n",
       "  </tbody>\n",
       "</table>\n",
       "</div>"
      ],
      "text/plain": [
       "                        _id  rating  \\\n",
       "0  59d7cf29a980892888190548      14   \n",
       "1  59d7cf30a98089288819054a      29   \n",
       "2  59d7cf39a98089288819054c       2   \n",
       "3  59d7cf3fa98089288819054e      92   \n",
       "4  59d7cf48a980892888190550       3   \n",
       "\n",
       "                                              recipe  \\\n",
       "0  2 tablespoons unsalted butter\\n1/4 cup diced y...   \n",
       "1  1 pound shelled raw peanuts\\n1 tablespoon plus...   \n",
       "2  2 cups (8 1/2 ounces) all-purpose flour\\n1/2 c...   \n",
       "3  1 1/2 cups (300g) Puy lentils, washed\\n4 clove...   \n",
       "4  2 ounces Seedlip Garden 108\\n0.75 ounces Lemon...   \n",
       "\n",
       "                                               title  \\\n",
       "0                           Austin Diner-Style Queso   \n",
       "1                Mamba (Spicy Haitian Peanut Butter)   \n",
       "2                                  Sheet Pan Muffins   \n",
       "3  Anna Jones' Favorite Lentils with Roasted Toma...   \n",
       "4                              Seedlip's A Good Dill   \n",
       "\n",
       "                                             weblink  \n",
       "0  https://food52.com/recipes/73529-austin-diner-...  \n",
       "1  https://food52.com/recipes/73211-mamba-spicy-h...  \n",
       "2  https://food52.com/recipes/73548-sheet-pan-muf...  \n",
       "3  https://food52.com/recipes/73511-anna-jones-fa...  \n",
       "4  https://food52.com/recipes/73252-seedlip-s-a-g...  "
      ]
     },
     "execution_count": 4,
     "metadata": {},
     "output_type": "execute_result"
    }
   ],
   "source": [
    "df.head()"
   ]
  },
  {
   "cell_type": "code",
   "execution_count": 5,
   "metadata": {},
   "outputs": [
    {
     "name": "stdout",
     "output_type": "stream",
     "text": [
      "<class 'pandas.core.frame.DataFrame'>\n",
      "RangeIndex: 9721 entries, 0 to 9720\n",
      "Data columns (total 5 columns):\n",
      "_id        9721 non-null object\n",
      "rating     9721 non-null int64\n",
      "recipe     9233 non-null object\n",
      "title      9721 non-null object\n",
      "weblink    9721 non-null object\n",
      "dtypes: int64(1), object(4)\n",
      "memory usage: 379.8+ KB\n"
     ]
    }
   ],
   "source": [
    "df.info()"
   ]
  },
  {
   "cell_type": "code",
   "execution_count": 6,
   "metadata": {
    "collapsed": true
   },
   "outputs": [],
   "source": [
    "import numpy as np\n",
    "import string"
   ]
  },
  {
   "cell_type": "code",
   "execution_count": 7,
   "metadata": {},
   "outputs": [],
   "source": [
    "def main_ingredient(col):\n",
    "    ingredients = ['pork', 'chicken', 'beef']\n",
    "    for item in ingredients:\n",
    "        if item in str(col):\n",
    "            return item\n",
    "        else:\n",
    "            continue"
   ]
  },
  {
   "cell_type": "code",
   "execution_count": 8,
   "metadata": {},
   "outputs": [],
   "source": [
    "df['category'] = df['recipe'].apply(main_ingredient)"
   ]
  },
  {
   "cell_type": "code",
   "execution_count": 9,
   "metadata": {},
   "outputs": [
    {
     "data": {
      "text/plain": [
       "chicken    2137\n",
       "pork        696\n",
       "beef        625\n",
       "Name: category, dtype: int64"
      ]
     },
     "execution_count": 9,
     "metadata": {},
     "output_type": "execute_result"
    }
   ],
   "source": [
    "df['category'].value_counts()"
   ]
  },
  {
   "cell_type": "code",
   "execution_count": 10,
   "metadata": {
    "collapsed": true
   },
   "outputs": [],
   "source": [
    "dummies = pd.get_dummies(df['category'])"
   ]
  },
  {
   "cell_type": "code",
   "execution_count": 11,
   "metadata": {},
   "outputs": [
    {
     "data": {
      "text/html": [
       "<div>\n",
       "<style>\n",
       "    .dataframe thead tr:only-child th {\n",
       "        text-align: right;\n",
       "    }\n",
       "\n",
       "    .dataframe thead th {\n",
       "        text-align: left;\n",
       "    }\n",
       "\n",
       "    .dataframe tbody tr th {\n",
       "        vertical-align: top;\n",
       "    }\n",
       "</style>\n",
       "<table border=\"1\" class=\"dataframe\">\n",
       "  <thead>\n",
       "    <tr style=\"text-align: right;\">\n",
       "      <th></th>\n",
       "      <th>beef</th>\n",
       "      <th>chicken</th>\n",
       "      <th>pork</th>\n",
       "    </tr>\n",
       "  </thead>\n",
       "  <tbody>\n",
       "    <tr>\n",
       "      <th>0</th>\n",
       "      <td>0</td>\n",
       "      <td>0</td>\n",
       "      <td>0</td>\n",
       "    </tr>\n",
       "    <tr>\n",
       "      <th>1</th>\n",
       "      <td>0</td>\n",
       "      <td>0</td>\n",
       "      <td>0</td>\n",
       "    </tr>\n",
       "    <tr>\n",
       "      <th>2</th>\n",
       "      <td>0</td>\n",
       "      <td>0</td>\n",
       "      <td>0</td>\n",
       "    </tr>\n",
       "    <tr>\n",
       "      <th>3</th>\n",
       "      <td>1</td>\n",
       "      <td>0</td>\n",
       "      <td>0</td>\n",
       "    </tr>\n",
       "    <tr>\n",
       "      <th>4</th>\n",
       "      <td>0</td>\n",
       "      <td>0</td>\n",
       "      <td>0</td>\n",
       "    </tr>\n",
       "  </tbody>\n",
       "</table>\n",
       "</div>"
      ],
      "text/plain": [
       "   beef  chicken  pork\n",
       "0     0        0     0\n",
       "1     0        0     0\n",
       "2     0        0     0\n",
       "3     1        0     0\n",
       "4     0        0     0"
      ]
     },
     "execution_count": 11,
     "metadata": {},
     "output_type": "execute_result"
    }
   ],
   "source": [
    "dummies.head()"
   ]
  },
  {
   "cell_type": "code",
   "execution_count": 12,
   "metadata": {},
   "outputs": [],
   "source": [
    "df2 = pd.concat([df,dummies], axis=1)"
   ]
  },
  {
   "cell_type": "code",
   "execution_count": 13,
   "metadata": {},
   "outputs": [
    {
     "data": {
      "text/html": [
       "<div>\n",
       "<style>\n",
       "    .dataframe thead tr:only-child th {\n",
       "        text-align: right;\n",
       "    }\n",
       "\n",
       "    .dataframe thead th {\n",
       "        text-align: left;\n",
       "    }\n",
       "\n",
       "    .dataframe tbody tr th {\n",
       "        vertical-align: top;\n",
       "    }\n",
       "</style>\n",
       "<table border=\"1\" class=\"dataframe\">\n",
       "  <thead>\n",
       "    <tr style=\"text-align: right;\">\n",
       "      <th></th>\n",
       "      <th>_id</th>\n",
       "      <th>rating</th>\n",
       "      <th>recipe</th>\n",
       "      <th>title</th>\n",
       "      <th>weblink</th>\n",
       "      <th>category</th>\n",
       "      <th>beef</th>\n",
       "      <th>chicken</th>\n",
       "      <th>pork</th>\n",
       "    </tr>\n",
       "  </thead>\n",
       "  <tbody>\n",
       "    <tr>\n",
       "      <th>0</th>\n",
       "      <td>59d7cf29a980892888190548</td>\n",
       "      <td>14</td>\n",
       "      <td>2 tablespoons unsalted butter\\n1/4 cup diced y...</td>\n",
       "      <td>Austin Diner-Style Queso</td>\n",
       "      <td>https://food52.com/recipes/73529-austin-diner-...</td>\n",
       "      <td>None</td>\n",
       "      <td>0</td>\n",
       "      <td>0</td>\n",
       "      <td>0</td>\n",
       "    </tr>\n",
       "    <tr>\n",
       "      <th>1</th>\n",
       "      <td>59d7cf30a98089288819054a</td>\n",
       "      <td>29</td>\n",
       "      <td>1 pound shelled raw peanuts\\n1 tablespoon plus...</td>\n",
       "      <td>Mamba (Spicy Haitian Peanut Butter)</td>\n",
       "      <td>https://food52.com/recipes/73211-mamba-spicy-h...</td>\n",
       "      <td>None</td>\n",
       "      <td>0</td>\n",
       "      <td>0</td>\n",
       "      <td>0</td>\n",
       "    </tr>\n",
       "    <tr>\n",
       "      <th>2</th>\n",
       "      <td>59d7cf39a98089288819054c</td>\n",
       "      <td>2</td>\n",
       "      <td>2 cups (8 1/2 ounces) all-purpose flour\\n1/2 c...</td>\n",
       "      <td>Sheet Pan Muffins</td>\n",
       "      <td>https://food52.com/recipes/73548-sheet-pan-muf...</td>\n",
       "      <td>None</td>\n",
       "      <td>0</td>\n",
       "      <td>0</td>\n",
       "      <td>0</td>\n",
       "    </tr>\n",
       "    <tr>\n",
       "      <th>3</th>\n",
       "      <td>59d7cf3fa98089288819054e</td>\n",
       "      <td>92</td>\n",
       "      <td>1 1/2 cups (300g) Puy lentils, washed\\n4 clove...</td>\n",
       "      <td>Anna Jones' Favorite Lentils with Roasted Toma...</td>\n",
       "      <td>https://food52.com/recipes/73511-anna-jones-fa...</td>\n",
       "      <td>beef</td>\n",
       "      <td>1</td>\n",
       "      <td>0</td>\n",
       "      <td>0</td>\n",
       "    </tr>\n",
       "    <tr>\n",
       "      <th>4</th>\n",
       "      <td>59d7cf48a980892888190550</td>\n",
       "      <td>3</td>\n",
       "      <td>2 ounces Seedlip Garden 108\\n0.75 ounces Lemon...</td>\n",
       "      <td>Seedlip's A Good Dill</td>\n",
       "      <td>https://food52.com/recipes/73252-seedlip-s-a-g...</td>\n",
       "      <td>None</td>\n",
       "      <td>0</td>\n",
       "      <td>0</td>\n",
       "      <td>0</td>\n",
       "    </tr>\n",
       "  </tbody>\n",
       "</table>\n",
       "</div>"
      ],
      "text/plain": [
       "                        _id  rating  \\\n",
       "0  59d7cf29a980892888190548      14   \n",
       "1  59d7cf30a98089288819054a      29   \n",
       "2  59d7cf39a98089288819054c       2   \n",
       "3  59d7cf3fa98089288819054e      92   \n",
       "4  59d7cf48a980892888190550       3   \n",
       "\n",
       "                                              recipe  \\\n",
       "0  2 tablespoons unsalted butter\\n1/4 cup diced y...   \n",
       "1  1 pound shelled raw peanuts\\n1 tablespoon plus...   \n",
       "2  2 cups (8 1/2 ounces) all-purpose flour\\n1/2 c...   \n",
       "3  1 1/2 cups (300g) Puy lentils, washed\\n4 clove...   \n",
       "4  2 ounces Seedlip Garden 108\\n0.75 ounces Lemon...   \n",
       "\n",
       "                                               title  \\\n",
       "0                           Austin Diner-Style Queso   \n",
       "1                Mamba (Spicy Haitian Peanut Butter)   \n",
       "2                                  Sheet Pan Muffins   \n",
       "3  Anna Jones' Favorite Lentils with Roasted Toma...   \n",
       "4                              Seedlip's A Good Dill   \n",
       "\n",
       "                                             weblink category  beef  chicken  \\\n",
       "0  https://food52.com/recipes/73529-austin-diner-...     None     0        0   \n",
       "1  https://food52.com/recipes/73211-mamba-spicy-h...     None     0        0   \n",
       "2  https://food52.com/recipes/73548-sheet-pan-muf...     None     0        0   \n",
       "3  https://food52.com/recipes/73511-anna-jones-fa...     beef     1        0   \n",
       "4  https://food52.com/recipes/73252-seedlip-s-a-g...     None     0        0   \n",
       "\n",
       "   pork  \n",
       "0     0  \n",
       "1     0  \n",
       "2     0  \n",
       "3     0  \n",
       "4     0  "
      ]
     },
     "execution_count": 13,
     "metadata": {},
     "output_type": "execute_result"
    }
   ],
   "source": [
    "df2.head()"
   ]
  },
  {
   "cell_type": "code",
   "execution_count": 14,
   "metadata": {
    "collapsed": true
   },
   "outputs": [],
   "source": [
    "del df2['_id']"
   ]
  },
  {
   "cell_type": "code",
   "execution_count": 15,
   "metadata": {},
   "outputs": [
    {
     "name": "stdout",
     "output_type": "stream",
     "text": [
      "<class 'pandas.core.frame.DataFrame'>\n",
      "RangeIndex: 9721 entries, 0 to 9720\n",
      "Data columns (total 8 columns):\n",
      "rating      9721 non-null int64\n",
      "recipe      9233 non-null object\n",
      "title       9721 non-null object\n",
      "weblink     9721 non-null object\n",
      "category    3458 non-null object\n",
      "beef        9721 non-null uint8\n",
      "chicken     9721 non-null uint8\n",
      "pork        9721 non-null uint8\n",
      "dtypes: int64(1), object(4), uint8(3)\n",
      "memory usage: 408.3+ KB\n"
     ]
    }
   ],
   "source": [
    "df2.info()"
   ]
  },
  {
   "cell_type": "code",
   "execution_count": 36,
   "metadata": {},
   "outputs": [
    {
     "data": {
      "text/plain": [
       "True     6263\n",
       "False    3458\n",
       "Name: category, dtype: int64"
      ]
     },
     "execution_count": 36,
     "metadata": {},
     "output_type": "execute_result"
    }
   ],
   "source": [
    "df2['category'].isnull().value_counts()"
   ]
  },
  {
   "cell_type": "code",
   "execution_count": 17,
   "metadata": {},
   "outputs": [
    {
     "data": {
      "text/plain": [
       "rating                                                      8\n",
       "recipe                                                    NaN\n",
       "title               Savory Squash Soup with Parmesan Croutons\n",
       "weblink     https://food52.com/recipes/14982-savory-squash...\n",
       "category                                                 None\n",
       "beef                                                        0\n",
       "chicken                                                     0\n",
       "pork                                                        0\n",
       "Name: 9718, dtype: object"
      ]
     },
     "execution_count": 17,
     "metadata": {},
     "output_type": "execute_result"
    }
   ],
   "source": [
    "df2.iloc[9718]"
   ]
  },
  {
   "cell_type": "code",
   "execution_count": 46,
   "metadata": {},
   "outputs": [
    {
     "data": {
      "image/png": "[encoded data removed]",
      "text/plain": [
       "<matplotlib.figure.Figure at 0x1212bee80>"
      ]
     },
     "metadata": {},
     "output_type": "display_data"
    }
   ],
   "source": [
    "import matplotlib.pyplot as plt\n",
    "plt.style.use('ggplot')\n",
    "%matplotlib inline\n",
    "fig, ax = plt.subplots(figsize=(10,8))\n",
    "ax.hist(df2['rating'], bins=1000)\n",
    "ax.set_ylim([0, 1000])\n",
    "ax.set_xlim([-10, 500])\n",
    "ax.set_title('Distribution of Recipe \"Likes\"', fontsize=16, weight='bold', color='k')\n",
    "ax.set_xlabel('Number of \"Likes\" per Recipe', fontsize=14, weight='bold', color='k')\n",
    "ax.set_ylabel('Total Count', fontsize=14, weight='bold', color='k')\n",
    "plt.savefig('data/distribution.png')"
   ]
  },
  {
   "cell_type": "code",
   "execution_count": 20,
   "metadata": {
    "collapsed": true
   },
   "outputs": [],
   "source": [
    "beef = df2['rating'].where(df2['category'] == 'beef')"
   ]
  },
  {
   "cell_type": "code",
   "execution_count": 22,
   "metadata": {},
   "outputs": [],
   "source": [
    "beef.dropna(inplace=True)"
   ]
  },
  {
   "cell_type": "code",
   "execution_count": 59,
   "metadata": {},
   "outputs": [],
   "source": [
    "beef_df = pd.DataFrame(beef)\n",
    "beef_df.reset_index(inplace=True)"
   ]
  },
  {
   "cell_type": "code",
   "execution_count": 24,
   "metadata": {},
   "outputs": [],
   "source": [
    "chicken = df2['rating'].where(df2['category'] == 'chicken')"
   ]
  },
  {
   "cell_type": "code",
   "execution_count": 25,
   "metadata": {
    "collapsed": true
   },
   "outputs": [],
   "source": [
    "chicken.dropna(inplace=True)"
   ]
  },
  {
   "cell_type": "code",
   "execution_count": 27,
   "metadata": {
    "collapsed": true
   },
   "outputs": [],
   "source": [
    "pork = df2['rating'].where(df2['category'] == 'pork')"
   ]
  },
  {
   "cell_type": "code",
   "execution_count": 28,
   "metadata": {
    "collapsed": true
   },
   "outputs": [],
   "source": [
    "pork.dropna(inplace=True)"
   ]
  },
  {
   "cell_type": "code",
   "execution_count": 37,
   "metadata": {},
   "outputs": [],
   "source": [
    "other = df2['rating'].where(df2['category'].isnull())"
   ]
  },
  {
   "cell_type": "code",
   "execution_count": 38,
   "metadata": {},
   "outputs": [],
   "source": [
    "other.dropna(inplace=True)"
   ]
  },
  {
   "cell_type": "code",
   "execution_count": 65,
   "metadata": {
    "collapsed": true
   },
   "outputs": [],
   "source": [
    "chicken_df = pd.DataFrame(chicken)\n",
    "chicken_df.reset_index(inplace=True)\n",
    "pork_df = pd.DataFrame(pork)\n",
    "pork_df.reset_index(inplace=True)\n",
    "other_df = pd.DataFrame(other)\n",
    "other_df.reset_index(inplace=True)"
   ]
  },
  {
   "cell_type": "code",
   "execution_count": 128,
   "metadata": {},
   "outputs": [
    {
     "data": {
      "image/png": "[encoded data removed]",
      "text/plain": [
       "<matplotlib.figure.Figure at 0x122ecc4e0>"
      ]
     },
     "metadata": {},
     "output_type": "display_data"
    }
   ],
   "source": [
    "fig, axs = plt.subplots(2,2, figsize=(10,8))\n",
    "recipes = [beef_df, chicken_df, pork_df, other_df]\n",
    "titles = ['Beef', 'Chicken', 'Pork', 'Vegetarian']\n",
    "for idx, ax in enumerate(axs):\n",
    "    ax[0].hist(recipes[idx]['rating'], bins=500)\n",
    "    ax[1].hist(recipes[idx + 2]['rating'], bins=500)\n",
    "    ax[0].set_ylim([0, 1000])\n",
    "    ax[1].set_ylim([0, 1000])\n",
    "    ax[0].set_xlim([-10, 1000])\n",
    "    ax[1].set_xlim([-10, 1000])\n",
    "    ax[0].set_title(titles[idx], fontsize=12, weight='bold', color='k')\n",
    "    ax[1].set_title(titles[idx+2], fontsize=12, weight='bold', color='k')\n",
    "#     ax[idx].set_xlabel('Number of \"Likes\" per Recipe', fontsize=14, weight='bold', color='k')\n",
    "#     ax[idx].set_ylabel('Total Count', fontsize=14, weight='bold', color='k')\n",
    "#     plt.tight_layout()\n",
    "    plt.savefig('data/distribution_ingredients.png')"
   ]
  },
  {
   "cell_type": "code",
   "execution_count": 86,
   "metadata": {},
   "outputs": [
    {
     "data": {
      "text/plain": [
       "(array([ 645.,   21.,    9.,    8.,    5.,    1.,    2.,    1.,    1.,\n",
       "           0.,    0.,    0.,    1.,    1.,    0.,    0.,    0.,    0.,\n",
       "           0.,    1.]),\n",
       " array([    0.  ,   343.55,   687.1 ,  1030.65,  1374.2 ,  1717.75,\n",
       "         2061.3 ,  2404.85,  2748.4 ,  3091.95,  3435.5 ,  3779.05,\n",
       "         4122.6 ,  4466.15,  4809.7 ,  5153.25,  5496.8 ,  5840.35,\n",
       "         6183.9 ,  6527.45,  6871.  ]),\n",
       " <a list of 20 Patch objects>)"
      ]
     },
     "execution_count": 86,
     "metadata": {},
     "output_type": "execute_result"
    },
    {
     "data": {
      "image/png": "[encoded data removed]",
      "text/plain": [
       "<matplotlib.figure.Figure at 0x12372f828>"
      ]
     },
     "metadata": {},
     "output_type": "display_data"
    }
   ],
   "source": [
    "fig, ax = plt.subplots()\n",
    "ax.hist(pork_df['rating'], bins=20)"
   ]
  },
  {
   "cell_type": "code",
   "execution_count": null,
   "metadata": {
    "collapsed": true
   },
   "outputs": [],
   "source": []
  }
 ],
 "metadata": {
  "kernelspec": {
   "display_name": "Python 3",
   "language": "python",
   "name": "python3"
  },
  "language_info": {
   "codemirror_mode": {
    "name": "ipython",
    "version": 3
   },
   "file_extension": ".py",
   "mimetype": "text/x-python",
   "name": "python",
   "nbconvert_exporter": "python",
   "pygments_lexer": "ipython3",
   "version": "3.6.1"
  }
 },
 "nbformat": 4,
 "nbformat_minor": 2
}
