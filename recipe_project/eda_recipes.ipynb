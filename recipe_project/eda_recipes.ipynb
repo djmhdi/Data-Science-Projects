{
 "cells": [
  {
   "cell_type": "code",
   "execution_count": 1,
   "metadata": {
    "collapsed": true
   },
   "outputs": [],
   "source": [
    "import pandas as pd"
   ]
  },
  {
   "cell_type": "code",
   "execution_count": 2,
   "metadata": {
    "collapsed": true
   },
   "outputs": [],
   "source": [
    "df = pd.read_csv('data/food52_scraped_data.csv')"
   ]
  },
  {
   "cell_type": "code",
   "execution_count": 3,
   "metadata": {},
   "outputs": [
    {
     "data": {
      "text/html": [
       "<div>\n",
       "<style>\n",
       "    .dataframe thead tr:only-child th {\n",
       "        text-align: right;\n",
       "    }\n",
       "\n",
       "    .dataframe thead th {\n",
       "        text-align: left;\n",
       "    }\n",
       "\n",
       "    .dataframe tbody tr th {\n",
       "        vertical-align: top;\n",
       "    }\n",
       "</style>\n",
       "<table border=\"1\" class=\"dataframe\">\n",
       "  <thead>\n",
       "    <tr style=\"text-align: right;\">\n",
       "      <th></th>\n",
       "      <th>_id</th>\n",
       "      <th>rating</th>\n",
       "      <th>recipe</th>\n",
       "      <th>title</th>\n",
       "      <th>weblink</th>\n",
       "    </tr>\n",
       "  </thead>\n",
       "  <tbody>\n",
       "    <tr>\n",
       "      <th>0</th>\n",
       "      <td>59d7cf29a980892888190548</td>\n",
       "      <td>14</td>\n",
       "      <td>2 tablespoons unsalted butter\\n1/4 cup diced y...</td>\n",
       "      <td>Austin Diner-Style Queso</td>\n",
       "      <td>https://food52.com/recipes/73529-austin-diner-...</td>\n",
       "    </tr>\n",
       "    <tr>\n",
       "      <th>1</th>\n",
       "      <td>59d7cf30a98089288819054a</td>\n",
       "      <td>29</td>\n",
       "      <td>1 pound shelled raw peanuts\\n1 tablespoon plus...</td>\n",
       "      <td>Mamba (Spicy Haitian Peanut Butter)</td>\n",
       "      <td>https://food52.com/recipes/73211-mamba-spicy-h...</td>\n",
       "    </tr>\n",
       "    <tr>\n",
       "      <th>2</th>\n",
       "      <td>59d7cf39a98089288819054c</td>\n",
       "      <td>2</td>\n",
       "      <td>2 cups (8 1/2 ounces) all-purpose flour\\n1/2 c...</td>\n",
       "      <td>Sheet Pan Muffins</td>\n",
       "      <td>https://food52.com/recipes/73548-sheet-pan-muf...</td>\n",
       "    </tr>\n",
       "    <tr>\n",
       "      <th>3</th>\n",
       "      <td>59d7cf3fa98089288819054e</td>\n",
       "      <td>92</td>\n",
       "      <td>1 1/2 cups (300g) Puy lentils, washed\\n4 clove...</td>\n",
       "      <td>Anna Jones' Favorite Lentils with Roasted Toma...</td>\n",
       "      <td>https://food52.com/recipes/73511-anna-jones-fa...</td>\n",
       "    </tr>\n",
       "    <tr>\n",
       "      <th>4</th>\n",
       "      <td>59d7cf48a980892888190550</td>\n",
       "      <td>3</td>\n",
       "      <td>2 ounces Seedlip Garden 108\\n0.75 ounces Lemon...</td>\n",
       "      <td>Seedlip's A Good Dill</td>\n",
       "      <td>https://food52.com/recipes/73252-seedlip-s-a-g...</td>\n",
       "    </tr>\n",
       "  </tbody>\n",
       "</table>\n",
       "</div>"
      ],
      "text/plain": [
       "                        _id  rating  \\\n",
       "0  59d7cf29a980892888190548      14   \n",
       "1  59d7cf30a98089288819054a      29   \n",
       "2  59d7cf39a98089288819054c       2   \n",
       "3  59d7cf3fa98089288819054e      92   \n",
       "4  59d7cf48a980892888190550       3   \n",
       "\n",
       "                                              recipe  \\\n",
       "0  2 tablespoons unsalted butter\\n1/4 cup diced y...   \n",
       "1  1 pound shelled raw peanuts\\n1 tablespoon plus...   \n",
       "2  2 cups (8 1/2 ounces) all-purpose flour\\n1/2 c...   \n",
       "3  1 1/2 cups (300g) Puy lentils, washed\\n4 clove...   \n",
       "4  2 ounces Seedlip Garden 108\\n0.75 ounces Lemon...   \n",
       "\n",
       "                                               title  \\\n",
       "0                           Austin Diner-Style Queso   \n",
       "1                Mamba (Spicy Haitian Peanut Butter)   \n",
       "2                                  Sheet Pan Muffins   \n",
       "3  Anna Jones' Favorite Lentils with Roasted Toma...   \n",
       "4                              Seedlip's A Good Dill   \n",
       "\n",
       "                                             weblink  \n",
       "0  https://food52.com/recipes/73529-austin-diner-...  \n",
       "1  https://food52.com/recipes/73211-mamba-spicy-h...  \n",
       "2  https://food52.com/recipes/73548-sheet-pan-muf...  \n",
       "3  https://food52.com/recipes/73511-anna-jones-fa...  \n",
       "4  https://food52.com/recipes/73252-seedlip-s-a-g...  "
      ]
     },
     "execution_count": 3,
     "metadata": {},
     "output_type": "execute_result"
    }
   ],
   "source": [
    "df.head()"
   ]
  },
  {
   "cell_type": "code",
   "execution_count": 4,
   "metadata": {},
   "outputs": [
    {
     "name": "stdout",
     "output_type": "stream",
     "text": [
      "<class 'pandas.core.frame.DataFrame'>\n",
      "RangeIndex: 9721 entries, 0 to 9720\n",
      "Data columns (total 5 columns):\n",
      "_id        9721 non-null object\n",
      "rating     9721 non-null int64\n",
      "recipe     9233 non-null object\n",
      "title      9721 non-null object\n",
      "weblink    9721 non-null object\n",
      "dtypes: int64(1), object(4)\n",
      "memory usage: 379.8+ KB\n"
     ]
    }
   ],
   "source": [
    "df.info()"
   ]
  },
  {
   "cell_type": "code",
   "execution_count": 5,
   "metadata": {
    "collapsed": true
   },
   "outputs": [],
   "source": [
    "import numpy as np\n",
    "import string"
   ]
  },
  {
   "cell_type": "code",
   "execution_count": 12,
   "metadata": {},
   "outputs": [],
   "source": [
    "def main_ingredient(col):\n",
    "    ingredients = ['pork', 'chicken', 'beef']\n",
    "    for item in ingredients:\n",
    "        if item in str(col):\n",
    "            return item\n",
    "        else:\n",
    "            continue"
   ]
  },
  {
   "cell_type": "code",
   "execution_count": 13,
   "metadata": {},
   "outputs": [],
   "source": [
    "df['category'] = df['recipe'].apply(main_ingredient)"
   ]
  },
  {
   "cell_type": "code",
   "execution_count": 15,
   "metadata": {},
   "outputs": [
    {
     "data": {
      "text/plain": [
       "chicken    2137\n",
       "pork        696\n",
       "beef        625\n",
       "Name: category, dtype: int64"
      ]
     },
     "execution_count": 15,
     "metadata": {},
     "output_type": "execute_result"
    }
   ],
   "source": [
    "df['category'].value_counts()"
   ]
  },
  {
   "cell_type": "code",
   "execution_count": 16,
   "metadata": {
    "collapsed": true
   },
   "outputs": [],
   "source": [
    "dummies = pd.get_dummies(df['category'])"
   ]
  },
  {
   "cell_type": "code",
   "execution_count": 18,
   "metadata": {},
   "outputs": [
    {
     "data": {
      "text/html": [
       "<div>\n",
       "<style>\n",
       "    .dataframe thead tr:only-child th {\n",
       "        text-align: right;\n",
       "    }\n",
       "\n",
       "    .dataframe thead th {\n",
       "        text-align: left;\n",
       "    }\n",
       "\n",
       "    .dataframe tbody tr th {\n",
       "        vertical-align: top;\n",
       "    }\n",
       "</style>\n",
       "<table border=\"1\" class=\"dataframe\">\n",
       "  <thead>\n",
       "    <tr style=\"text-align: right;\">\n",
       "      <th></th>\n",
       "      <th>beef</th>\n",
       "      <th>chicken</th>\n",
       "      <th>pork</th>\n",
       "    </tr>\n",
       "  </thead>\n",
       "  <tbody>\n",
       "    <tr>\n",
       "      <th>0</th>\n",
       "      <td>0</td>\n",
       "      <td>0</td>\n",
       "      <td>0</td>\n",
       "    </tr>\n",
       "    <tr>\n",
       "      <th>1</th>\n",
       "      <td>0</td>\n",
       "      <td>0</td>\n",
       "      <td>0</td>\n",
       "    </tr>\n",
       "    <tr>\n",
       "      <th>2</th>\n",
       "      <td>0</td>\n",
       "      <td>0</td>\n",
       "      <td>0</td>\n",
       "    </tr>\n",
       "    <tr>\n",
       "      <th>3</th>\n",
       "      <td>1</td>\n",
       "      <td>0</td>\n",
       "      <td>0</td>\n",
       "    </tr>\n",
       "    <tr>\n",
       "      <th>4</th>\n",
       "      <td>0</td>\n",
       "      <td>0</td>\n",
       "      <td>0</td>\n",
       "    </tr>\n",
       "  </tbody>\n",
       "</table>\n",
       "</div>"
      ],
      "text/plain": [
       "   beef  chicken  pork\n",
       "0     0        0     0\n",
       "1     0        0     0\n",
       "2     0        0     0\n",
       "3     1        0     0\n",
       "4     0        0     0"
      ]
     },
     "execution_count": 18,
     "metadata": {},
     "output_type": "execute_result"
    }
   ],
   "source": [
    "dummies.head()"
   ]
  },
  {
   "cell_type": "code",
   "execution_count": 23,
   "metadata": {},
   "outputs": [],
   "source": [
    "df2 = pd.concat([df,dummies], axis=1)"
   ]
  },
  {
   "cell_type": "code",
   "execution_count": 24,
   "metadata": {},
   "outputs": [
    {
     "data": {
      "text/html": [
       "<div>\n",
       "<style>\n",
       "    .dataframe thead tr:only-child th {\n",
       "        text-align: right;\n",
       "    }\n",
       "\n",
       "    .dataframe thead th {\n",
       "        text-align: left;\n",
       "    }\n",
       "\n",
       "    .dataframe tbody tr th {\n",
       "        vertical-align: top;\n",
       "    }\n",
       "</style>\n",
       "<table border=\"1\" class=\"dataframe\">\n",
       "  <thead>\n",
       "    <tr style=\"text-align: right;\">\n",
       "      <th></th>\n",
       "      <th>_id</th>\n",
       "      <th>rating</th>\n",
       "      <th>recipe</th>\n",
       "      <th>title</th>\n",
       "      <th>weblink</th>\n",
       "      <th>category</th>\n",
       "      <th>beef</th>\n",
       "      <th>chicken</th>\n",
       "      <th>pork</th>\n",
       "    </tr>\n",
       "  </thead>\n",
       "  <tbody>\n",
       "    <tr>\n",
       "      <th>0</th>\n",
       "      <td>59d7cf29a980892888190548</td>\n",
       "      <td>14</td>\n",
       "      <td>2 tablespoons unsalted butter\\n1/4 cup diced y...</td>\n",
       "      <td>Austin Diner-Style Queso</td>\n",
       "      <td>https://food52.com/recipes/73529-austin-diner-...</td>\n",
       "      <td>None</td>\n",
       "      <td>0</td>\n",
       "      <td>0</td>\n",
       "      <td>0</td>\n",
       "    </tr>\n",
       "    <tr>\n",
       "      <th>1</th>\n",
       "      <td>59d7cf30a98089288819054a</td>\n",
       "      <td>29</td>\n",
       "      <td>1 pound shelled raw peanuts\\n1 tablespoon plus...</td>\n",
       "      <td>Mamba (Spicy Haitian Peanut Butter)</td>\n",
       "      <td>https://food52.com/recipes/73211-mamba-spicy-h...</td>\n",
       "      <td>None</td>\n",
       "      <td>0</td>\n",
       "      <td>0</td>\n",
       "      <td>0</td>\n",
       "    </tr>\n",
       "    <tr>\n",
       "      <th>2</th>\n",
       "      <td>59d7cf39a98089288819054c</td>\n",
       "      <td>2</td>\n",
       "      <td>2 cups (8 1/2 ounces) all-purpose flour\\n1/2 c...</td>\n",
       "      <td>Sheet Pan Muffins</td>\n",
       "      <td>https://food52.com/recipes/73548-sheet-pan-muf...</td>\n",
       "      <td>None</td>\n",
       "      <td>0</td>\n",
       "      <td>0</td>\n",
       "      <td>0</td>\n",
       "    </tr>\n",
       "    <tr>\n",
       "      <th>3</th>\n",
       "      <td>59d7cf3fa98089288819054e</td>\n",
       "      <td>92</td>\n",
       "      <td>1 1/2 cups (300g) Puy lentils, washed\\n4 clove...</td>\n",
       "      <td>Anna Jones' Favorite Lentils with Roasted Toma...</td>\n",
       "      <td>https://food52.com/recipes/73511-anna-jones-fa...</td>\n",
       "      <td>beef</td>\n",
       "      <td>1</td>\n",
       "      <td>0</td>\n",
       "      <td>0</td>\n",
       "    </tr>\n",
       "    <tr>\n",
       "      <th>4</th>\n",
       "      <td>59d7cf48a980892888190550</td>\n",
       "      <td>3</td>\n",
       "      <td>2 ounces Seedlip Garden 108\\n0.75 ounces Lemon...</td>\n",
       "      <td>Seedlip's A Good Dill</td>\n",
       "      <td>https://food52.com/recipes/73252-seedlip-s-a-g...</td>\n",
       "      <td>None</td>\n",
       "      <td>0</td>\n",
       "      <td>0</td>\n",
       "      <td>0</td>\n",
       "    </tr>\n",
       "  </tbody>\n",
       "</table>\n",
       "</div>"
      ],
      "text/plain": [
       "                        _id  rating  \\\n",
       "0  59d7cf29a980892888190548      14   \n",
       "1  59d7cf30a98089288819054a      29   \n",
       "2  59d7cf39a98089288819054c       2   \n",
       "3  59d7cf3fa98089288819054e      92   \n",
       "4  59d7cf48a980892888190550       3   \n",
       "\n",
       "                                              recipe  \\\n",
       "0  2 tablespoons unsalted butter\\n1/4 cup diced y...   \n",
       "1  1 pound shelled raw peanuts\\n1 tablespoon plus...   \n",
       "2  2 cups (8 1/2 ounces) all-purpose flour\\n1/2 c...   \n",
       "3  1 1/2 cups (300g) Puy lentils, washed\\n4 clove...   \n",
       "4  2 ounces Seedlip Garden 108\\n0.75 ounces Lemon...   \n",
       "\n",
       "                                               title  \\\n",
       "0                           Austin Diner-Style Queso   \n",
       "1                Mamba (Spicy Haitian Peanut Butter)   \n",
       "2                                  Sheet Pan Muffins   \n",
       "3  Anna Jones' Favorite Lentils with Roasted Toma...   \n",
       "4                              Seedlip's A Good Dill   \n",
       "\n",
       "                                             weblink category  beef  chicken  \\\n",
       "0  https://food52.com/recipes/73529-austin-diner-...     None     0        0   \n",
       "1  https://food52.com/recipes/73211-mamba-spicy-h...     None     0        0   \n",
       "2  https://food52.com/recipes/73548-sheet-pan-muf...     None     0        0   \n",
       "3  https://food52.com/recipes/73511-anna-jones-fa...     beef     1        0   \n",
       "4  https://food52.com/recipes/73252-seedlip-s-a-g...     None     0        0   \n",
       "\n",
       "   pork  \n",
       "0     0  \n",
       "1     0  \n",
       "2     0  \n",
       "3     0  \n",
       "4     0  "
      ]
     },
     "execution_count": 24,
     "metadata": {},
     "output_type": "execute_result"
    }
   ],
   "source": [
    "df2.head()"
   ]
  },
  {
   "cell_type": "code",
   "execution_count": 25,
   "metadata": {
    "collapsed": true
   },
   "outputs": [],
   "source": [
    "del df2['_id']"
   ]
  },
  {
   "cell_type": "code",
   "execution_count": 26,
   "metadata": {},
   "outputs": [
    {
     "name": "stdout",
     "output_type": "stream",
     "text": [
      "<class 'pandas.core.frame.DataFrame'>\n",
      "RangeIndex: 9721 entries, 0 to 9720\n",
      "Data columns (total 8 columns):\n",
      "rating      9721 non-null int64\n",
      "recipe      9233 non-null object\n",
      "title       9721 non-null object\n",
      "weblink     9721 non-null object\n",
      "category    3458 non-null object\n",
      "beef        9721 non-null uint8\n",
      "chicken     9721 non-null uint8\n",
      "pork        9721 non-null uint8\n",
      "dtypes: int64(1), object(4), uint8(3)\n",
      "memory usage: 408.3+ KB\n"
     ]
    }
   ],
   "source": [
    "df2.info()"
   ]
  },
  {
   "cell_type": "code",
   "execution_count": 27,
   "metadata": {},
   "outputs": [
    {
     "data": {
      "text/plain": [
       "0       False\n",
       "1       False\n",
       "2       False\n",
       "3       False\n",
       "4       False\n",
       "5       False\n",
       "6       False\n",
       "7       False\n",
       "8       False\n",
       "9       False\n",
       "10      False\n",
       "11      False\n",
       "12      False\n",
       "13      False\n",
       "14      False\n",
       "15      False\n",
       "16      False\n",
       "17      False\n",
       "18      False\n",
       "19      False\n",
       "20      False\n",
       "21      False\n",
       "22      False\n",
       "23      False\n",
       "24      False\n",
       "25      False\n",
       "26      False\n",
       "27      False\n",
       "28      False\n",
       "29      False\n",
       "        ...  \n",
       "9691     True\n",
       "9692     True\n",
       "9693     True\n",
       "9694     True\n",
       "9695     True\n",
       "9696     True\n",
       "9697     True\n",
       "9698     True\n",
       "9699     True\n",
       "9700     True\n",
       "9701     True\n",
       "9702     True\n",
       "9703     True\n",
       "9704     True\n",
       "9705     True\n",
       "9706     True\n",
       "9707     True\n",
       "9708     True\n",
       "9709     True\n",
       "9710     True\n",
       "9711     True\n",
       "9712     True\n",
       "9713     True\n",
       "9714    False\n",
       "9715     True\n",
       "9716     True\n",
       "9717     True\n",
       "9718     True\n",
       "9719     True\n",
       "9720     True\n",
       "Name: recipe, Length: 9721, dtype: bool"
      ]
     },
     "execution_count": 27,
     "metadata": {},
     "output_type": "execute_result"
    }
   ],
   "source": [
    "df2['recipe'].isnull()"
   ]
  },
  {
   "cell_type": "code",
   "execution_count": 29,
   "metadata": {},
   "outputs": [
    {
     "data": {
      "text/plain": [
       "rating                                                      8\n",
       "recipe                                                    NaN\n",
       "title               Savory Squash Soup with Parmesan Croutons\n",
       "weblink     https://food52.com/recipes/14982-savory-squash...\n",
       "category                                                 None\n",
       "beef                                                        0\n",
       "chicken                                                     0\n",
       "pork                                                        0\n",
       "Name: 9718, dtype: object"
      ]
     },
     "execution_count": 29,
     "metadata": {},
     "output_type": "execute_result"
    }
   ],
   "source": [
    "df2.iloc[9718]"
   ]
  },
  {
   "cell_type": "code",
   "execution_count": null,
   "metadata": {
    "collapsed": true
   },
   "outputs": [],
   "source": []
  }
 ],
 "metadata": {
  "kernelspec": {
   "display_name": "Python 3",
   "language": "python",
   "name": "python3"
  },
  "language_info": {
   "codemirror_mode": {
    "name": "ipython",
    "version": 3
   },
   "file_extension": ".py",
   "mimetype": "text/x-python",
   "name": "python",
   "nbconvert_exporter": "python",
   "pygments_lexer": "ipython3",
   "version": "3.6.1"
  }
 },
 "nbformat": 4,
 "nbformat_minor": 2
}
