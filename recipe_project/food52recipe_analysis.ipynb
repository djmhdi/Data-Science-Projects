{
 "cells": [
  {
   "cell_type": "code",
   "execution_count": 1,
   "metadata": {
    "collapsed": true
   },
   "outputs": [],
   "source": [
    "import pandas as pd\n",
    "import numpy as np\n",
    "import matplotlib.pyplot as plt\n",
    "plt.style.use('ggplot')\n",
    "% matplotlib inline"
   ]
  },
  {
   "cell_type": "code",
   "execution_count": 2,
   "metadata": {
    "collapsed": true
   },
   "outputs": [],
   "source": [
    "df = pd.read_csv('data/food52_scraped_data.csv')"
   ]
  },
  {
   "cell_type": "code",
   "execution_count": 3,
   "metadata": {
    "collapsed": false
   },
   "outputs": [
    {
     "data": {
      "text/html": [
       "<div>\n",
       "<style>\n",
       "    .dataframe thead tr:only-child th {\n",
       "        text-align: right;\n",
       "    }\n",
       "\n",
       "    .dataframe thead th {\n",
       "        text-align: left;\n",
       "    }\n",
       "\n",
       "    .dataframe tbody tr th {\n",
       "        vertical-align: top;\n",
       "    }\n",
       "</style>\n",
       "<table border=\"1\" class=\"dataframe\">\n",
       "  <thead>\n",
       "    <tr style=\"text-align: right;\">\n",
       "      <th></th>\n",
       "      <th>_id</th>\n",
       "      <th>rating</th>\n",
       "      <th>recipe</th>\n",
       "      <th>title</th>\n",
       "      <th>weblink</th>\n",
       "    </tr>\n",
       "  </thead>\n",
       "  <tbody>\n",
       "    <tr>\n",
       "      <th>0</th>\n",
       "      <td>59d7cf29a980892888190548</td>\n",
       "      <td>14</td>\n",
       "      <td>2 tablespoons unsalted butter\\n1/4 cup diced y...</td>\n",
       "      <td>Austin Diner-Style Queso</td>\n",
       "      <td>https://food52.com/recipes/73529-austin-diner-...</td>\n",
       "    </tr>\n",
       "    <tr>\n",
       "      <th>1</th>\n",
       "      <td>59d7cf30a98089288819054a</td>\n",
       "      <td>29</td>\n",
       "      <td>1 pound shelled raw peanuts\\n1 tablespoon plus...</td>\n",
       "      <td>Mamba (Spicy Haitian Peanut Butter)</td>\n",
       "      <td>https://food52.com/recipes/73211-mamba-spicy-h...</td>\n",
       "    </tr>\n",
       "    <tr>\n",
       "      <th>2</th>\n",
       "      <td>59d7cf39a98089288819054c</td>\n",
       "      <td>2</td>\n",
       "      <td>2 cups (8 1/2 ounces) all-purpose flour\\n1/2 c...</td>\n",
       "      <td>Sheet Pan Muffins</td>\n",
       "      <td>https://food52.com/recipes/73548-sheet-pan-muf...</td>\n",
       "    </tr>\n",
       "    <tr>\n",
       "      <th>3</th>\n",
       "      <td>59d7cf3fa98089288819054e</td>\n",
       "      <td>92</td>\n",
       "      <td>1 1/2 cups (300g) Puy lentils, washed\\n4 clove...</td>\n",
       "      <td>Anna Jones' Favorite Lentils with Roasted Toma...</td>\n",
       "      <td>https://food52.com/recipes/73511-anna-jones-fa...</td>\n",
       "    </tr>\n",
       "    <tr>\n",
       "      <th>4</th>\n",
       "      <td>59d7cf48a980892888190550</td>\n",
       "      <td>3</td>\n",
       "      <td>2 ounces Seedlip Garden 108\\n0.75 ounces Lemon...</td>\n",
       "      <td>Seedlip's A Good Dill</td>\n",
       "      <td>https://food52.com/recipes/73252-seedlip-s-a-g...</td>\n",
       "    </tr>\n",
       "  </tbody>\n",
       "</table>\n",
       "</div>"
      ],
      "text/plain": [
       "                        _id  rating  \\\n",
       "0  59d7cf29a980892888190548      14   \n",
       "1  59d7cf30a98089288819054a      29   \n",
       "2  59d7cf39a98089288819054c       2   \n",
       "3  59d7cf3fa98089288819054e      92   \n",
       "4  59d7cf48a980892888190550       3   \n",
       "\n",
       "                                              recipe  \\\n",
       "0  2 tablespoons unsalted butter\\n1/4 cup diced y...   \n",
       "1  1 pound shelled raw peanuts\\n1 tablespoon plus...   \n",
       "2  2 cups (8 1/2 ounces) all-purpose flour\\n1/2 c...   \n",
       "3  1 1/2 cups (300g) Puy lentils, washed\\n4 clove...   \n",
       "4  2 ounces Seedlip Garden 108\\n0.75 ounces Lemon...   \n",
       "\n",
       "                                               title  \\\n",
       "0                           Austin Diner-Style Queso   \n",
       "1                Mamba (Spicy Haitian Peanut Butter)   \n",
       "2                                  Sheet Pan Muffins   \n",
       "3  Anna Jones' Favorite Lentils with Roasted Toma...   \n",
       "4                              Seedlip's A Good Dill   \n",
       "\n",
       "                                             weblink  \n",
       "0  https://food52.com/recipes/73529-austin-diner-...  \n",
       "1  https://food52.com/recipes/73211-mamba-spicy-h...  \n",
       "2  https://food52.com/recipes/73548-sheet-pan-muf...  \n",
       "3  https://food52.com/recipes/73511-anna-jones-fa...  \n",
       "4  https://food52.com/recipes/73252-seedlip-s-a-g...  "
      ]
     },
     "execution_count": 3,
     "metadata": {},
     "output_type": "execute_result"
    }
   ],
   "source": [
    "df.head()"
   ]
  },
  {
   "cell_type": "code",
   "execution_count": 4,
   "metadata": {
    "collapsed": true
   },
   "outputs": [],
   "source": [
    "df.dropna(inplace=True)"
   ]
  },
  {
   "cell_type": "code",
   "execution_count": 5,
   "metadata": {
    "collapsed": false
   },
   "outputs": [
    {
     "name": "stdout",
     "output_type": "stream",
     "text": [
      "<class 'pandas.core.frame.DataFrame'>\n",
      "Int64Index: 9233 entries, 0 to 9714\n",
      "Data columns (total 5 columns):\n",
      "_id        9233 non-null object\n",
      "rating     9233 non-null int64\n",
      "recipe     9233 non-null object\n",
      "title      9233 non-null object\n",
      "weblink    9233 non-null object\n",
      "dtypes: int64(1), object(4)\n",
      "memory usage: 432.8+ KB\n"
     ]
    }
   ],
   "source": [
    "df.info()"
   ]
  },
  {
   "cell_type": "code",
   "execution_count": 6,
   "metadata": {
    "collapsed": true
   },
   "outputs": [],
   "source": [
    "from sklearn.model_selection import train_test_split\n",
    "from sklearn.feature_extraction.text import TfidfVectorizer, CountVectorizer\n",
    "from sklearn.decomposition import NMF, LatentDirichletAllocation, TruncatedSVD\n",
    "from sklearn.cluster import KMeans\n",
    "from sklearn.manifold import TSNE\n",
    "from time import time\n",
    "import seaborn as sns"
   ]
  },
  {
   "cell_type": "code",
   "execution_count": 7,
   "metadata": {
    "collapsed": true
   },
   "outputs": [],
   "source": [
    "from mpl_toolkits.mplot3d import Axes3D"
   ]
  },
  {
   "cell_type": "code",
   "execution_count": 8,
   "metadata": {
    "collapsed": true
   },
   "outputs": [],
   "source": [
    "def clustering_algorithm(tfidf, labels):\n",
    "\n",
    "    svd = TruncatedSVD(algorithm='randomized', random_state=42)\n",
    "    X_new = svd.fit_transform(tfidf)\n",
    "    tsne_mod = TSNE(n_components=3, verbose=1, random_state=0, perplexity=40)\n",
    "    coords = tsne_mod.fit_transform(X_new)\n",
    "    x, y, z = coords[:, 0], coords[:, 1], coords[:, 2]\n",
    "    return x, y, z\n"
   ]
  },
  {
   "cell_type": "code",
   "execution_count": 11,
   "metadata": {
    "collapsed": true
   },
   "outputs": [],
   "source": [
    "\"\"\"Additional words to add to stop words\"\"\"\n",
    "rec_stop =\"cup cups tablespoon tablespoons teaspoon teaspoons pounds ounces grams gram kilograms kilogram liter liters sliced diced minced finely coarsely roughly cut peeled chopped\".split()"
   ]
  },
  {
   "cell_type": "code",
   "execution_count": 13,
   "metadata": {
    "collapsed": true
   },
   "outputs": [],
   "source": [
    "from sklearn.feature_extraction import text\n",
    "def topic_extraction(df, col_name):\n",
    "    \"\"\"\n",
    "    Two algorithms for topic extraction -\n",
    "    NMF and LatentDirichletAllocation(LDA).\n",
    "    my_stop_words combines built-in english stop words with recipe measurement/cutting terms \n",
    "    \"\"\"\n",
    "    my_stop_words = text.ENGLISH_STOP_WORDS.union(rec_stop)\n",
    "    tfidf_vectorizer = TfidfVectorizer(max_df=0.95, min_df=2,\n",
    "                                       max_features=200,\n",
    "                                       analyzer='word',\n",
    "                                       stop_words=my_stop_words)\n",
    "    tfidf = tfidf_vectorizer.fit_transform(df[col_name])\n",
    "    tf_vectorizer = CountVectorizer(max_df=0.95, min_df=2,\n",
    "                                    max_features=200,\n",
    "                                    stop_words=my_stop_words)\n",
    "    tf = tf_vectorizer.fit_transform(df[col_name])\n",
    "\n",
    "    nmf = NMF(n_components=6, random_state=1,\n",
    "            alpha=.1, l1_ratio=.5)\n",
    "    tfidf_feature_names = tfidf_vectorizer.get_feature_names()\n",
    "    nmf_w = nmf.fit_transform(tfidf)\n",
    "    nmf_h = nmf.components_\n",
    "    labels = nmf_w.argmax(axis=1)\n",
    "    df['labels2'] = labels # this was the right code to get labels/clusters\n",
    "#     labels = df['labels'].values\n",
    "\n",
    "    # tsne_algorithm(tfidf) # feed the tsne algorithm\n",
    "    # sns.distplot(df['labels'], kde=True)\n",
    "    # plt.show()\n",
    "    print(\"\\nTopics in NMF model:\")\n",
    "    print_top_words(nmf, tfidf_feature_names)\n",
    "#     clustering_algorithm(nmf_w_short, labels)\n",
    "    \"\"\"uncomment to LDA topics\"\"\"\n",
    "    lda = LatentDirichletAllocation(n_components=4, max_iter=5,\n",
    "                                learning_method='online',\n",
    "                                learning_offset=50.,\n",
    "                                random_state=0,\n",
    "                                n_jobs=-1)\n",
    "    mod = lda.fit(tf)\n",
    "    comp = mod.fit_transform(tf)\n",
    "    lda_labels = comp.argmax(axis=1)\n",
    "    df['lda_topics2'] = lda_labels\n",
    "    print(\"\\nTopics in LDA model:\")\n",
    "    tf_feature_names = tf_vectorizer.get_feature_names()\n",
    "    print_top_words(lda, tf_feature_names)\n",
    "    \n",
    "    return df, labels, lda_labels, tfidf, tf\n",
    "    \n",
    "\n",
    "def print_top_words(model, feature_names, n_top_words=20):\n",
    "    for topic_idx, topic in enumerate(model.components_):\n",
    "        print(\"Topic #%d:\" % topic_idx)\n",
    "        print(\" \".join([feature_names[i]\n",
    "                        for i in topic.argsort()[:-n_top_words - 1:-1]]))\n",
    "    print('End')"
   ]
  },
  {
   "cell_type": "code",
   "execution_count": 14,
   "metadata": {
    "collapsed": false
   },
   "outputs": [
    {
     "name": "stdout",
     "output_type": "stream",
     "text": [
      "\n",
      "Topics in NMF model:\n",
      "Topic #0:\n",
      "oil olive chicken pepper garlic red fresh large salt onion cloves small taste medium leaves white wine tomatoes thyme dried\n",
      "Topic #1:\n",
      "flour sugar butter purpose baking vanilla unsalted extract water powder salt egg milk eggs plus soda room temperature cold granulated\n",
      "Topic #2:\n",
      "sauce soy sesame rice ginger oil vinegar sugar garlic brown chicken pork chili seeds green water lime vegetable cloves honey\n",
      "Topic #3:\n",
      "lemon juice fresh zest lime ounce orange freshly mint honey sugar olive water taste leaves garnish salt oil syrup pinch\n",
      "Topic #4:\n",
      "ground black freshly pepper powder pound beef cumin salt kosher cinnamon pork dried paprika coriander cayenne garlic chili cloves onion\n",
      "Topic #5:\n",
      "cheese grated cream parmesan slices shredded bread heavy butter milk pound eggs fresh bacon egg pepper sour cooked thinly salt\n",
      "End\n",
      "\n",
      "Topics in LDA model:\n",
      "Topic #0:\n",
      "sauce oil pepper garlic chicken ground onion salt powder red cloves green ginger rice fresh cumin cilantro soy chili seeds\n",
      "Topic #1:\n",
      "flour sugar salt butter purpose water unsalted egg baking powder milk vanilla eggs extract large plus oil cold room ground\n",
      "Topic #2:\n",
      "cream grated ground salt juice cheese lemon sugar fresh butter freshly apple milk heavy zest ounce organic egg cider divided\n",
      "Topic #3:\n",
      "pepper salt oil olive fresh garlic ground large chicken black pound onion cloves leaves taste dried red small freshly beef\n",
      "End\n"
     ]
    }
   ],
   "source": [
    "df4, labels4, lda_labels4, tfidf, tf = topic_extraction(df, 'recipe')"
   ]
  },
  {
   "cell_type": "code",
   "execution_count": 15,
   "metadata": {
    "collapsed": false
   },
   "outputs": [
    {
     "name": "stdout",
     "output_type": "stream",
     "text": [
      "[t-SNE] Computing 121 nearest neighbors...\n",
      "[t-SNE] Indexed 9233 samples in 0.014s...\n",
      "[t-SNE] Computed neighbors for 9233 samples in 0.346s...\n",
      "[t-SNE] Computed conditional probabilities for sample 1000 / 9233\n",
      "[t-SNE] Computed conditional probabilities for sample 2000 / 9233\n",
      "[t-SNE] Computed conditional probabilities for sample 3000 / 9233\n",
      "[t-SNE] Computed conditional probabilities for sample 4000 / 9233\n",
      "[t-SNE] Computed conditional probabilities for sample 5000 / 9233\n",
      "[t-SNE] Computed conditional probabilities for sample 6000 / 9233\n",
      "[t-SNE] Computed conditional probabilities for sample 7000 / 9233\n",
      "[t-SNE] Computed conditional probabilities for sample 8000 / 9233\n",
      "[t-SNE] Computed conditional probabilities for sample 9000 / 9233\n",
      "[t-SNE] Computed conditional probabilities for sample 9233 / 9233\n",
      "[t-SNE] Mean sigma: 0.064761\n",
      "[t-SNE] KL divergence after 250 iterations with early exaggeration: 65.958397\n",
      "[t-SNE] Error after 1000 iterations: 0.582283\n"
     ]
    }
   ],
   "source": [
    "x5, y5, z5 = clustering_algorithm(tf, labels4)"
   ]
  },
  {
   "cell_type": "code",
   "execution_count": 335,
   "metadata": {
    "collapsed": false
   },
   "outputs": [
    {
     "data": {
      "image/png": "[encoded data removed]",
      "text/plain": [
       "<matplotlib.figure.Figure at 0x176786908>"
      ]
     },
     "metadata": {},
     "output_type": "display_data"
    }
   ],
   "source": [
    "import matplotlib as mpl\n",
    "\"\"\" LDA labels used to identify points in scatter plot of t-SNE analysis of recipe text\"\"\"\n",
    "fig = plt.figure(figsize=(12, 10))\n",
    "ax = fig.add_subplot(111, projection='3d')\n",
    "colors = {0:'tab:blue', 1:'tab:orange', 2:'tab:purple', 3:'tab:red'}\n",
    "labels = {0:'chicken dish', 1:'pastry/baked item', 2:'sauce', 3:'main dish/meat_veggie'}\n",
    "for k, b in colors.items():\n",
    "    x, y, z = x5[np.where(lda_labels4 == k)], y5[np.where(lda_labels4 == k)], z5[np.where(lda_labels4 == k)]    \n",
    "    ax.scatter(x, y, z, zdir='z', c=colors[k], label=labels[k], s=10, alpha=0.3)\n",
    "    ax.set_xticks([])\n",
    "    ax.set_yticks([])\n",
    "    ax.set_zticks([])\n",
    "ax.legend(fontsize=12, markerscale=3)\n",
    "ax.set_title('TSNE analysis of Recipe Ingredients - LDA labels', fontsize=12, fontweight='bold')\n",
    "ax.grid(False)\n",
    "\n",
    "plt.savefig('data/recipe_ldalabels_tsne.png')"
   ]
  },
  {
   "cell_type": "code",
   "execution_count": 327,
   "metadata": {
    "collapsed": true
   },
   "outputs": [],
   "source": [
    "\"\"\" Creating animated gif by making a stack of plots at different angles \"\"\"\n",
    "for angle in range(70,210,2):\n",
    "\n",
    "    # Make the plot\n",
    "    fig = plt.figure(figsize=(15, 12))\n",
    "    ax = fig.gca(projection='3d')\n",
    "    colors = {0:'tab:blue', 1:'tab:orange', 2:'tab:purple', 3:'tab:red'}\n",
    "    labels = {0:'chicken dish', 1:'pastry/baked item', 2:'sauce', 3:'main dish/meat_veggie'}\n",
    "    for k, b in colors.items():\n",
    "        x, y, z = x5[np.where(labels4 == k)], y5[np.where(labels4 == k)], z5[np.where(labels4 == k)]    \n",
    "        ax.scatter(x, y, z, zdir='z', c=colors[k], label=labels[k], s=10, alpha=0.3)\n",
    "        ax.set_xticks([])\n",
    "        ax.set_yticks([])\n",
    "        ax.set_zticks([])\n",
    "\n",
    "    ax.legend(fontsize=14, markerscale=3)\n",
    "    ax.set_title('TSNE analysis of Recipe Ingredients - LDA labels', fontsize=16, fontweight='bold')\n",
    "    ax.grid(False)\n",
    "\n",
    "    # Set the angle of the camera\n",
    "    ax.view_init(30,angle)\n",
    "\n",
    "    # Save it\n",
    "    filename='data/lda_stack/3d_TSNE_LDA_step'+str(angle)+'.png'\n",
    "    plt.savefig(filename, dpi=96)\n",
    "    plt.gca()\n",
    "    plt.clf()\n",
    "    plt.close()"
   ]
  },
  {
   "cell_type": "code",
   "execution_count": null,
   "metadata": {
    "collapsed": false
   },
   "outputs": [],
   "source": []
  },
  {
   "cell_type": "code",
   "execution_count": 19,
   "metadata": {
    "collapsed": false
   },
   "outputs": [
    {
     "name": "stdout",
     "output_type": "stream",
     "text": [
      "[t-SNE] Computing 121 nearest neighbors...\n",
      "[t-SNE] Indexed 9233 samples in 0.018s...\n",
      "[t-SNE] Computed neighbors for 9233 samples in 0.338s...\n",
      "[t-SNE] Computed conditional probabilities for sample 1000 / 9233\n",
      "[t-SNE] Computed conditional probabilities for sample 2000 / 9233\n",
      "[t-SNE] Computed conditional probabilities for sample 3000 / 9233\n",
      "[t-SNE] Computed conditional probabilities for sample 4000 / 9233\n",
      "[t-SNE] Computed conditional probabilities for sample 5000 / 9233\n",
      "[t-SNE] Computed conditional probabilities for sample 6000 / 9233\n",
      "[t-SNE] Computed conditional probabilities for sample 7000 / 9233\n",
      "[t-SNE] Computed conditional probabilities for sample 8000 / 9233\n",
      "[t-SNE] Computed conditional probabilities for sample 9000 / 9233\n",
      "[t-SNE] Computed conditional probabilities for sample 9233 / 9233\n",
      "[t-SNE] Mean sigma: 0.007847\n",
      "[t-SNE] KL divergence after 250 iterations with early exaggeration: 65.588409\n",
      "[t-SNE] Error after 1000 iterations: 0.595807\n"
     ]
    }
   ],
   "source": [
    "x6, y6, z6 = clustering_algorithm(tfidf, labels4)"
   ]
  },
  {
   "cell_type": "code",
   "execution_count": 336,
   "metadata": {
    "collapsed": false
   },
   "outputs": [
    {
     "data": {
      "image/png": "[encoded data removed]",
      "text/plain": [
       "<matplotlib.figure.Figure at 0x14d49f748>"
      ]
     },
     "metadata": {},
     "output_type": "display_data"
    }
   ],
   "source": [
    "\"\"\" NMF labels used to identify points in scatter plot of t-SNE analysis of recipe text\"\"\"\n",
    "fig = plt.figure(figsize=(12, 10))\n",
    "ax = fig.add_subplot(111, projection='3d')\n",
    "colors = {0:'tab:blue', 1:'tab:orange', 2:'tab:purple', 3:'tab:red', 4:'yellow', 5:'gray'}\n",
    "labels = {0:'light chicken dish', 1:'pastry/baked', 2:'chicken/pork asian style', 3:'sauce/gravy', 4:'beef/pork dish', 5:'cheese dish/breakfast'}\n",
    "for k, b in colors.items():\n",
    "    x, y, z = x6[np.where(labels4 == k)], y6[np.where(labels4 == k)], z6[np.where(labels4 == k)]    \n",
    "    ax.scatter(x, y, z, zdir='z', c=colors[k], label=labels[k], s=10, alpha=0.3)\n",
    "    ax.set_xticks([])\n",
    "    ax.set_yticks([])\n",
    "    ax.set_zticks([])\n",
    "ax.legend(fontsize=12, markerscale=3)\n",
    "ax.set_title('TSNE analysis of Recipe Ingredients - NMF labels', fontsize=12, fontweight='bold')\n",
    "ax.grid(False)\n",
    "plt.savefig('data/recipe_nmfclustering_tsne.png')"
   ]
  },
  {
   "cell_type": "code",
   "execution_count": 329,
   "metadata": {
    "collapsed": false
   },
   "outputs": [],
   "source": [
    "# library\n",
    "from mpl_toolkits.mplot3d import Axes3D\n",
    "import matplotlib.pyplot as plt\n",
    "import pandas as pd\n",
    "import seaborn as sns\n",
    "\n",
    "\n",
    "for angle in range(70,210,2):\n",
    "\n",
    "    # Make the plot\n",
    "    fig = plt.figure(figsize=(15, 15))\n",
    "    ax = fig.gca(projection='3d')\n",
    "    colors = {0:'tab:blue', 1:'tab:orange', 2:'tab:purple', 3:'tab:red', 4:'yellow', 5:'gray'}\n",
    "    labels = {0:'light chicken dish', 1:'pastry/baked', 2:'chicken/pork asian style', 3:'sauce/gravy', 4:'beef/pork dish', 5:'cheese dish/breakfast'}\n",
    "    for k, b in colors.items():\n",
    "        x, y, z = x6[np.where(labels4 == k)], y6[np.where(labels4 == k)], z6[np.where(labels4 == k)]    \n",
    "        ax.scatter(x, y, z, zdir='z', c=colors[k], label=labels[k], s=10, alpha=0.3)\n",
    "        ax.set_xticks([])\n",
    "        ax.set_yticks([])\n",
    "        ax.set_zticks([])\n",
    "\n",
    "    ax.legend(fontsize=16, markerscale=3)\n",
    "    ax.set_title('TSNE analysis of Recipe Ingredients - NMF labels', fontsize=16, fontweight='bold')\n",
    "    ax.grid(False)\n",
    "    # Set the angle of the camera\n",
    "    ax.view_init(30,angle)\n",
    "    # Save\n",
    "    filename='data/3d_stack/3d_TSNE_step'+str(angle)+'.png'\n",
    "    plt.savefig(filename, dpi=96)\n",
    "    plt.gca()\n",
    "    plt.clf()\n",
    "    plt.close()"
   ]
  },
  {
   "cell_type": "code",
   "execution_count": null,
   "metadata": {
    "collapsed": true
   },
   "outputs": [],
   "source": []
  },
  {
   "cell_type": "code",
   "execution_count": null,
   "metadata": {
    "collapsed": true
   },
   "outputs": [],
   "source": []
  },
  {
   "cell_type": "code",
   "execution_count": null,
   "metadata": {
    "collapsed": true
   },
   "outputs": [],
   "source": []
  },
  {
   "cell_type": "code",
   "execution_count": 25,
   "metadata": {
    "collapsed": false
   },
   "outputs": [
    {
     "data": {
      "text/html": [
       "<div>\n",
       "<style>\n",
       "    .dataframe thead tr:only-child th {\n",
       "        text-align: right;\n",
       "    }\n",
       "\n",
       "    .dataframe thead th {\n",
       "        text-align: left;\n",
       "    }\n",
       "\n",
       "    .dataframe tbody tr th {\n",
       "        vertical-align: top;\n",
       "    }\n",
       "</style>\n",
       "<table border=\"1\" class=\"dataframe\">\n",
       "  <thead>\n",
       "    <tr style=\"text-align: right;\">\n",
       "      <th></th>\n",
       "      <th>_id</th>\n",
       "      <th>rating</th>\n",
       "      <th>recipe</th>\n",
       "      <th>title</th>\n",
       "      <th>weblink</th>\n",
       "      <th>labels2</th>\n",
       "      <th>lda_topics2</th>\n",
       "    </tr>\n",
       "  </thead>\n",
       "  <tbody>\n",
       "    <tr>\n",
       "      <th>0</th>\n",
       "      <td>59d7cf29a980892888190548</td>\n",
       "      <td>14</td>\n",
       "      <td>2 tablespoons unsalted butter\\n1/4 cup diced y...</td>\n",
       "      <td>Austin Diner-Style Queso</td>\n",
       "      <td>https://food52.com/recipes/73529-austin-diner-...</td>\n",
       "      <td>5</td>\n",
       "      <td>0</td>\n",
       "    </tr>\n",
       "    <tr>\n",
       "      <th>1</th>\n",
       "      <td>59d7cf30a98089288819054a</td>\n",
       "      <td>29</td>\n",
       "      <td>1 pound shelled raw peanuts\\n1 tablespoon plus...</td>\n",
       "      <td>Mamba (Spicy Haitian Peanut Butter)</td>\n",
       "      <td>https://food52.com/recipes/73211-mamba-spicy-h...</td>\n",
       "      <td>4</td>\n",
       "      <td>2</td>\n",
       "    </tr>\n",
       "    <tr>\n",
       "      <th>2</th>\n",
       "      <td>59d7cf39a98089288819054c</td>\n",
       "      <td>2</td>\n",
       "      <td>2 cups (8 1/2 ounces) all-purpose flour\\n1/2 c...</td>\n",
       "      <td>Sheet Pan Muffins</td>\n",
       "      <td>https://food52.com/recipes/73548-sheet-pan-muf...</td>\n",
       "      <td>1</td>\n",
       "      <td>1</td>\n",
       "    </tr>\n",
       "    <tr>\n",
       "      <th>3</th>\n",
       "      <td>59d7cf3fa98089288819054e</td>\n",
       "      <td>92</td>\n",
       "      <td>1 1/2 cups (300g) Puy lentils, washed\\n4 clove...</td>\n",
       "      <td>Anna Jones' Favorite Lentils with Roasted Toma...</td>\n",
       "      <td>https://food52.com/recipes/73511-anna-jones-fa...</td>\n",
       "      <td>0</td>\n",
       "      <td>3</td>\n",
       "    </tr>\n",
       "    <tr>\n",
       "      <th>4</th>\n",
       "      <td>59d7cf48a980892888190550</td>\n",
       "      <td>3</td>\n",
       "      <td>2 ounces Seedlip Garden 108\\n0.75 ounces Lemon...</td>\n",
       "      <td>Seedlip's A Good Dill</td>\n",
       "      <td>https://food52.com/recipes/73252-seedlip-s-a-g...</td>\n",
       "      <td>3</td>\n",
       "      <td>2</td>\n",
       "    </tr>\n",
       "  </tbody>\n",
       "</table>\n",
       "</div>"
      ],
      "text/plain": [
       "                        _id  rating  \\\n",
       "0  59d7cf29a980892888190548      14   \n",
       "1  59d7cf30a98089288819054a      29   \n",
       "2  59d7cf39a98089288819054c       2   \n",
       "3  59d7cf3fa98089288819054e      92   \n",
       "4  59d7cf48a980892888190550       3   \n",
       "\n",
       "                                              recipe  \\\n",
       "0  2 tablespoons unsalted butter\\n1/4 cup diced y...   \n",
       "1  1 pound shelled raw peanuts\\n1 tablespoon plus...   \n",
       "2  2 cups (8 1/2 ounces) all-purpose flour\\n1/2 c...   \n",
       "3  1 1/2 cups (300g) Puy lentils, washed\\n4 clove...   \n",
       "4  2 ounces Seedlip Garden 108\\n0.75 ounces Lemon...   \n",
       "\n",
       "                                               title  \\\n",
       "0                           Austin Diner-Style Queso   \n",
       "1                Mamba (Spicy Haitian Peanut Butter)   \n",
       "2                                  Sheet Pan Muffins   \n",
       "3  Anna Jones' Favorite Lentils with Roasted Toma...   \n",
       "4                              Seedlip's A Good Dill   \n",
       "\n",
       "                                             weblink  labels2  lda_topics2  \n",
       "0  https://food52.com/recipes/73529-austin-diner-...        5            0  \n",
       "1  https://food52.com/recipes/73211-mamba-spicy-h...        4            2  \n",
       "2  https://food52.com/recipes/73548-sheet-pan-muf...        1            1  \n",
       "3  https://food52.com/recipes/73511-anna-jones-fa...        0            3  \n",
       "4  https://food52.com/recipes/73252-seedlip-s-a-g...        3            2  "
      ]
     },
     "execution_count": 25,
     "metadata": {},
     "output_type": "execute_result"
    }
   ],
   "source": [
    "df.head()"
   ]
  },
  {
   "cell_type": "code",
   "execution_count": 26,
   "metadata": {
    "collapsed": true
   },
   "outputs": [],
   "source": [
    "df2 = pd.read_csv('data/food52_addenda_transformed.csv')"
   ]
  },
  {
   "cell_type": "code",
   "execution_count": 27,
   "metadata": {
    "collapsed": true
   },
   "outputs": [],
   "source": [
    "df2.reset_index(inplace=True)"
   ]
  },
  {
   "cell_type": "code",
   "execution_count": 28,
   "metadata": {
    "collapsed": true
   },
   "outputs": [],
   "source": [
    "del df2['index']\n",
    "del df2['Unnamed: 0']"
   ]
  },
  {
   "cell_type": "code",
   "execution_count": 30,
   "metadata": {
    "collapsed": false
   },
   "outputs": [
    {
     "data": {
      "text/html": [
       "<div>\n",
       "<style>\n",
       "    .dataframe thead tr:only-child th {\n",
       "        text-align: right;\n",
       "    }\n",
       "\n",
       "    .dataframe thead th {\n",
       "        text-align: left;\n",
       "    }\n",
       "\n",
       "    .dataframe tbody tr th {\n",
       "        vertical-align: top;\n",
       "    }\n",
       "</style>\n",
       "<table border=\"1\" class=\"dataframe\">\n",
       "  <thead>\n",
       "    <tr style=\"text-align: right;\">\n",
       "      <th></th>\n",
       "      <th>date_submitted</th>\n",
       "      <th>rating</th>\n",
       "      <th>servings</th>\n",
       "      <th>title</th>\n",
       "      <th>user_comments</th>\n",
       "      <th>number_comments</th>\n",
       "      <th>date_formatted</th>\n",
       "    </tr>\n",
       "  </thead>\n",
       "  <tbody>\n",
       "    <tr>\n",
       "      <th>0</th>\n",
       "      <td>April 14, 2011</td>\n",
       "      <td>55</td>\n",
       "      <td>4.0</td>\n",
       "      <td>Beef Stroganoff with Mushrooms and Onions</td>\n",
       "      <td>[\"\\n\\nabout 3 years ago\\nCampCook\\n\\nThere is ...</td>\n",
       "      <td>5</td>\n",
       "      <td>2011-04-14</td>\n",
       "    </tr>\n",
       "    <tr>\n",
       "      <th>1</th>\n",
       "      <td>October 3, 2016</td>\n",
       "      <td>1</td>\n",
       "      <td>NaN</td>\n",
       "      <td>Asian Sliders with Gochujang Mayo</td>\n",
       "      <td>[]</td>\n",
       "      <td>0</td>\n",
       "      <td>2011-04-14</td>\n",
       "    </tr>\n",
       "    <tr>\n",
       "      <th>2</th>\n",
       "      <td>August 13, 2014</td>\n",
       "      <td>3</td>\n",
       "      <td>NaN</td>\n",
       "      <td>Ground Turkey Stroganoff</td>\n",
       "      <td>['\\n\\n10 months ago\\nHodie-Hi\\n\\nIngredients l...</td>\n",
       "      <td>2</td>\n",
       "      <td>2011-04-14</td>\n",
       "    </tr>\n",
       "    <tr>\n",
       "      <th>3</th>\n",
       "      <td>October 4, 2017</td>\n",
       "      <td>64</td>\n",
       "      <td>68.0</td>\n",
       "      <td>Austin Diner-Style Queso</td>\n",
       "      <td>['\\n\\n23 days ago\\nalex\\n\\nDo as the locals do...</td>\n",
       "      <td>8</td>\n",
       "      <td>2011-04-14</td>\n",
       "    </tr>\n",
       "    <tr>\n",
       "      <th>4</th>\n",
       "      <td>September 18, 2017</td>\n",
       "      <td>38</td>\n",
       "      <td>1.0</td>\n",
       "      <td>Mamba (Spicy Haitian Peanut Butter)</td>\n",
       "      <td>['\\n\\n26 days ago\\nRegine\\n\\n“Cooking in HMB,”...</td>\n",
       "      <td>6</td>\n",
       "      <td>2011-04-14</td>\n",
       "    </tr>\n",
       "  </tbody>\n",
       "</table>\n",
       "</div>"
      ],
      "text/plain": [
       "       date_submitted  rating  servings  \\\n",
       "0      April 14, 2011      55       4.0   \n",
       "1     October 3, 2016       1       NaN   \n",
       "2     August 13, 2014       3       NaN   \n",
       "3     October 4, 2017      64      68.0   \n",
       "4  September 18, 2017      38       1.0   \n",
       "\n",
       "                                       title  \\\n",
       "0  Beef Stroganoff with Mushrooms and Onions   \n",
       "1          Asian Sliders with Gochujang Mayo   \n",
       "2                   Ground Turkey Stroganoff   \n",
       "3                   Austin Diner-Style Queso   \n",
       "4        Mamba (Spicy Haitian Peanut Butter)   \n",
       "\n",
       "                                       user_comments  number_comments  \\\n",
       "0  [\"\\n\\nabout 3 years ago\\nCampCook\\n\\nThere is ...                5   \n",
       "1                                                 []                0   \n",
       "2  ['\\n\\n10 months ago\\nHodie-Hi\\n\\nIngredients l...                2   \n",
       "3  ['\\n\\n23 days ago\\nalex\\n\\nDo as the locals do...                8   \n",
       "4  ['\\n\\n26 days ago\\nRegine\\n\\n“Cooking in HMB,”...                6   \n",
       "\n",
       "  date_formatted  \n",
       "0     2011-04-14  \n",
       "1     2011-04-14  \n",
       "2     2011-04-14  \n",
       "3     2011-04-14  \n",
       "4     2011-04-14  "
      ]
     },
     "execution_count": 30,
     "metadata": {},
     "output_type": "execute_result"
    }
   ],
   "source": [
    "df2.head()"
   ]
  },
  {
   "cell_type": "code",
   "execution_count": 33,
   "metadata": {
    "collapsed": true
   },
   "outputs": [],
   "source": [
    "# **Resume from here - notebook was run up to this cell"
   ]
  },
  {
   "cell_type": "code",
   "execution_count": 22,
   "metadata": {
    "collapsed": true
   },
   "outputs": [],
   "source": [
    "# df2['ratio'] = df2['number_comments'] / df2['rating']"
   ]
  },
  {
   "cell_type": "code",
   "execution_count": 23,
   "metadata": {
    "collapsed": false
   },
   "outputs": [],
   "source": [
    "# df2.replace([np.inf, -np.inf], np.nan, inplace=True)"
   ]
  },
  {
   "cell_type": "code",
   "execution_count": 24,
   "metadata": {
    "collapsed": true
   },
   "outputs": [],
   "source": [
    "# df2.dropna(inplace=True)"
   ]
  },
  {
   "cell_type": "code",
   "execution_count": 25,
   "metadata": {
    "collapsed": false
   },
   "outputs": [],
   "source": [
    "# df2['ratio'].mean() "
   ]
  },
  {
   "cell_type": "code",
   "execution_count": 31,
   "metadata": {
    "collapsed": true
   },
   "outputs": [],
   "source": [
    "new_df = df.merge(df2, how='left', on='title')"
   ]
  },
  {
   "cell_type": "code",
   "execution_count": 32,
   "metadata": {
    "collapsed": true
   },
   "outputs": [],
   "source": [
    "new_df.drop_duplicates(subset='title', inplace=True)"
   ]
  },
  {
   "cell_type": "markdown",
   "metadata": {},
   "source": [
    "## Analysis of time effect"
   ]
  },
  {
   "cell_type": "code",
   "execution_count": 31,
   "metadata": {
    "collapsed": false
   },
   "outputs": [],
   "source": [
    "time_analysis = new_df[['title', 'rating_x', 'rating_y', 'date_submitted']]"
   ]
  },
  {
   "cell_type": "code",
   "execution_count": 32,
   "metadata": {
    "collapsed": false
   },
   "outputs": [
    {
     "name": "stdout",
     "output_type": "stream",
     "text": [
      "<class 'pandas.core.frame.DataFrame'>\n",
      "Int64Index: 9235 entries, 0 to 9234\n",
      "Data columns (total 4 columns):\n",
      "title             9235 non-null object\n",
      "rating_x          9235 non-null int64\n",
      "rating_y          9235 non-null int64\n",
      "date_submitted    9235 non-null object\n",
      "dtypes: int64(2), object(2)\n",
      "memory usage: 360.7+ KB\n"
     ]
    }
   ],
   "source": [
    "time_analysis.info()"
   ]
  },
  {
   "cell_type": "code",
   "execution_count": 36,
   "metadata": {
    "collapsed": false
   },
   "outputs": [
    {
     "data": {
      "text/plain": [
       "'October 4, 2017'"
      ]
     },
     "execution_count": 36,
     "metadata": {},
     "output_type": "execute_result"
    }
   ],
   "source": [
    "# pd.to_datetime(time_analysis['date_submitted'], )\n",
    "time_analysis.iloc[0, 3]"
   ]
  },
  {
   "cell_type": "code",
   "execution_count": 51,
   "metadata": {
    "collapsed": false
   },
   "outputs": [],
   "source": [
    "\n",
    "def date_change(col):\n",
    "    return pd.to_datetime(col)"
   ]
  },
  {
   "cell_type": "code",
   "execution_count": 43,
   "metadata": {
    "collapsed": false
   },
   "outputs": [
    {
     "name": "stderr",
     "output_type": "stream",
     "text": [
      "/Applications/anaconda/envs/py36/lib/python3.6/site-packages/ipykernel/__main__.py:1: SettingWithCopyWarning: \n",
      "A value is trying to be set on a copy of a slice from a DataFrame.\n",
      "Try using .loc[row_indexer,col_indexer] = value instead\n",
      "\n",
      "See the caveats in the documentation: http://pandas.pydata.org/pandas-docs/stable/indexing.html#indexing-view-versus-copy\n",
      "  if __name__ == '__main__':\n"
     ]
    }
   ],
   "source": [
    "time_analysis['true_date'] = time_analysis['date_submitted'].apply(date_change)"
   ]
  },
  {
   "cell_type": "code",
   "execution_count": 56,
   "metadata": {
    "collapsed": false
   },
   "outputs": [],
   "source": [
    "date_x = pd.to_datetime('October 30, 2017')"
   ]
  },
  {
   "cell_type": "code",
   "execution_count": 57,
   "metadata": {
    "collapsed": false
   },
   "outputs": [
    {
     "name": "stderr",
     "output_type": "stream",
     "text": [
      "/Applications/anaconda/envs/py36/lib/python3.6/site-packages/ipykernel/__main__.py:1: SettingWithCopyWarning: \n",
      "A value is trying to be set on a copy of a slice from a DataFrame.\n",
      "Try using .loc[row_indexer,col_indexer] = value instead\n",
      "\n",
      "See the caveats in the documentation: http://pandas.pydata.org/pandas-docs/stable/indexing.html#indexing-view-versus-copy\n",
      "  if __name__ == '__main__':\n"
     ]
    }
   ],
   "source": [
    "time_analysis['recipe_age'] = date_x - time_analysis['true_date']"
   ]
  },
  {
   "cell_type": "code",
   "execution_count": 59,
   "metadata": {
    "collapsed": false
   },
   "outputs": [
    {
     "name": "stderr",
     "output_type": "stream",
     "text": [
      "/Applications/anaconda/envs/py36/lib/python3.6/site-packages/ipykernel/__main__.py:1: SettingWithCopyWarning: \n",
      "A value is trying to be set on a copy of a slice from a DataFrame.\n",
      "Try using .loc[row_indexer,col_indexer] = value instead\n",
      "\n",
      "See the caveats in the documentation: http://pandas.pydata.org/pandas-docs/stable/indexing.html#indexing-view-versus-copy\n",
      "  if __name__ == '__main__':\n"
     ]
    }
   ],
   "source": [
    "time_analysis['delta_rating_45d'] = time_analysis['rating_y'] - time_analysis['rating_x']"
   ]
  },
  {
   "cell_type": "code",
   "execution_count": 66,
   "metadata": {
    "collapsed": false
   },
   "outputs": [
    {
     "name": "stderr",
     "output_type": "stream",
     "text": [
      "/Applications/anaconda/envs/py36/lib/python3.6/site-packages/pandas/core/frame.py:2844: SettingWithCopyWarning: \n",
      "A value is trying to be set on a copy of a slice from a DataFrame\n",
      "\n",
      "See the caveats in the documentation: http://pandas.pydata.org/pandas-docs/stable/indexing.html#indexing-view-versus-copy\n",
      "  **kwargs)\n"
     ]
    }
   ],
   "source": [
    "time_analysis.rename(columns={'true_date': 'recipe_date'}, inplace=True)"
   ]
  },
  {
   "cell_type": "code",
   "execution_count": 62,
   "metadata": {
    "collapsed": true
   },
   "outputs": [],
   "source": [
    "del time_analysis['date_submitted']"
   ]
  },
  {
   "cell_type": "code",
   "execution_count": 147,
   "metadata": {
    "collapsed": false
   },
   "outputs": [
    {
     "name": "stderr",
     "output_type": "stream",
     "text": [
      "/Applications/anaconda/envs/py36/lib/python3.6/site-packages/ipykernel/__main__.py:3: SettingWithCopyWarning: \n",
      "A value is trying to be set on a copy of a slice from a DataFrame.\n",
      "Try using .loc[row_indexer,col_indexer] = value instead\n",
      "\n",
      "See the caveats in the documentation: http://pandas.pydata.org/pandas-docs/stable/indexing.html#indexing-view-versus-copy\n",
      "  app.launch_new_instance()\n"
     ]
    }
   ],
   "source": [
    "def time_d(col):\n",
    "    return np.float32(col.days)\n",
    "time_analysis['recipe_age'] = time_analysis['recipe_age'].apply(time_d)"
   ]
  },
  {
   "cell_type": "code",
   "execution_count": 72,
   "metadata": {
    "collapsed": false
   },
   "outputs": [
    {
     "name": "stderr",
     "output_type": "stream",
     "text": [
      "/Applications/anaconda/envs/py36/lib/python3.6/site-packages/ipykernel/__main__.py:1: SettingWithCopyWarning: \n",
      "A value is trying to be set on a copy of a slice from a DataFrame.\n",
      "Try using .loc[row_indexer,col_indexer] = value instead\n",
      "\n",
      "See the caveats in the documentation: http://pandas.pydata.org/pandas-docs/stable/indexing.html#indexing-view-versus-copy\n",
      "  if __name__ == '__main__':\n"
     ]
    }
   ],
   "source": [
    "time_analysis['percent_change'] = (time_analysis['delta_rating_45d'] / (time_analysis['rating_x'] - 1)) * 100"
   ]
  },
  {
   "cell_type": "code",
   "execution_count": null,
   "metadata": {
    "collapsed": true
   },
   "outputs": [],
   "source": [
    "time_analysis.hist('recipe_age', bins=20)\n",
    "# plt.xlim([-5, 20])"
   ]
  },
  {
   "cell_type": "markdown",
   "metadata": {},
   "source": [
    "## Creating stacked user/recipe/comments"
   ]
  },
  {
   "cell_type": "code",
   "execution_count": 34,
   "metadata": {
    "collapsed": false
   },
   "outputs": [
    {
     "name": "stdout",
     "output_type": "stream",
     "text": [
      "<class 'pandas.core.frame.DataFrame'>\n",
      "Int64Index: 9233 entries, 0 to 9233\n",
      "Data columns (total 13 columns):\n",
      "_id                9233 non-null object\n",
      "rating_x           9233 non-null int64\n",
      "recipe             9233 non-null object\n",
      "title              9233 non-null object\n",
      "weblink            9233 non-null object\n",
      "labels2            9233 non-null int64\n",
      "lda_topics2        9233 non-null int64\n",
      "date_submitted     9233 non-null object\n",
      "rating_y           9233 non-null int64\n",
      "servings           7437 non-null float64\n",
      "user_comments      9233 non-null object\n",
      "number_comments    9233 non-null int64\n",
      "date_formatted     9233 non-null object\n",
      "dtypes: float64(1), int64(5), object(7)\n",
      "memory usage: 1009.9+ KB\n"
     ]
    }
   ],
   "source": [
    "new_df.info()"
   ]
  },
  {
   "cell_type": "code",
   "execution_count": 35,
   "metadata": {
    "collapsed": false
   },
   "outputs": [],
   "source": [
    "new_df['date_formatted'] = new_df['date_submitted'].apply(lambda x: pd.to_datetime(x))"
   ]
  },
  {
   "cell_type": "code",
   "execution_count": 54,
   "metadata": {
    "collapsed": false
   },
   "outputs": [
    {
     "data": {
      "text/html": [
       "<div>\n",
       "<style>\n",
       "    .dataframe thead tr:only-child th {\n",
       "        text-align: right;\n",
       "    }\n",
       "\n",
       "    .dataframe thead th {\n",
       "        text-align: left;\n",
       "    }\n",
       "\n",
       "    .dataframe tbody tr th {\n",
       "        vertical-align: top;\n",
       "    }\n",
       "</style>\n",
       "<table border=\"1\" class=\"dataframe\">\n",
       "  <thead>\n",
       "    <tr style=\"text-align: right;\">\n",
       "      <th></th>\n",
       "      <th>_id</th>\n",
       "      <th>rating_x</th>\n",
       "      <th>recipe</th>\n",
       "      <th>title</th>\n",
       "      <th>weblink</th>\n",
       "      <th>labels2</th>\n",
       "      <th>lda_topics2</th>\n",
       "      <th>date_submitted</th>\n",
       "      <th>rating_y</th>\n",
       "      <th>servings</th>\n",
       "      <th>user_comments</th>\n",
       "      <th>number_comments</th>\n",
       "      <th>date_formatted</th>\n",
       "      <th>clean_comments</th>\n",
       "    </tr>\n",
       "  </thead>\n",
       "  <tbody>\n",
       "    <tr>\n",
       "      <th>0</th>\n",
       "      <td>59d7cf29a980892888190548</td>\n",
       "      <td>14</td>\n",
       "      <td>2 tablespoons unsalted butter\\n1/4 cup diced y...</td>\n",
       "      <td>Austin Diner-Style Queso</td>\n",
       "      <td>https://food52.com/recipes/73529-austin-diner-...</td>\n",
       "      <td>5</td>\n",
       "      <td>0</td>\n",
       "      <td>October 4, 2017</td>\n",
       "      <td>64</td>\n",
       "      <td>68.0</td>\n",
       "      <td>['\\n\\n23 days ago\\nalex\\n\\nDo as the locals do...</td>\n",
       "      <td>8</td>\n",
       "      <td>2017-10-04</td>\n",
       "      <td>[[alex, , Do as the locals do: On the stovetop...</td>\n",
       "    </tr>\n",
       "    <tr>\n",
       "      <th>1</th>\n",
       "      <td>59d7cf30a98089288819054a</td>\n",
       "      <td>29</td>\n",
       "      <td>1 pound shelled raw peanuts\\n1 tablespoon plus...</td>\n",
       "      <td>Mamba (Spicy Haitian Peanut Butter)</td>\n",
       "      <td>https://food52.com/recipes/73211-mamba-spicy-h...</td>\n",
       "      <td>4</td>\n",
       "      <td>2</td>\n",
       "      <td>September 18, 2017</td>\n",
       "      <td>38</td>\n",
       "      <td>1.0</td>\n",
       "      <td>['\\n\\n26 days ago\\nRegine\\n\\n“Cooking in HMB,”...</td>\n",
       "      <td>6</td>\n",
       "      <td>2017-09-18</td>\n",
       "      <td>[[Regine, , “Cooking in HMB,” recipe asks for ...</td>\n",
       "    </tr>\n",
       "    <tr>\n",
       "      <th>2</th>\n",
       "      <td>59d7cf39a98089288819054c</td>\n",
       "      <td>2</td>\n",
       "      <td>2 cups (8 1/2 ounces) all-purpose flour\\n1/2 c...</td>\n",
       "      <td>Sheet Pan Muffins</td>\n",
       "      <td>https://food52.com/recipes/73548-sheet-pan-muf...</td>\n",
       "      <td>1</td>\n",
       "      <td>1</td>\n",
       "      <td>October 5, 2017</td>\n",
       "      <td>76</td>\n",
       "      <td>NaN</td>\n",
       "      <td>[\"\\n\\n11 days ago\\nGumba\\n\\nReminds me of HoJo...</td>\n",
       "      <td>14</td>\n",
       "      <td>2017-10-05</td>\n",
       "      <td>[[Gumba, , Reminds me of HoJo's blueberry toas...</td>\n",
       "    </tr>\n",
       "    <tr>\n",
       "      <th>3</th>\n",
       "      <td>59d7cf3fa98089288819054e</td>\n",
       "      <td>92</td>\n",
       "      <td>1 1/2 cups (300g) Puy lentils, washed\\n4 clove...</td>\n",
       "      <td>Anna Jones' Favorite Lentils with Roasted Toma...</td>\n",
       "      <td>https://food52.com/recipes/73511-anna-jones-fa...</td>\n",
       "      <td>0</td>\n",
       "      <td>3</td>\n",
       "      <td>October 3, 2017</td>\n",
       "      <td>130</td>\n",
       "      <td>4.0</td>\n",
       "      <td>['\\n\\n18 days ago\\nJenn Travis\\n\\nThese are so...</td>\n",
       "      <td>10</td>\n",
       "      <td>2017-10-03</td>\n",
       "      <td>[[Jenn Travis, , These are so so yummy. They w...</td>\n",
       "    </tr>\n",
       "    <tr>\n",
       "      <th>4</th>\n",
       "      <td>59d7cf48a980892888190550</td>\n",
       "      <td>3</td>\n",
       "      <td>2 ounces Seedlip Garden 108\\n0.75 ounces Lemon...</td>\n",
       "      <td>Seedlip's A Good Dill</td>\n",
       "      <td>https://food52.com/recipes/73252-seedlip-s-a-g...</td>\n",
       "      <td>3</td>\n",
       "      <td>2</td>\n",
       "      <td>September 21, 2017</td>\n",
       "      <td>5</td>\n",
       "      <td>1.0</td>\n",
       "      <td>[]</td>\n",
       "      <td>0</td>\n",
       "      <td>2017-09-21</td>\n",
       "      <td>[]</td>\n",
       "    </tr>\n",
       "  </tbody>\n",
       "</table>\n",
       "</div>"
      ],
      "text/plain": [
       "                        _id  rating_x  \\\n",
       "0  59d7cf29a980892888190548        14   \n",
       "1  59d7cf30a98089288819054a        29   \n",
       "2  59d7cf39a98089288819054c         2   \n",
       "3  59d7cf3fa98089288819054e        92   \n",
       "4  59d7cf48a980892888190550         3   \n",
       "\n",
       "                                              recipe  \\\n",
       "0  2 tablespoons unsalted butter\\n1/4 cup diced y...   \n",
       "1  1 pound shelled raw peanuts\\n1 tablespoon plus...   \n",
       "2  2 cups (8 1/2 ounces) all-purpose flour\\n1/2 c...   \n",
       "3  1 1/2 cups (300g) Puy lentils, washed\\n4 clove...   \n",
       "4  2 ounces Seedlip Garden 108\\n0.75 ounces Lemon...   \n",
       "\n",
       "                                               title  \\\n",
       "0                           Austin Diner-Style Queso   \n",
       "1                Mamba (Spicy Haitian Peanut Butter)   \n",
       "2                                  Sheet Pan Muffins   \n",
       "3  Anna Jones' Favorite Lentils with Roasted Toma...   \n",
       "4                              Seedlip's A Good Dill   \n",
       "\n",
       "                                             weblink  labels2  lda_topics2  \\\n",
       "0  https://food52.com/recipes/73529-austin-diner-...        5            0   \n",
       "1  https://food52.com/recipes/73211-mamba-spicy-h...        4            2   \n",
       "2  https://food52.com/recipes/73548-sheet-pan-muf...        1            1   \n",
       "3  https://food52.com/recipes/73511-anna-jones-fa...        0            3   \n",
       "4  https://food52.com/recipes/73252-seedlip-s-a-g...        3            2   \n",
       "\n",
       "       date_submitted  rating_y  servings  \\\n",
       "0     October 4, 2017        64      68.0   \n",
       "1  September 18, 2017        38       1.0   \n",
       "2     October 5, 2017        76       NaN   \n",
       "3     October 3, 2017       130       4.0   \n",
       "4  September 21, 2017         5       1.0   \n",
       "\n",
       "                                       user_comments  number_comments  \\\n",
       "0  ['\\n\\n23 days ago\\nalex\\n\\nDo as the locals do...                8   \n",
       "1  ['\\n\\n26 days ago\\nRegine\\n\\n“Cooking in HMB,”...                6   \n",
       "2  [\"\\n\\n11 days ago\\nGumba\\n\\nReminds me of HoJo...               14   \n",
       "3  ['\\n\\n18 days ago\\nJenn Travis\\n\\nThese are so...               10   \n",
       "4                                                 []                0   \n",
       "\n",
       "  date_formatted                                     clean_comments  \n",
       "0     2017-10-04  [[alex, , Do as the locals do: On the stovetop...  \n",
       "1     2017-09-18  [[Regine, , “Cooking in HMB,” recipe asks for ...  \n",
       "2     2017-10-05  [[Gumba, , Reminds me of HoJo's blueberry toas...  \n",
       "3     2017-10-03  [[Jenn Travis, , These are so so yummy. They w...  \n",
       "4     2017-09-21                                                 []  "
      ]
     },
     "execution_count": 54,
     "metadata": {},
     "output_type": "execute_result"
    }
   ],
   "source": [
    "new_df.head()"
   ]
  },
  {
   "cell_type": "code",
   "execution_count": 39,
   "metadata": {
    "collapsed": false
   },
   "outputs": [],
   "source": [
    "test = \"\".join(new_df.iloc[2, 10])"
   ]
  },
  {
   "cell_type": "code",
   "execution_count": 40,
   "metadata": {
    "collapsed": false
   },
   "outputs": [],
   "source": [
    "import ast\n",
    "test_lst = ast.literal_eval(test)"
   ]
  },
  {
   "cell_type": "code",
   "execution_count": 41,
   "metadata": {
    "collapsed": true
   },
   "outputs": [],
   "source": [
    "new_df['clean_comments'] = new_df['user_comments'].apply(lambda x: ast.literal_eval(x))"
   ]
  },
  {
   "cell_type": "code",
   "execution_count": 42,
   "metadata": {
    "collapsed": true
   },
   "outputs": [],
   "source": [
    "def clean_com(col):\n",
    "    return [item.split('\\n')[3:]for item in col]\n",
    "        \n",
    "        "
   ]
  },
  {
   "cell_type": "code",
   "execution_count": 43,
   "metadata": {
    "collapsed": true
   },
   "outputs": [],
   "source": [
    "new_df['clean_comments'] = new_df['clean_comments'].apply(clean_com)"
   ]
  },
  {
   "cell_type": "code",
   "execution_count": 51,
   "metadata": {
    "collapsed": false
   },
   "outputs": [],
   "source": [
    "new_df.to_csv('data/combined_scrapes.csv')"
   ]
  },
  {
   "cell_type": "code",
   "execution_count": 52,
   "metadata": {
    "collapsed": false
   },
   "outputs": [],
   "source": [
    "senti_df = new_df[['title', 'clean_comments', 'number_comments', 'rating_x']]"
   ]
  },
  {
   "cell_type": "code",
   "execution_count": 47,
   "metadata": {
    "collapsed": true
   },
   "outputs": [],
   "source": [
    "# def title_mul(col):\n",
    "#     return list(col)"
   ]
  },
  {
   "cell_type": "code",
   "execution_count": 53,
   "metadata": {
    "collapsed": false
   },
   "outputs": [
    {
     "name": "stderr",
     "output_type": "stream",
     "text": [
      "/Applications/anaconda/envs/py36/lib/python3.6/site-packages/ipykernel/__main__.py:1: SettingWithCopyWarning: \n",
      "A value is trying to be set on a copy of a slice from a DataFrame.\n",
      "Try using .loc[row_indexer,col_indexer] = value instead\n",
      "\n",
      "See the caveats in the documentation: http://pandas.pydata.org/pandas-docs/stable/indexing.html#indexing-view-versus-copy\n",
      "  if __name__ == '__main__':\n"
     ]
    }
   ],
   "source": [
    "senti_df['title_mul'] = senti_df['title'].apply(lambda x: [x])"
   ]
  },
  {
   "cell_type": "code",
   "execution_count": 64,
   "metadata": {
    "collapsed": false
   },
   "outputs": [
    {
     "name": "stderr",
     "output_type": "stream",
     "text": [
      "/Applications/anaconda/envs/py36/lib/python3.6/site-packages/ipykernel/__main__.py:7: SettingWithCopyWarning: \n",
      "A value is trying to be set on a copy of a slice from a DataFrame.\n",
      "Try using .loc[row_indexer,col_indexer] = value instead\n",
      "\n",
      "See the caveats in the documentation: http://pandas.pydata.org/pandas-docs/stable/indexing.html#indexing-view-versus-copy\n"
     ]
    }
   ],
   "source": [
    "def fill_empty(col):\n",
    "    if col == 0:\n",
    "        return 1\n",
    "    else:\n",
    "        return col\n",
    "\n",
    "senti_df['number_comments'] = senti_df['number_comments'].apply(fill_empty)"
   ]
  },
  {
   "cell_type": "code",
   "execution_count": 65,
   "metadata": {
    "collapsed": false
   },
   "outputs": [
    {
     "name": "stderr",
     "output_type": "stream",
     "text": [
      "/Applications/anaconda/envs/py36/lib/python3.6/site-packages/ipykernel/__main__.py:1: SettingWithCopyWarning: \n",
      "A value is trying to be set on a copy of a slice from a DataFrame.\n",
      "Try using .loc[row_indexer,col_indexer] = value instead\n",
      "\n",
      "See the caveats in the documentation: http://pandas.pydata.org/pandas-docs/stable/indexing.html#indexing-view-versus-copy\n",
      "  if __name__ == '__main__':\n"
     ]
    }
   ],
   "source": [
    "senti_df['title_mul_f'] = senti_df['title_mul'] * senti_df['number_comments']"
   ]
  },
  {
   "cell_type": "code",
   "execution_count": 63,
   "metadata": {
    "collapsed": false
   },
   "outputs": [
    {
     "name": "stderr",
     "output_type": "stream",
     "text": [
      "/Applications/anaconda/envs/py36/lib/python3.6/site-packages/ipykernel/__main__.py:6: SettingWithCopyWarning: \n",
      "A value is trying to be set on a copy of a slice from a DataFrame.\n",
      "Try using .loc[row_indexer,col_indexer] = value instead\n",
      "\n",
      "See the caveats in the documentation: http://pandas.pydata.org/pandas-docs/stable/indexing.html#indexing-view-versus-copy\n"
     ]
    }
   ],
   "source": [
    "def zero_comment(col):\n",
    "    if col == []:\n",
    "        return [[0]]\n",
    "    else:\n",
    "        return col\n",
    "senti_df['clean_comments'] = senti_df['clean_comments'].apply(zero_comment)"
   ]
  },
  {
   "cell_type": "code",
   "execution_count": 72,
   "metadata": {
    "collapsed": true
   },
   "outputs": [],
   "source": [
    "comments = senti_df['clean_comments']\n",
    "\n",
    "        "
   ]
  },
  {
   "cell_type": "code",
   "execution_count": 80,
   "metadata": {
    "collapsed": false
   },
   "outputs": [
    {
     "data": {
      "text/plain": [
       "9233"
      ]
     },
     "execution_count": 80,
     "metadata": {},
     "output_type": "execute_result"
    }
   ],
   "source": [
    "len(comments)"
   ]
  },
  {
   "cell_type": "code",
   "execution_count": 77,
   "metadata": {
    "collapsed": true
   },
   "outputs": [],
   "source": [
    "titles = senti_df['title_mul_f']"
   ]
  },
  {
   "cell_type": "code",
   "execution_count": 78,
   "metadata": {
    "collapsed": false
   },
   "outputs": [
    {
     "ename": "KeyError",
     "evalue": "9232",
     "output_type": "error",
     "traceback": [
      "\u001b[0;31m---------------------------------------------------------------------------\u001b[0m",
      "\u001b[0;31mKeyError\u001b[0m                                  Traceback (most recent call last)",
      "\u001b[0;32m<ipython-input-78-5ec95a32b550>\u001b[0m in \u001b[0;36m<module>\u001b[0;34m()\u001b[0m\n\u001b[1;32m      1\u001b[0m \u001b[0mcombo\u001b[0m \u001b[0;34m=\u001b[0m \u001b[0;34m[\u001b[0m\u001b[0;34m]\u001b[0m\u001b[0;34m\u001b[0m\u001b[0m\n\u001b[1;32m      2\u001b[0m \u001b[0;32mfor\u001b[0m \u001b[0mn\u001b[0m \u001b[0;32min\u001b[0m \u001b[0mrange\u001b[0m\u001b[0;34m(\u001b[0m\u001b[0mlen\u001b[0m\u001b[0;34m(\u001b[0m\u001b[0mcomments\u001b[0m\u001b[0;34m)\u001b[0m\u001b[0;34m)\u001b[0m\u001b[0;34m:\u001b[0m\u001b[0;34m\u001b[0m\u001b[0m\n\u001b[0;32m----> 3\u001b[0;31m     \u001b[0mcomb\u001b[0m \u001b[0;34m=\u001b[0m \u001b[0mlist\u001b[0m\u001b[0;34m(\u001b[0m\u001b[0mzip\u001b[0m\u001b[0;34m(\u001b[0m\u001b[0mcomments\u001b[0m\u001b[0;34m[\u001b[0m\u001b[0mn\u001b[0m\u001b[0;34m]\u001b[0m\u001b[0;34m,\u001b[0m \u001b[0mtitles\u001b[0m\u001b[0;34m[\u001b[0m\u001b[0mn\u001b[0m\u001b[0;34m]\u001b[0m\u001b[0;34m)\u001b[0m\u001b[0;34m)\u001b[0m\u001b[0;34m\u001b[0m\u001b[0m\n\u001b[0m\u001b[1;32m      4\u001b[0m     \u001b[0mcombo\u001b[0m\u001b[0;34m.\u001b[0m\u001b[0mextend\u001b[0m\u001b[0;34m(\u001b[0m\u001b[0mcomb\u001b[0m\u001b[0;34m)\u001b[0m\u001b[0;34m\u001b[0m\u001b[0m\n",
      "\u001b[0;32m/Applications/anaconda/envs/py36/lib/python3.6/site-packages/pandas/core/series.py\u001b[0m in \u001b[0;36m__getitem__\u001b[0;34m(self, key)\u001b[0m\n\u001b[1;32m    599\u001b[0m         \u001b[0mkey\u001b[0m \u001b[0;34m=\u001b[0m \u001b[0mcom\u001b[0m\u001b[0;34m.\u001b[0m\u001b[0m_apply_if_callable\u001b[0m\u001b[0;34m(\u001b[0m\u001b[0mkey\u001b[0m\u001b[0;34m,\u001b[0m \u001b[0mself\u001b[0m\u001b[0;34m)\u001b[0m\u001b[0;34m\u001b[0m\u001b[0m\n\u001b[1;32m    600\u001b[0m         \u001b[0;32mtry\u001b[0m\u001b[0;34m:\u001b[0m\u001b[0;34m\u001b[0m\u001b[0m\n\u001b[0;32m--> 601\u001b[0;31m             \u001b[0mresult\u001b[0m \u001b[0;34m=\u001b[0m \u001b[0mself\u001b[0m\u001b[0;34m.\u001b[0m\u001b[0mindex\u001b[0m\u001b[0;34m.\u001b[0m\u001b[0mget_value\u001b[0m\u001b[0;34m(\u001b[0m\u001b[0mself\u001b[0m\u001b[0;34m,\u001b[0m \u001b[0mkey\u001b[0m\u001b[0;34m)\u001b[0m\u001b[0;34m\u001b[0m\u001b[0m\n\u001b[0m\u001b[1;32m    602\u001b[0m \u001b[0;34m\u001b[0m\u001b[0m\n\u001b[1;32m    603\u001b[0m             \u001b[0;32mif\u001b[0m \u001b[0;32mnot\u001b[0m \u001b[0mis_scalar\u001b[0m\u001b[0;34m(\u001b[0m\u001b[0mresult\u001b[0m\u001b[0;34m)\u001b[0m\u001b[0;34m:\u001b[0m\u001b[0;34m\u001b[0m\u001b[0m\n",
      "\u001b[0;32m/Applications/anaconda/envs/py36/lib/python3.6/site-packages/pandas/core/indexes/base.py\u001b[0m in \u001b[0;36mget_value\u001b[0;34m(self, series, key)\u001b[0m\n\u001b[1;32m   2426\u001b[0m         \u001b[0;32mtry\u001b[0m\u001b[0;34m:\u001b[0m\u001b[0;34m\u001b[0m\u001b[0m\n\u001b[1;32m   2427\u001b[0m             return self._engine.get_value(s, k,\n\u001b[0;32m-> 2428\u001b[0;31m                                           tz=getattr(series.dtype, 'tz', None))\n\u001b[0m\u001b[1;32m   2429\u001b[0m         \u001b[0;32mexcept\u001b[0m \u001b[0mKeyError\u001b[0m \u001b[0;32mas\u001b[0m \u001b[0me1\u001b[0m\u001b[0;34m:\u001b[0m\u001b[0;34m\u001b[0m\u001b[0m\n\u001b[1;32m   2430\u001b[0m             \u001b[0;32mif\u001b[0m \u001b[0mlen\u001b[0m\u001b[0;34m(\u001b[0m\u001b[0mself\u001b[0m\u001b[0;34m)\u001b[0m \u001b[0;34m>\u001b[0m \u001b[0;36m0\u001b[0m \u001b[0;32mand\u001b[0m \u001b[0mself\u001b[0m\u001b[0;34m.\u001b[0m\u001b[0minferred_type\u001b[0m \u001b[0;32min\u001b[0m \u001b[0;34m[\u001b[0m\u001b[0;34m'integer'\u001b[0m\u001b[0;34m,\u001b[0m \u001b[0;34m'boolean'\u001b[0m\u001b[0;34m]\u001b[0m\u001b[0;34m:\u001b[0m\u001b[0;34m\u001b[0m\u001b[0m\n",
      "\u001b[0;32mpandas/_libs/index.pyx\u001b[0m in \u001b[0;36mpandas._libs.index.IndexEngine.get_value (pandas/_libs/index.c:4363)\u001b[0;34m()\u001b[0m\n",
      "\u001b[0;32mpandas/_libs/index.pyx\u001b[0m in \u001b[0;36mpandas._libs.index.IndexEngine.get_value (pandas/_libs/index.c:4046)\u001b[0;34m()\u001b[0m\n",
      "\u001b[0;32mpandas/_libs/index.pyx\u001b[0m in \u001b[0;36mpandas._libs.index.IndexEngine.get_loc (pandas/_libs/index.c:5085)\u001b[0;34m()\u001b[0m\n",
      "\u001b[0;32mpandas/_libs/hashtable_class_helper.pxi\u001b[0m in \u001b[0;36mpandas._libs.hashtable.Int64HashTable.get_item (pandas/_libs/hashtable.c:13913)\u001b[0;34m()\u001b[0m\n",
      "\u001b[0;32mpandas/_libs/hashtable_class_helper.pxi\u001b[0m in \u001b[0;36mpandas._libs.hashtable.Int64HashTable.get_item (pandas/_libs/hashtable.c:13857)\u001b[0;34m()\u001b[0m\n",
      "\u001b[0;31mKeyError\u001b[0m: 9232"
     ]
    }
   ],
   "source": [
    "combo = []\n",
    "for n in range(len(comments)):\n",
    "    comb = list(zip(comments[n], titles[n]))\n",
    "    combo.extend(comb)"
   ]
  },
  {
   "cell_type": "code",
   "execution_count": 81,
   "metadata": {
    "collapsed": false
   },
   "outputs": [
    {
     "data": {
      "text/plain": [
       "55943"
      ]
     },
     "execution_count": 81,
     "metadata": {},
     "output_type": "execute_result"
    }
   ],
   "source": [
    "len(combo)"
   ]
  },
  {
   "cell_type": "code",
   "execution_count": 82,
   "metadata": {
    "collapsed": true
   },
   "outputs": [],
   "source": [
    "df_working = pd.DataFrame.from_records(combo)"
   ]
  },
  {
   "cell_type": "code",
   "execution_count": 83,
   "metadata": {
    "collapsed": false
   },
   "outputs": [
    {
     "data": {
      "text/html": [
       "<div>\n",
       "<style>\n",
       "    .dataframe thead tr:only-child th {\n",
       "        text-align: right;\n",
       "    }\n",
       "\n",
       "    .dataframe thead th {\n",
       "        text-align: left;\n",
       "    }\n",
       "\n",
       "    .dataframe tbody tr th {\n",
       "        vertical-align: top;\n",
       "    }\n",
       "</style>\n",
       "<table border=\"1\" class=\"dataframe\">\n",
       "  <thead>\n",
       "    <tr style=\"text-align: right;\">\n",
       "      <th></th>\n",
       "      <th>0</th>\n",
       "      <th>1</th>\n",
       "    </tr>\n",
       "  </thead>\n",
       "  <tbody>\n",
       "    <tr>\n",
       "      <th>0</th>\n",
       "      <td>[alex, , Do as the locals do: On the stovetop ...</td>\n",
       "      <td>Austin Diner-Style Queso</td>\n",
       "    </tr>\n",
       "    <tr>\n",
       "      <th>1</th>\n",
       "      <td>[petalpusher, , This recipe is good for those ...</td>\n",
       "      <td>Austin Diner-Style Queso</td>\n",
       "    </tr>\n",
       "    <tr>\n",
       "      <th>2</th>\n",
       "      <td>[EmFraiche, , How much water do you add? I don...</td>\n",
       "      <td>Austin Diner-Style Queso</td>\n",
       "    </tr>\n",
       "    <tr>\n",
       "      <th>3</th>\n",
       "      <td>[Jennifer M, , I put in equal parts milk and w...</td>\n",
       "      <td>Austin Diner-Style Queso</td>\n",
       "    </tr>\n",
       "    <tr>\n",
       "      <th>4</th>\n",
       "      <td>[Ceil_the_great, , Sounds tasty! Can you recom...</td>\n",
       "      <td>Austin Diner-Style Queso</td>\n",
       "    </tr>\n",
       "  </tbody>\n",
       "</table>\n",
       "</div>"
      ],
      "text/plain": [
       "                                                   0                         1\n",
       "0  [alex, , Do as the locals do: On the stovetop ...  Austin Diner-Style Queso\n",
       "1  [petalpusher, , This recipe is good for those ...  Austin Diner-Style Queso\n",
       "2  [EmFraiche, , How much water do you add? I don...  Austin Diner-Style Queso\n",
       "3  [Jennifer M, , I put in equal parts milk and w...  Austin Diner-Style Queso\n",
       "4  [Ceil_the_great, , Sounds tasty! Can you recom...  Austin Diner-Style Queso"
      ]
     },
     "execution_count": 83,
     "metadata": {},
     "output_type": "execute_result"
    }
   ],
   "source": [
    "df_working.head()"
   ]
  },
  {
   "cell_type": "code",
   "execution_count": 84,
   "metadata": {
    "collapsed": true
   },
   "outputs": [],
   "source": [
    "df_working.columns = 'user_comment recipe_title'.split()"
   ]
  },
  {
   "cell_type": "code",
   "execution_count": 85,
   "metadata": {
    "collapsed": false
   },
   "outputs": [
    {
     "data": {
      "text/html": [
       "<div>\n",
       "<style>\n",
       "    .dataframe thead tr:only-child th {\n",
       "        text-align: right;\n",
       "    }\n",
       "\n",
       "    .dataframe thead th {\n",
       "        text-align: left;\n",
       "    }\n",
       "\n",
       "    .dataframe tbody tr th {\n",
       "        vertical-align: top;\n",
       "    }\n",
       "</style>\n",
       "<table border=\"1\" class=\"dataframe\">\n",
       "  <thead>\n",
       "    <tr style=\"text-align: right;\">\n",
       "      <th></th>\n",
       "      <th>user_comment</th>\n",
       "      <th>recipe_title</th>\n",
       "    </tr>\n",
       "  </thead>\n",
       "  <tbody>\n",
       "    <tr>\n",
       "      <th>0</th>\n",
       "      <td>[alex, , Do as the locals do: On the stovetop ...</td>\n",
       "      <td>Austin Diner-Style Queso</td>\n",
       "    </tr>\n",
       "    <tr>\n",
       "      <th>1</th>\n",
       "      <td>[petalpusher, , This recipe is good for those ...</td>\n",
       "      <td>Austin Diner-Style Queso</td>\n",
       "    </tr>\n",
       "    <tr>\n",
       "      <th>2</th>\n",
       "      <td>[EmFraiche, , How much water do you add? I don...</td>\n",
       "      <td>Austin Diner-Style Queso</td>\n",
       "    </tr>\n",
       "    <tr>\n",
       "      <th>3</th>\n",
       "      <td>[Jennifer M, , I put in equal parts milk and w...</td>\n",
       "      <td>Austin Diner-Style Queso</td>\n",
       "    </tr>\n",
       "    <tr>\n",
       "      <th>4</th>\n",
       "      <td>[Ceil_the_great, , Sounds tasty! Can you recom...</td>\n",
       "      <td>Austin Diner-Style Queso</td>\n",
       "    </tr>\n",
       "  </tbody>\n",
       "</table>\n",
       "</div>"
      ],
      "text/plain": [
       "                                        user_comment              recipe_title\n",
       "0  [alex, , Do as the locals do: On the stovetop ...  Austin Diner-Style Queso\n",
       "1  [petalpusher, , This recipe is good for those ...  Austin Diner-Style Queso\n",
       "2  [EmFraiche, , How much water do you add? I don...  Austin Diner-Style Queso\n",
       "3  [Jennifer M, , I put in equal parts milk and w...  Austin Diner-Style Queso\n",
       "4  [Ceil_the_great, , Sounds tasty! Can you recom...  Austin Diner-Style Queso"
      ]
     },
     "execution_count": 85,
     "metadata": {},
     "output_type": "execute_result"
    }
   ],
   "source": [
    "df_working.head()"
   ]
  },
  {
   "cell_type": "code",
   "execution_count": 86,
   "metadata": {
    "collapsed": true
   },
   "outputs": [],
   "source": [
    "def user_id(col):\n",
    "    if col != []:\n",
    "        return col[0]\n",
    "    else:\n",
    "        return None\n",
    "df_working['user'] = df_working['user_comment'].apply(user_id)"
   ]
  },
  {
   "cell_type": "code",
   "execution_count": 90,
   "metadata": {
    "collapsed": false
   },
   "outputs": [
    {
     "data": {
      "text/plain": [
       "'Do as the locals do: On the stovetop or in the microwave melt 1 block of velveeta cheese and one can of rotel tomatoes.  If you are feeling fancy you can mix in pickled jalapenos, guacamole, ground beef sauteed with onions, or black beans.  Enjoy with college football.'"
      ]
     },
     "execution_count": 90,
     "metadata": {},
     "output_type": "execute_result"
    }
   ],
   "source": [
    "df_working.iloc[0, 0][2]"
   ]
  },
  {
   "cell_type": "code",
   "execution_count": 91,
   "metadata": {
    "collapsed": false
   },
   "outputs": [],
   "source": [
    "df_working['comment'] = df_working['user_comment'].apply(lambda x: x[2:])"
   ]
  },
  {
   "cell_type": "code",
   "execution_count": 101,
   "metadata": {
    "collapsed": false
   },
   "outputs": [],
   "source": [
    "df_working['comment'] = df_working['comment'].apply(lambda x: x[0] if x != [] else \"\")"
   ]
  },
  {
   "cell_type": "code",
   "execution_count": 93,
   "metadata": {
    "collapsed": true
   },
   "outputs": [],
   "source": [
    "del df_working['user_comment']"
   ]
  },
  {
   "cell_type": "code",
   "execution_count": 94,
   "metadata": {
    "collapsed": true
   },
   "outputs": [],
   "source": [
    "df_working.to_csv('data/recipe_user_comment.csv')"
   ]
  },
  {
   "cell_type": "code",
   "execution_count": 95,
   "metadata": {
    "collapsed": true
   },
   "outputs": [],
   "source": [
    "import nltk"
   ]
  },
  {
   "cell_type": "code",
   "execution_count": 96,
   "metadata": {
    "collapsed": false
   },
   "outputs": [
    {
     "name": "stderr",
     "output_type": "stream",
     "text": [
      "/Applications/anaconda/envs/py36/lib/python3.6/site-packages/nltk/twitter/__init__.py:20: UserWarning: The twython library has not been installed. Some functionality from the twitter package will not be available.\n",
      "  warnings.warn(\"The twython library has not been installed. \"\n"
     ]
    }
   ],
   "source": [
    "from nltk.sentiment.vader import SentimentIntensityAnalyzer"
   ]
  },
  {
   "cell_type": "code",
   "execution_count": 97,
   "metadata": {
    "collapsed": true
   },
   "outputs": [],
   "source": [
    "slc = SentimentIntensityAnalyzer()"
   ]
  },
  {
   "cell_type": "code",
   "execution_count": 98,
   "metadata": {
    "collapsed": false
   },
   "outputs": [
    {
     "data": {
      "text/plain": [
       "{'compound': -0.1027, 'neg': 0.583, 'neu': 0.417, 'pos': 0.0}"
      ]
     },
     "execution_count": 98,
     "metadata": {},
     "output_type": "execute_result"
    }
   ],
   "source": [
    "slc.polarity_scores('I am a blah')"
   ]
  },
  {
   "cell_type": "code",
   "execution_count": 99,
   "metadata": {
    "collapsed": true
   },
   "outputs": [],
   "source": [
    "def sentence_pos(col):\n",
    "    return slc.polarity_scores(col)"
   ]
  },
  {
   "cell_type": "code",
   "execution_count": 102,
   "metadata": {
    "collapsed": false
   },
   "outputs": [],
   "source": [
    "df_working['pol_scores'] = df_working['comment'].apply(sentence_pos)"
   ]
  },
  {
   "cell_type": "code",
   "execution_count": 109,
   "metadata": {
    "collapsed": false
   },
   "outputs": [
    {
     "data": {
      "text/plain": [
       "{'compound': 0.0, 'neg': 0.0, 'neu': 0.0, 'pos': 0.0}"
      ]
     },
     "execution_count": 109,
     "metadata": {},
     "output_type": "execute_result"
    }
   ],
   "source": [
    "df_working['pol_scores'][55871]"
   ]
  },
  {
   "cell_type": "code",
   "execution_count": 308,
   "metadata": {
    "collapsed": true
   },
   "outputs": [],
   "source": [
    "df_working['compound'] = df_working['pol_scores'].apply(lambda x: x['compound'])"
   ]
  },
  {
   "cell_type": "code",
   "execution_count": 269,
   "metadata": {
    "collapsed": false
   },
   "outputs": [],
   "source": [
    "def implicit(col):\n",
    "    comp, neut = col['compound'], col['neu']\n",
    "    if comp == 0 and comp == 0:\n",
    "        return 0\n",
    "    if comp < 0:\n",
    "        return 1\n",
    "    if comp > 0 and comp <= 0.6:\n",
    "        return 2\n",
    "    if comp > 0.6:\n",
    "        return 3\n",
    "df_working['implicit'] = df_working['pol_scores'].apply(implicit)"
   ]
  },
  {
   "cell_type": "code",
   "execution_count": 270,
   "metadata": {
    "collapsed": false
   },
   "outputs": [
    {
     "data": {
      "text/plain": [
       "3    26108\n",
       "0    16047\n",
       "2    10123\n",
       "1     3665\n",
       "Name: implicit, dtype: int64"
      ]
     },
     "execution_count": 270,
     "metadata": {},
     "output_type": "execute_result"
    }
   ],
   "source": [
    "df_working['implicit'].value_counts()"
   ]
  },
  {
   "cell_type": "code",
   "execution_count": 265,
   "metadata": {
    "collapsed": false
   },
   "outputs": [
    {
     "data": {
      "text/html": [
       "<div>\n",
       "<style>\n",
       "    .dataframe thead tr:only-child th {\n",
       "        text-align: right;\n",
       "    }\n",
       "\n",
       "    .dataframe thead th {\n",
       "        text-align: left;\n",
       "    }\n",
       "\n",
       "    .dataframe tbody tr th {\n",
       "        vertical-align: top;\n",
       "    }\n",
       "</style>\n",
       "<table border=\"1\" class=\"dataframe\">\n",
       "  <thead>\n",
       "    <tr style=\"text-align: right;\">\n",
       "      <th></th>\n",
       "      <th>title</th>\n",
       "      <th>clean_comments</th>\n",
       "      <th>number_comments</th>\n",
       "      <th>rating_x</th>\n",
       "      <th>title_mul</th>\n",
       "      <th>title_mul_f</th>\n",
       "    </tr>\n",
       "  </thead>\n",
       "  <tbody>\n",
       "    <tr>\n",
       "      <th>0</th>\n",
       "      <td>Austin Diner-Style Queso</td>\n",
       "      <td>[[alex, , Do as the locals do: On the stovetop...</td>\n",
       "      <td>8</td>\n",
       "      <td>14</td>\n",
       "      <td>[Austin Diner-Style Queso]</td>\n",
       "      <td>[Austin Diner-Style Queso, Austin Diner-Style ...</td>\n",
       "    </tr>\n",
       "    <tr>\n",
       "      <th>1</th>\n",
       "      <td>Mamba (Spicy Haitian Peanut Butter)</td>\n",
       "      <td>[[Regine, , “Cooking in HMB,” recipe asks for ...</td>\n",
       "      <td>6</td>\n",
       "      <td>29</td>\n",
       "      <td>[Mamba (Spicy Haitian Peanut Butter)]</td>\n",
       "      <td>[Mamba (Spicy Haitian Peanut Butter), Mamba (S...</td>\n",
       "    </tr>\n",
       "    <tr>\n",
       "      <th>2</th>\n",
       "      <td>Sheet Pan Muffins</td>\n",
       "      <td>[[Gumba, , Reminds me of HoJo's blueberry toas...</td>\n",
       "      <td>14</td>\n",
       "      <td>2</td>\n",
       "      <td>[Sheet Pan Muffins]</td>\n",
       "      <td>[Sheet Pan Muffins, Sheet Pan Muffins, Sheet P...</td>\n",
       "    </tr>\n",
       "    <tr>\n",
       "      <th>3</th>\n",
       "      <td>Anna Jones' Favorite Lentils with Roasted Toma...</td>\n",
       "      <td>[[Jenn Travis, , These are so so yummy. They w...</td>\n",
       "      <td>10</td>\n",
       "      <td>92</td>\n",
       "      <td>[Anna Jones' Favorite Lentils with Roasted Tom...</td>\n",
       "      <td>[Anna Jones' Favorite Lentils with Roasted Tom...</td>\n",
       "    </tr>\n",
       "    <tr>\n",
       "      <th>4</th>\n",
       "      <td>Seedlip's A Good Dill</td>\n",
       "      <td>[[0]]</td>\n",
       "      <td>1</td>\n",
       "      <td>3</td>\n",
       "      <td>[Seedlip's A Good Dill]</td>\n",
       "      <td>[Seedlip's A Good Dill]</td>\n",
       "    </tr>\n",
       "  </tbody>\n",
       "</table>\n",
       "</div>"
      ],
      "text/plain": [
       "                                               title  \\\n",
       "0                           Austin Diner-Style Queso   \n",
       "1                Mamba (Spicy Haitian Peanut Butter)   \n",
       "2                                  Sheet Pan Muffins   \n",
       "3  Anna Jones' Favorite Lentils with Roasted Toma...   \n",
       "4                              Seedlip's A Good Dill   \n",
       "\n",
       "                                      clean_comments  number_comments  \\\n",
       "0  [[alex, , Do as the locals do: On the stovetop...                8   \n",
       "1  [[Regine, , “Cooking in HMB,” recipe asks for ...                6   \n",
       "2  [[Gumba, , Reminds me of HoJo's blueberry toas...               14   \n",
       "3  [[Jenn Travis, , These are so so yummy. They w...               10   \n",
       "4                                              [[0]]                1   \n",
       "\n",
       "   rating_x                                          title_mul  \\\n",
       "0        14                         [Austin Diner-Style Queso]   \n",
       "1        29              [Mamba (Spicy Haitian Peanut Butter)]   \n",
       "2         2                                [Sheet Pan Muffins]   \n",
       "3        92  [Anna Jones' Favorite Lentils with Roasted Tom...   \n",
       "4         3                            [Seedlip's A Good Dill]   \n",
       "\n",
       "                                         title_mul_f  \n",
       "0  [Austin Diner-Style Queso, Austin Diner-Style ...  \n",
       "1  [Mamba (Spicy Haitian Peanut Butter), Mamba (S...  \n",
       "2  [Sheet Pan Muffins, Sheet Pan Muffins, Sheet P...  \n",
       "3  [Anna Jones' Favorite Lentils with Roasted Tom...  \n",
       "4                            [Seedlip's A Good Dill]  "
      ]
     },
     "execution_count": 265,
     "metadata": {},
     "output_type": "execute_result"
    }
   ],
   "source": [
    "senti_df.head()"
   ]
  },
  {
   "cell_type": "code",
   "execution_count": 131,
   "metadata": {
    "collapsed": true
   },
   "outputs": [],
   "source": [
    "title_ratings = {}\n",
    "for n in range(len(senti_df['rating_x'])):\n",
    "    k = senti_df.iloc[n, 0]\n",
    "    v = senti_df.iloc[n, 3]\n",
    "    v2 = senti_df.iloc[n, 2]\n",
    "    title_ratings[k] = [v, v2]"
   ]
  },
  {
   "cell_type": "code",
   "execution_count": 196,
   "metadata": {
    "collapsed": false
   },
   "outputs": [],
   "source": [
    "lst = list(title_ratings.values())\n",
    "x, y = [np.log(item[0]+0.1) for item in lst], [item[1] for item in lst]"
   ]
  },
  {
   "cell_type": "code",
   "execution_count": 204,
   "metadata": {
    "collapsed": false
   },
   "outputs": [
    {
     "data": {
      "image/png": "[encoded data removed]",
      "text/plain": [
       "<matplotlib.figure.Figure at 0x127eab828>"
      ]
     },
     "metadata": {},
     "output_type": "display_data"
    }
   ],
   "source": [
    "fig, ax = plt.subplots(figsize=(12, 8))\n",
    "ax.scatter(x, y, c='r', alpha=0.4)\n",
    "ax.set_xlabel('Number of Likes')\n",
    "ax.set_ylabel('Number of comments')\n",
    "ax.grid(False)"
   ]
  },
  {
   "cell_type": "code",
   "execution_count": 159,
   "metadata": {
    "collapsed": true
   },
   "outputs": [],
   "source": [
    "import scipy.stats as scs"
   ]
  },
  {
   "cell_type": "code",
   "execution_count": 198,
   "metadata": {
    "collapsed": false
   },
   "outputs": [],
   "source": [
    "# x2 = np.log(np.array(x))\n",
    "slope, intercept, r_value, p_value, std_err = scs.linregress(x,y)\n"
   ]
  },
  {
   "cell_type": "code",
   "execution_count": 205,
   "metadata": {
    "collapsed": false
   },
   "outputs": [],
   "source": [
    "from sklearn.linear_model import LinearRegression"
   ]
  },
  {
   "cell_type": "code",
   "execution_count": 206,
   "metadata": {
    "collapsed": true
   },
   "outputs": [],
   "source": [
    "lr = LinearRegression()"
   ]
  },
  {
   "cell_type": "code",
   "execution_count": 216,
   "metadata": {
    "collapsed": false
   },
   "outputs": [
    {
     "data": {
      "text/plain": [
       "LinearRegression(copy_X=True, fit_intercept=True, n_jobs=1, normalize=False)"
      ]
     },
     "execution_count": 216,
     "metadata": {},
     "output_type": "execute_result"
    }
   ],
   "source": [
    "x_arr = np.array(x).reshape(-1, 1)\n",
    "y_arr = np.array(y).reshape(-1, 1)\n",
    "lr.fit(x_arr, y_arr)"
   ]
  },
  {
   "cell_type": "code",
   "execution_count": 249,
   "metadata": {
    "collapsed": false
   },
   "outputs": [],
   "source": [
    "inter = lr.intercept_"
   ]
  },
  {
   "cell_type": "code",
   "execution_count": 248,
   "metadata": {
    "collapsed": false
   },
   "outputs": [],
   "source": [
    "slope = lr.coef_"
   ]
  },
  {
   "cell_type": "code",
   "execution_count": 266,
   "metadata": {
    "collapsed": false
   },
   "outputs": [
    {
     "data": {
      "text/plain": [
       "array([[ 4.12976423]])"
      ]
     },
     "execution_count": 266,
     "metadata": {},
     "output_type": "execute_result"
    }
   ],
   "source": [
    "(df_working['rating'].mean()) * (lr.coef_)"
   ]
  },
  {
   "cell_type": "code",
   "execution_count": 250,
   "metadata": {
    "collapsed": true
   },
   "outputs": [],
   "source": [
    "for k, v in title_ratings.items():\n",
    "    rating = v[0]\n",
    "    pred_likes = np.log(rating + 0.1) * slope + inter\n",
    "    bias = v[1] - pred_likes\n",
    "    title_ratings[k].append(bias)"
   ]
  },
  {
   "cell_type": "code",
   "execution_count": 253,
   "metadata": {
    "collapsed": false
   },
   "outputs": [],
   "source": [
    "true_pred = [(v[0], v[2]) for k, v in title_ratings.items()]"
   ]
  },
  {
   "cell_type": "code",
   "execution_count": 257,
   "metadata": {
    "collapsed": false
   },
   "outputs": [],
   "source": [
    "pred_bias = [b for (a, b) in true_pred]"
   ]
  },
  {
   "cell_type": "code",
   "execution_count": 262,
   "metadata": {
    "collapsed": false
   },
   "outputs": [
    {
     "data": {
      "text/plain": [
       "[array([[ 3.15962286]]),\n",
       " array([[-0.38276495]]),\n",
       " array([[ 13.21319875]]),\n",
       " array([[ 1.164666]]),\n",
       " array([[-0.61586014]]),\n",
       " array([[-3.84037714]]),\n",
       " array([[-1.2110162]]),\n",
       " array([[ 3.03031773]]),\n",
       " array([[-1.2110162]]),\n",
       " array([[-2.66040842]]),\n",
       " array([[ 1.5896827]]),\n",
       " array([[ 1.01376353]]),\n",
       " array([[-2.66040842]]),\n",
       " array([[-0.45253714]]),\n",
       " array([[-2.98144641]]),\n",
       " array([[ 5.59218538]]),\n",
       " array([[ 1.5896827]]),\n",
       " array([[ 4.64405825]]),\n",
       " array([[-1.65693284]]),\n",
       " array([[-1.13015452]]),\n",
       " array([[-2.66040842]]),\n",
       " array([[-3.51474924]]),\n",
       " array([[-2.66040842]]),\n",
       " array([[-2.66040842]]),\n",
       " array([[-5.38276495]]),\n",
       " array([[ 12.16792214]]),\n",
       " array([[-2.33112568]]),\n",
       " array([[ 1.21319875]]),\n",
       " array([[-2.59162976]]),\n",
       " array([[-2.37990938]]),\n",
       " array([[-3.51474924]]),\n",
       " array([[ 3.28348665]]),\n",
       " array([[-0.95640237]]),\n",
       " array([[-2.12273922]]),\n",
       " array([[-4.89123319]]),\n",
       " array([[ 5.54531221]]),\n",
       " array([[-2.37199596]]),\n",
       " array([[-3.51474924]]),\n",
       " array([[-3.33112568]]),\n",
       " array([[-2.09677603]]),\n",
       " array([[-1.2110162]]),\n",
       " array([[-5.59162976]]),\n",
       " array([[-0.61586014]]),\n",
       " array([[ 0.21319875]]),\n",
       " array([[-4.52425978]]),\n",
       " array([[-2.51474924]]),\n",
       " array([[-5.23119109]]),\n",
       " array([[-1.58132924]]),\n",
       " array([[-3.98623647]]),\n",
       " array([[-3.70277168]]),\n",
       " array([[-3.59510189]]),\n",
       " array([[-4.11774574]]),\n",
       " array([[-2.95640237]]),\n",
       " array([[ 25.69031023]]),\n",
       " array([[ 2.48857544]]),\n",
       " array([[-0.66706366]]),\n",
       " array([[-4.48647049]]),\n",
       " array([[-4.79702695]]),\n",
       " array([[-6.78004744]]),\n",
       " array([[-4.37199596]]),\n",
       " array([[-0.89978432]]),\n",
       " array([[ 14.07416508]]),\n",
       " array([[-6.1689192]]),\n",
       " array([[-2.9082127]]),\n",
       " array([[-4.19268024]]),\n",
       " array([[-4.36213232]]),\n",
       " array([[-1.31544814]]),\n",
       " array([[-1.59510189]]),\n",
       " array([[-2.59162976]]),\n",
       " array([[-4.70277168]]),\n",
       " array([[-6.37242523]]),\n",
       " array([[-5.52425978]]),\n",
       " array([[-0.95640237]]),\n",
       " array([[-4.95640237]]),\n",
       " array([[-1.78859857]]),\n",
       " array([[-4.49633937]]),\n",
       " array([[-6.36213232]]),\n",
       " array([[-4.45468779]]),\n",
       " array([[ 0.38356212]]),\n",
       " array([[-5.99634639]]),\n",
       " array([[-4.25101377]]),\n",
       " array([[-3.92666051]]),\n",
       " array([[-2.6984578]]),\n",
       " array([[ 0.83881018]]),\n",
       " array([[-4.52425978]]),\n",
       " array([[-4.65693284]]),\n",
       " array([[-2.84161913]]),\n",
       " array([[ 10.30231754]]),\n",
       " array([[ 14.98764992]]),\n",
       " array([[-2.7417602]]),\n",
       " array([[-5.59162976]]),\n",
       " array([[ 1.59218538]]),\n",
       " array([[ 0.43542128]]),\n",
       " array([[ 0.14167751]]),\n",
       " array([[-4.95640237]]),\n",
       " array([[-2.23119109]]),\n",
       " array([[-3.06531172]]),\n",
       " array([[ 0.2582398]]),\n",
       " array([[-4.98144641]]),\n",
       " array([[ 0.84884516]]),\n",
       " array([[-0.835334]]),\n",
       " array([[-5.89978432]]),\n",
       " array([[-3.70277168]]),\n",
       " array([[ 1.31980945]]),\n",
       " array([[-5.40096069]]),\n",
       " array([[-6.21889129]]),\n",
       " array([[ 2.88359635]]),\n",
       " array([[-4.28444934]]),\n",
       " array([[-6.06531172]]),\n",
       " array([[ 0.71555066]]),\n",
       " array([[-2.53816754]]),\n",
       " array([[-4.37199596]]),\n",
       " array([[-1.06382315]]),\n",
       " array([[-4.30832683]]),\n",
       " array([[-3.49633937]]),\n",
       " array([[-0.06382315]]),\n",
       " array([[-3.79702695]]),\n",
       " array([[-6.8176582]]),\n",
       " array([[-3.33112568]]),\n",
       " array([[-2.06531172]]),\n",
       " array([[ 1.10876681]]),\n",
       " array([[-5.59162976]]),\n",
       " array([[-5.59162976]]),\n",
       " array([[-6.45253714]]),\n",
       " array([[-4.45468779]]),\n",
       " array([[-4.70277168]]),\n",
       " array([[-5.84161913]]),\n",
       " array([[-4.49633937]]),\n",
       " array([[-5.01155347]]),\n",
       " array([[-3.58132924]]),\n",
       " array([[-2.13656208]]),\n",
       " array([[-7.09677603]]),\n",
       " array([[-5.49633937]]),\n",
       " array([[ 14.43542128]]),\n",
       " array([[-7.31418046]]),\n",
       " array([[-5.30832683]]),\n",
       " array([[ 0.50366063]]),\n",
       " array([[-1.36213232]]),\n",
       " array([[-4.30832683]]),\n",
       " array([[-4.37199596]]),\n",
       " array([[-0.37990938]]),\n",
       " array([[-3.30832683]]),\n",
       " array([[-6.89094301]]),\n",
       " array([[-5.45468779]]),\n",
       " array([[-2.78004744]]),\n",
       " array([[ 3.2582398]]),\n",
       " array([[ 7.39687254]]),\n",
       " array([[-4.89123319]]),\n",
       " array([[-5.45468779]]),\n",
       " array([[-3.99634639]]),\n",
       " array([[-4.89123319]]),\n",
       " array([[-2.26771714]]),\n",
       " array([[-6.70277168]]),\n",
       " array([[-5.65693284]]),\n",
       " array([[-5.38276495]]),\n",
       " array([[ 7.25918601]]),\n",
       " array([[ 1.98844653]]),\n",
       " array([[-3.47014349]]),\n",
       " array([[-4.42911868]]),\n",
       " array([[-5.30832683]]),\n",
       " array([[ 4.69031023]]),\n",
       " array([[-6.36213232]]),\n",
       " array([[-6.58132924]]),\n",
       " array([[ 1.14167751]]),\n",
       " array([[-4.89123319]]),\n",
       " array([[ 14.56677426]]),\n",
       " array([[-2.78004744]]),\n",
       " array([[-6.62258467]]),\n",
       " array([[-4.52425978]]),\n",
       " array([[-0.38276495]]),\n",
       " array([[ 15.48122931]]),\n",
       " array([[-3.98144641]]),\n",
       " array([[-3.38276495]]),\n",
       " array([[-1.64190127]]),\n",
       " array([[ 2.29722832]]),\n",
       " array([[-2.12273922]]),\n",
       " array([[-3.01155347]]),\n",
       " array([[-5.65693284]]),\n",
       " array([[-2.84161913]]),\n",
       " array([[-6.1689192]]),\n",
       " array([[-4.0679914]]),\n",
       " array([[-2.8176582]]),\n",
       " array([[-5.78181987]]),\n",
       " array([[-2.99634639]]),\n",
       " array([[ 0.15838087]]),\n",
       " array([[-2.11774574]]),\n",
       " array([[ 0.2582398]]),\n",
       " array([[-4.01155347]]),\n",
       " array([[-5.70277168]]),\n",
       " array([[-5.09677603]]),\n",
       " array([[-6.06531172]]),\n",
       " array([[-0.38276495]]),\n",
       " array([[-3.90356784]]),\n",
       " array([[-3.98623647]]),\n",
       " array([[-5.38276495]]),\n",
       " array([[-0.95640237]]),\n",
       " array([[-5.40096069]]),\n",
       " array([[-0.84161913]]),\n",
       " array([[-3.1689192]]),\n",
       " array([[-5.0679914]]),\n",
       " array([[ 0.93617685]]),\n",
       " array([[-4.23119109]]),\n",
       " array([[-2.98144641]]),\n",
       " array([[-3.81209454]]),\n",
       " array([[-6.45690907]]),\n",
       " array([[-5.34350205]]),\n",
       " array([[-5.65693284]]),\n",
       " array([[-4.31544814]]),\n",
       " array([[-5.38276495]]),\n",
       " array([[-5.06531172]]),\n",
       " array([[ 0.90322397]]),\n",
       " array([[-7.835334]]),\n",
       " array([[-5.52425978]]),\n",
       " array([[-5.34350205]]),\n",
       " array([[-7.42911868]]),\n",
       " array([[ 6.62800404]]),\n",
       " array([[-2.12273922]]),\n",
       " array([[-4.70277168]]),\n",
       " array([[-0.69193209]]),\n",
       " array([[ 0.82368488]]),\n",
       " array([[-6.40781462]]),\n",
       " array([[-4.84161913]]),\n",
       " array([[-1.26771714]]),\n",
       " array([[ 13.97439513]]),\n",
       " array([[-5.01155347]]),\n",
       " array([[-4.06382315]]),\n",
       " array([[-6.01155347]]),\n",
       " array([[-6.19268024]]),\n",
       " array([[-5.06531172]]),\n",
       " array([[-2.13656208]]),\n",
       " array([[ 5.90322397]]),\n",
       " array([[-4.84161913]]),\n",
       " array([[-6.28444934]]),\n",
       " array([[-6.40781462]]),\n",
       " array([[-3.72029208]]),\n",
       " array([[-6.09677603]]),\n",
       " array([[-6.40781462]]),\n",
       " array([[ 2.86647967]]),\n",
       " array([[ 4.38356212]]),\n",
       " array([[-5.72029208]]),\n",
       " array([[-3.98144641]]),\n",
       " array([[ 9.80457161]]),\n",
       " array([[-4.12922656]]),\n",
       " array([[-4.89123319]]),\n",
       " array([[-4.37199596]]),\n",
       " array([[-5.71651335]]),\n",
       " array([[-3.38276495]]),\n",
       " array([[-3.0679914]]),\n",
       " array([[-4.48647049]]),\n",
       " array([[-5.06382315]]),\n",
       " array([[-4.6984578]]),\n",
       " array([[ 18.39898969]]),\n",
       " array([[-3.78181987]]),\n",
       " array([[-6.49633937]]),\n",
       " array([[-1.19268024]]),\n",
       " array([[ 1.46074156]]),\n",
       " array([[-5.84161913]]),\n",
       " array([[-3.23458646]]),\n",
       " array([[-0.68221209]]),\n",
       " array([[-1.95640237]]),\n",
       " array([[-2.15115484]]),\n",
       " array([[-4.45493641]]),\n",
       " array([[-0.65693284]]),\n",
       " array([[-6.9617886]]),\n",
       " array([[-5.28444934]]),\n",
       " array([[-7.19268024]]),\n",
       " array([[-6.49633937]]),\n",
       " array([[-5.69193209]]),\n",
       " array([[-5.59162976]]),\n",
       " array([[-2.19268024]]),\n",
       " array([[-5.38276495]]),\n",
       " array([[ 5.00365361]]),\n",
       " array([[-5.78181987]]),\n",
       " array([[-3.31544814]]),\n",
       " array([[-4.45253714]]),\n",
       " array([[ 1.57088132]]),\n",
       " array([[ 4.41867076]]),\n",
       " array([[-4.98144641]]),\n",
       " array([[-7.51142456]]),\n",
       " array([[-3.84161913]]),\n",
       " array([[-4.89094301]]),\n",
       " array([[-0.95640237]]),\n",
       " array([[-0.21511726]]),\n",
       " array([[-2.31418046]]),\n",
       " array([[-4.6984578]]),\n",
       " array([[-3.85832249]]),\n",
       " array([[ 0.43542128]]),\n",
       " array([[-1.79702695]]),\n",
       " array([[-1.9617886]]),\n",
       " array([[-6.40781462]]),\n",
       " array([[-5.36213232]]),\n",
       " array([[-3.12273922]]),\n",
       " array([[-7.76484036]]),\n",
       " array([[-4.38276495]]),\n",
       " array([[-3.72828994]]),\n",
       " array([[ 8.92449508]]),\n",
       " array([[-5.03380499]]),\n",
       " array([[-5.23119109]]),\n",
       " array([[-1.66305573]]),\n",
       " array([[-4.31418046]]),\n",
       " array([[ 5.05212851]]),\n",
       " array([[-5.78181987]]),\n",
       " array([[-2.70277168]]),\n",
       " array([[-5.0679914]]),\n",
       " array([[-4.7417602]]),\n",
       " array([[ 5.21140143]]),\n",
       " array([[-6.1689192]]),\n",
       " array([[-4.45468779]]),\n",
       " array([[ 0.63534696]]),\n",
       " array([[-7.06382315]]),\n",
       " array([[-4.78181987]]),\n",
       " array([[-5.59162976]]),\n",
       " array([[ 4.72528441]]),\n",
       " array([[ 11.02791683]]),\n",
       " array([[-0.92583492]]),\n",
       " array([[-2.9082127]]),\n",
       " array([[-1.66706366]]),\n",
       " array([[-1.05675788]]),\n",
       " array([[ 2.10876681]]),\n",
       " array([[-3.48647049]]),\n",
       " array([[-4.28444934]]),\n",
       " array([[ 4.74570291]]),\n",
       " array([[-1.89978432]]),\n",
       " array([[-3.88106537]]),\n",
       " array([[-4.26771714]]),\n",
       " array([[-3.84037714]]),\n",
       " array([[-5.16118982]]),\n",
       " array([[-5.59162976]]),\n",
       " array([[ 4.48857544]]),\n",
       " array([[-2.59162976]]),\n",
       " array([[ 3.2582398]]),\n",
       " array([[-4.15115484]]),\n",
       " array([[-0.37990938]]),\n",
       " array([[-6.40781462]]),\n",
       " array([[-2.52425978]]),\n",
       " array([[ 12.80408333]]),\n",
       " array([[ 0.48857544]]),\n",
       " array([[-2.98623647]]),\n",
       " array([[ 5.40909756]]),\n",
       " array([[-4.59510189]]),\n",
       " array([[ 12.42934782]]),\n",
       " array([[-5.7417602]]),\n",
       " array([[-4.37199596]]),\n",
       " array([[-5.72029208]]),\n",
       " array([[-3.36213232]]),\n",
       " array([[ 0.21995256]]),\n",
       " array([[ 0.66887432]]),\n",
       " array([[-4.45468779]]),\n",
       " array([[-2.9082127]]),\n",
       " array([[-6.15653139]]),\n",
       " array([[-5.23119109]]),\n",
       " array([[-4.12273922]]),\n",
       " array([[-1.30988037]]),\n",
       " array([[-4.21889129]]),\n",
       " array([[-1.25429709]]),\n",
       " array([[-2.58132924]]),\n",
       " array([[ 18.00872816]]),\n",
       " array([[-2.53925844]]),\n",
       " array([[ 0.67170504]]),\n",
       " array([[-4.78181987]]),\n",
       " array([[-5.78181987]]),\n",
       " array([[-4.89123319]]),\n",
       " array([[-2.06531172]]),\n",
       " array([[-7.66706366]]),\n",
       " array([[-4.25366108]]),\n",
       " array([[ 1.78110871]]),\n",
       " array([[ 2.09643216]]),\n",
       " array([[-5.835334]]),\n",
       " array([[-4.78004744]]),\n",
       " array([[ 1.59218538]]),\n",
       " array([[-5.85461596]]),\n",
       " array([[-2.01155347]]),\n",
       " array([[-2.15115484]]),\n",
       " array([[-5.15115484]]),\n",
       " array([[-3.98623647]]),\n",
       " array([[ 6.94524294]]),\n",
       " array([[ 7.78466063]]),\n",
       " array([[-4.0679914]]),\n",
       " array([[-2.31418046]]),\n",
       " array([[-5.0679914]]),\n",
       " array([[ 2.59218538]]),\n",
       " array([[ 4.93511886]]),\n",
       " array([[-1.94787149]]),\n",
       " array([[-4.62258467]]),\n",
       " array([[-5.06382315]]),\n",
       " array([[ 10.1073157]]),\n",
       " array([[-5.30832683]]),\n",
       " array([[-6.45690907]]),\n",
       " array([[ 1.48857544]]),\n",
       " array([[ 12.9061069]]),\n",
       " array([[-2.91718101]]),\n",
       " array([[-6.36213232]]),\n",
       " array([[-1.58132924]]),\n",
       " array([[-7.06382315]]),\n",
       " array([[-0.53925844]]),\n",
       " array([[-6.45253714]]),\n",
       " array([[-3.06382315]]),\n",
       " array([[-2.85461596]]),\n",
       " array([[ 1.82368488]]),\n",
       " array([[ 1.56444237]]),\n",
       " array([[-6.11640365]]),\n",
       " array([[-2.49633937]]),\n",
       " array([[-5.7417602]]),\n",
       " array([[-4.52425978]]),\n",
       " array([[ 3.05519092]]),\n",
       " array([[-3.78181987]]),\n",
       " array([[-4.6984578]]),\n",
       " array([[-6.26771714]]),\n",
       " array([[-5.90356784]]),\n",
       " array([[-3.52099098]]),\n",
       " array([[-4.48647049]]),\n",
       " array([[-2.05475706]]),\n",
       " array([[-1.8176582]]),\n",
       " array([[ 4.21140143]]),\n",
       " array([[-2.74081399]]),\n",
       " array([[-4.48647049]]),\n",
       " array([[-5.11774574]]),\n",
       " array([[-0.37199596]]),\n",
       " array([[-1.84161913]]),\n",
       " array([[-1.48647049]]),\n",
       " array([[-3.11774574]]),\n",
       " array([[ 4.35809873]]),\n",
       " array([[ 13.25081294]]),\n",
       " array([[-5.7417602]]),\n",
       " array([[ 9.18665646]]),\n",
       " array([[-4.79702695]]),\n",
       " array([[-5.85461596]]),\n",
       " array([[-4.72029208]]),\n",
       " array([[-4.61643788]]),\n",
       " array([[-3.78004744]]),\n",
       " array([[-5.9617886]]),\n",
       " array([[-5.85461596]]),\n",
       " array([[ 0.86343792]]),\n",
       " array([[-0.92666051]]),\n",
       " array([[-6.34350205]]),\n",
       " array([[-0.60365511]]),\n",
       " array([[ 2.54531221]]),\n",
       " array([[ 8.83379272]]),\n",
       " array([[-1.89978432]]),\n",
       " array([[-1.89978432]]),\n",
       " array([[-7.34350205]]),\n",
       " array([[-1.76484036]]),\n",
       " array([[ 17.94524294]]),\n",
       " array([[-2.52425978]]),\n",
       " array([[-7.16118982]]),\n",
       " array([[-4.03877765]]),\n",
       " array([[-7.37242523]]),\n",
       " array([[-3.40096069]]),\n",
       " array([[-5.38260182]]),\n",
       " array([[-1.32829496]]),\n",
       " array([[ 7.14538404]]),\n",
       " array([[ 1.54746286]]),\n",
       " array([[-3.30832683]]),\n",
       " array([[-4.89123319]]),\n",
       " array([[-5.89978432]]),\n",
       " array([[-5.9617886]]),\n",
       " array([[ 12.13917473]]),\n",
       " array([[-5.0679914]]),\n",
       " array([[-4.37199596]]),\n",
       " array([[-7.09677603]]),\n",
       " array([[-6.13656208]]),\n",
       " array([[ 1.05519092]]),\n",
       " array([[-1.21889129]]),\n",
       " array([[ 12.24346909]]),\n",
       " array([[ 2.73707133]]),\n",
       " array([[-6.40096069]]),\n",
       " array([[-1.77519577]]),\n",
       " array([[-4.89123319]]),\n",
       " array([[-4.48647049]]),\n",
       " array([[ 5.86343792]]),\n",
       " array([[-5.15115484]]),\n",
       " array([[ 15.94524294]]),\n",
       " array([[-4.37199596]]),\n",
       " array([[-5.72029208]]),\n",
       " array([[-1.66305573]]),\n",
       " array([[-7.37242523]]),\n",
       " array([[ 9.25918601]]),\n",
       " array([[-7.07550492]]),\n",
       " array([[-7.59066622]]),\n",
       " array([[ 8.01440972]]),\n",
       " array([[-4.58132924]]),\n",
       " array([[-6.01264464]]),\n",
       " array([[-1.34655162]]),\n",
       " array([[-5.52425978]]),\n",
       " array([[ 6.30806791]]),\n",
       " array([[-5.12922656]]),\n",
       " array([[-7.64190127]]),\n",
       " array([[-3.48722796]]),\n",
       " array([[-6.36213232]]),\n",
       " array([[-1.95640237]]),\n",
       " array([[-6.70277168]]),\n",
       " array([[-0.71651335]]),\n",
       " array([[-3.95640237]]),\n",
       " array([[-7.64190127]]),\n",
       " array([[-6.66305573]]),\n",
       " array([[-5.7417602]]),\n",
       " array([[ 1.25918601]]),\n",
       " array([[-6.19268024]]),\n",
       " array([[ 4.68581954]]),\n",
       " array([[-7.12922656]]),\n",
       " array([[-6.40781462]]),\n",
       " array([[-7.31418046]]),\n",
       " array([[-1.36465304]]),\n",
       " array([[-4.23119109]]),\n",
       " array([[-1.53767377]]),\n",
       " array([[-4.48647049]]),\n",
       " array([[-2.40781462]]),\n",
       " array([[-8.01264464]]),\n",
       " array([[-7.19268024]]),\n",
       " array([[-4.40781462]]),\n",
       " array([[-7.06382315]]),\n",
       " array([[-6.01155347]]),\n",
       " array([[-2.51474924]]),\n",
       " array([[-6.21889129]]),\n",
       " array([[-5.30832683]]),\n",
       " array([[ 7.85867569]]),\n",
       " array([[ 5.21178454]]),\n",
       " array([[ 14.25286325]]),\n",
       " array([[-3.81209454]]),\n",
       " array([[-4.84161913]]),\n",
       " array([[-6.78004744]]),\n",
       " array([[-5.38276495]]),\n",
       " array([[-4.38276495]]),\n",
       " array([[-5.38276495]]),\n",
       " array([[-6.12922656]]),\n",
       " array([[-4.89094301]]),\n",
       " array([[-4.69768246]]),\n",
       " array([[-5.72029208]]),\n",
       " array([[-5.65693284]]),\n",
       " array([[-7.19268024]]),\n",
       " array([[-4.15115484]]),\n",
       " array([[-4.98144641]]),\n",
       " array([[-6.40096069]]),\n",
       " array([[-6.31544814]]),\n",
       " array([[-2.59066622]]),\n",
       " array([[-3.68378352]]),\n",
       " array([[-2.7417602]]),\n",
       " array([[-4.59162976]]),\n",
       " array([[-2.62258467]]),\n",
       " array([[-3.32829496]]),\n",
       " array([[-5.48434133]]),\n",
       " array([[-3.30832683]]),\n",
       " array([[ 0.93511886]]),\n",
       " array([[-4.98144641]]),\n",
       " array([[-5.78181987]]),\n",
       " array([[ 1.164666]]),\n",
       " array([[-4.15115484]]),\n",
       " array([[-4.06590751]]),\n",
       " array([[-6.06531172]]),\n",
       " array([[ 5.59903931]]),\n",
       " array([[-3.70277168]]),\n",
       " array([[-5.85461596]]),\n",
       " array([[-6.36213232]]),\n",
       " array([[-8.07550492]]),\n",
       " array([[-2.8176582]]),\n",
       " array([[-6.58132924]]),\n",
       " array([[-4.28444934]]),\n",
       " array([[ 9.65649795]]),\n",
       " array([[-6.29130509]]),\n",
       " array([[-5.65693284]]),\n",
       " array([[-5.78859857]]),\n",
       " array([[ 0.8310808]]),\n",
       " array([[-3.21533937]]),\n",
       " array([[-4.30832683]]),\n",
       " array([[-4.59510189]]),\n",
       " array([[ 0.98844653]]),\n",
       " array([[-6.26771714]]),\n",
       " array([[-6.62258467]]),\n",
       " array([[ 3.11893463]]),\n",
       " array([[-2.89094301]]),\n",
       " array([[-5.12922656]]),\n",
       " array([[ 9.76677386]]),\n",
       " array([[-6.62258467]]),\n",
       " array([[-2.37199596]]),\n",
       " array([[-4.71651335]]),\n",
       " array([[-3.89123319]]),\n",
       " array([[-1.21889129]]),\n",
       " array([[-4.89123319]]),\n",
       " array([[-7.40096069]]),\n",
       " array([[-0.66706366]]),\n",
       " array([[-5.90356784]]),\n",
       " array([[-6.58132924]]),\n",
       " array([[-5.99634639]]),\n",
       " array([[-5.45468779]]),\n",
       " array([[-4.89978432]]),\n",
       " array([[-4.76484036]]),\n",
       " array([[-0.29130509]]),\n",
       " array([[ 5.90933158]]),\n",
       " array([[ 15.00433487]]),\n",
       " array([[-2.11774574]]),\n",
       " array([[-2.05675788]]),\n",
       " array([[-5.65693284]]),\n",
       " array([[-3.84037714]]),\n",
       " array([[-0.11640365]]),\n",
       " array([[-3.51474924]]),\n",
       " array([[-4.49633937]]),\n",
       " array([[-5.45468779]]),\n",
       " array([[ 0.93617685]]),\n",
       " array([[-6.01155347]]),\n",
       " array([[-3.31544814]]),\n",
       " array([[-3.89094301]]),\n",
       " array([[ 2.88385296]]),\n",
       " array([[-3.66305573]]),\n",
       " array([[-4.12273922]]),\n",
       " array([[-2.51474924]]),\n",
       " array([[-4.06531172]]),\n",
       " array([[-5.9617886]]),\n",
       " array([[ 4.00365361]]),\n",
       " array([[-5.95640237]]),\n",
       " array([[-6.25429709]]),\n",
       " array([[ 3.09643216]]),\n",
       " array([[-5.21533937]]),\n",
       " array([[-7.19268024]]),\n",
       " array([[-6.21533937]]),\n",
       " array([[ 0.19706309]]),\n",
       " array([[-5.94787149]]),\n",
       " array([[ 16.15173954]]),\n",
       " array([[-6.16118982]]),\n",
       " array([[-4.835334]]),\n",
       " array([[-5.38276495]]),\n",
       " array([[-2.21889129]]),\n",
       " array([[-0.17631512]]),\n",
       " array([[-7.03035212]]),\n",
       " array([[-5.38276495]]),\n",
       " array([[-4.48647049]]),\n",
       " array([[-6.92666051]]),\n",
       " array([[-6.36213232]]),\n",
       " array([[-5.72029208]]),\n",
       " array([[-2.85832249]]),\n",
       " array([[-1.69768246]]),\n",
       " array([[-2.09605251]]),\n",
       " array([[-6.49633937]]),\n",
       " array([[-6.49633937]]),\n",
       " array([[-4.12273922]]),\n",
       " array([[-5.4529208]]),\n",
       " array([[ 22.34915798]]),\n",
       " array([[ 4.92449508]]),\n",
       " array([[-0.71651335]]),\n",
       " array([[-3.7417602]]),\n",
       " array([[-4.79702695]]),\n",
       " array([[-3.99634639]]),\n",
       " array([[ 10.63326734]]),\n",
       " array([[-0.51142456]]),\n",
       " array([[-7.03035212]]),\n",
       " array([[-5.835334]]),\n",
       " array([[ 3.51277204]]),\n",
       " array([[-2.36465304]]),\n",
       " array([[ 10.08281899]]),\n",
       " array([[-3.66305573]]),\n",
       " array([[ 1.27171006]]),\n",
       " array([[-5.78859857]]),\n",
       " array([[-1.88106537]]),\n",
       " array([[-5.0679914]]),\n",
       " array([[-4.40781462]]),\n",
       " array([[-6.21889129]]),\n",
       " array([[ 2.33694427]]),\n",
       " array([[-7.74081399]]),\n",
       " array([[-4.59510189]]),\n",
       " array([[-2.2725663]]),\n",
       " array([[ 0.40489811]]),\n",
       " array([[-2.51474924]]),\n",
       " array([[-5.90356784]]),\n",
       " array([[-0.84161913]]),\n",
       " array([[-2.9082127]]),\n",
       " array([[-7.66706366]]),\n",
       " array([[-6.06382315]]),\n",
       " array([[-6.37242523]]),\n",
       " array([[-2.53816754]]),\n",
       " array([[ 2.98844653]]),\n",
       " array([[-6.89094301]]),\n",
       " array([[-4.49633937]]),\n",
       " array([[-7.72828994]]),\n",
       " array([[-5.30832683]]),\n",
       " array([[-4.40781462]]),\n",
       " array([[-2.06531172]]),\n",
       " array([[-4.30988037]]),\n",
       " array([[-7.41805166]]),\n",
       " array([[-4.37199596]]),\n",
       " array([[-4.45253714]]),\n",
       " array([[-6.03035212]]),\n",
       " array([[-1.72029208]]),\n",
       " array([[-6.1689192]]),\n",
       " array([[-6.03035212]]),\n",
       " array([[-6.45253714]]),\n",
       " array([[ 5.67170504]]),\n",
       " array([[-1.40040053]]),\n",
       " array([[-6.8176582]]),\n",
       " array([[-8.25366108]]),\n",
       " array([[-4.79702695]]),\n",
       " array([[-1.23119109]]),\n",
       " array([[-2.15653139]]),\n",
       " array([[-5.40040053]]),\n",
       " array([[ 12.33337153]]),\n",
       " array([[-7.56457872]]),\n",
       " array([[-5.36213232]]),\n",
       " array([[-1.62258467]]),\n",
       " array([[ 17.90394749]]),\n",
       " array([[-5.40096069]]),\n",
       " array([[-3.98727114]]),\n",
       " array([[-5.69768246]]),\n",
       " array([[-2.85832249]]),\n",
       " array([[-7.31418046]]),\n",
       " array([[-6.48434133]]),\n",
       " array([[ 3.96964788]]),\n",
       " array([[-3.26771714]]),\n",
       " array([[-3.84161913]]),\n",
       " array([[ 16.21178454]]),\n",
       " array([[-3.37242523]]),\n",
       " array([[-1.72029208]]),\n",
       " array([[ 3.38356212]]),\n",
       " array([[-6.78004744]]),\n",
       " array([[ 8.74570291]]),\n",
       " array([[-1.63511474]]),\n",
       " array([[-6.99634639]]),\n",
       " array([[-5.65693284]]),\n",
       " array([[-5.65693284]]),\n",
       " array([[-2.94787149]]),\n",
       " array([[-6.09605251]]),\n",
       " array([[-2.58132924]]),\n",
       " array([[-7.03035212]]),\n",
       " array([[-6.70277168]]),\n",
       " array([[-6.64190127]]),\n",
       " array([[-6.58132924]]),\n",
       " array([[-6.03380499]]),\n",
       " array([[-5.99634639]]),\n",
       " array([[ 0.0917873]]),\n",
       " array([[-5.16118982]]),\n",
       " array([[-7.30988037]]),\n",
       " array([[-5.11774574]]),\n",
       " array([[-1.19268024]]),\n",
       " array([[-6.49633937]]),\n",
       " array([[-6.92666051]]),\n",
       " array([[-5.90356784]]),\n",
       " array([[-3.92583492]]),\n",
       " array([[-5.0679914]]),\n",
       " array([[-5.84161913]]),\n",
       " array([[ 6.51565867]]),\n",
       " array([[-7.32829496]]),\n",
       " array([[-5.28444934]]),\n",
       " array([[-5.95640237]]),\n",
       " array([[-5.91718101]]),\n",
       " array([[-3.12273922]]),\n",
       " array([[-7.53816754]]),\n",
       " array([[-4.89094301]]),\n",
       " array([[ 0.37741533]]),\n",
       " array([[-3.98623647]]),\n",
       " array([[ 6.96619501]]),\n",
       " array([[-3.66305573]]),\n",
       " array([[-2.59066622]]),\n",
       " array([[-2.9703832]]),\n",
       " array([[-3.37242523]]),\n",
       " array([[-7.06382315]]),\n",
       " array([[ 2.64455429]]),\n",
       " array([[-2.89978432]]),\n",
       " array([[-4.7417602]]),\n",
       " array([[-5.45468779]]),\n",
       " array([[-4.12273922]]),\n",
       " array([[-4.41805166]]),\n",
       " array([[-6.43555763]]),\n",
       " array([[-4.99634639]]),\n",
       " array([[-4.51142456]]),\n",
       " array([[-6.11774574]]),\n",
       " array([[-6.06531172]]),\n",
       " array([[-5.52425978]]),\n",
       " array([[ 0.41867076]]),\n",
       " array([[-5.23119109]]),\n",
       " array([[-6.26771714]]),\n",
       " array([[ 7.16792214]]),\n",
       " array([[ 0.70869491]]),\n",
       " array([[ 0.92218617]]),\n",
       " array([[ 13.1414951]]),\n",
       " array([[-5.30832683]]),\n",
       " array([[-6.11774574]]),\n",
       " array([[-5.51142456]]),\n",
       " array([[-5.11774574]]),\n",
       " array([[-7.09677603]]),\n",
       " array([[ 2.37741533]]),\n",
       " array([[-4.59066622]]),\n",
       " array([[-3.34350205]]),\n",
       " array([[-2.03035212]]),\n",
       " array([[-6.85461596]]),\n",
       " array([[-6.9617886]]),\n",
       " array([[-1.92583492]]),\n",
       " array([[-7.01264464]]),\n",
       " array([[-6.99634639]]),\n",
       " array([[ 21.44577316]]),\n",
       " array([[-4.40781462]]),\n",
       " array([[-8.2725663]]),\n",
       " array([[ 12.97108603]]),\n",
       " array([[ 0.00365361]]),\n",
       " array([[-6.06531172]]),\n",
       " array([[-7.29130509]]),\n",
       " array([[-4.84161913]]),\n",
       " array([[-4.06531172]]),\n",
       " array([[-6.85461596]]),\n",
       " array([[-2.66305573]]),\n",
       " array([[ 0.1534999]]),\n",
       " array([[-6.49633937]]),\n",
       " array([[ 2.54309093]]),\n",
       " array([[-5.57065218]]),\n",
       " array([[-2.51142456]]),\n",
       " array([[-5.66305573]]),\n",
       " array([[-1.62258467]]),\n",
       " array([[ 13.57351197]]),\n",
       " array([[-3.17631512]]),\n",
       " array([[-4.37199596]]),\n",
       " array([[ 3.16792214]]),\n",
       " array([[-7.36465304]]),\n",
       " array([[-1.22717116]]),\n",
       " array([[-6.34350205]]),\n",
       " array([[ 1.52985651]]),\n",
       " array([[ 2.23515964]]),\n",
       " array([[-6.58132924]]),\n",
       " array([[ 5.03031773]]),\n",
       " array([[-4.89123319]]),\n",
       " array([[-6.66305573]]),\n",
       " array([[-5.78181987]]),\n",
       " array([[-3.0679914]]),\n",
       " array([[ 3.10905699]]),\n",
       " array([[-7.53816754]]),\n",
       " array([[-8.03380499]]),\n",
       " array([[ 0.25656979]]),\n",
       " array([[-4.52425978]]),\n",
       " array([[-5.95640237]]),\n",
       " array([[ 0.36488526]]),\n",
       " array([[-1.42228679]]),\n",
       " array([[-5.45468779]]),\n",
       " array([[-4.53925844]]),\n",
       " array([[-4.23119109]]),\n",
       " array([[-2.31544814]]),\n",
       " array([[-5.65693284]]),\n",
       " array([[ 3.30806791]]),\n",
       " array([[-4.64190127]]),\n",
       " array([[-2.30988037]]),\n",
       " array([[-3.34350205]]),\n",
       " array([[ 8.03811128]]),\n",
       " array([[-5.23119109]]),\n",
       " array([[-6.7417602]]),\n",
       " array([[-7.50417641]]),\n",
       " array([[-0.9617886]]),\n",
       " array([[ 0.15838087]]),\n",
       " array([[ 1.25918601]]),\n",
       " array([[-6.9617886]]),\n",
       " array([[-6.62258467]]),\n",
       " array([[-3.80293691]]),\n",
       " array([[ 1.77282884]]),\n",
       " array([[-2.23119109]]),\n",
       " array([[-5.01155347]]),\n",
       " array([[-0.66040842]]),\n",
       " array([[-5.8176582]]),\n",
       " array([[-7.06382315]]),\n",
       " array([[-3.37242523]]),\n",
       " array([[-5.45468779]]),\n",
       " array([[-5.85832249]]),\n",
       " array([[-5.70277168]]),\n",
       " array([[-6.01155347]]),\n",
       " array([[-4.85461596]]),\n",
       " array([[-5.55422684]]),\n",
       " array([[-6.96968227]]),\n",
       " array([[-7.2237116]]),\n",
       " array([[-2.65693284]]),\n",
       " array([[-2.8176582]]),\n",
       " array([[-5.17631512]]),\n",
       " array([[-4.6984578]]),\n",
       " array([[-3.1689192]]),\n",
       " array([[-3.0679914]]),\n",
       " array([[-5.52425978]]),\n",
       " array([[-6.09677603]]),\n",
       " array([[-2.98144641]]),\n",
       " array([[ 11.93024224]]),\n",
       " array([[-3.84161913]]),\n",
       " array([[ 1.1249453]]),\n",
       " array([[ 3.62203992]]),\n",
       " array([[-2.48434133]]),\n",
       " array([[ 0.2582398]]),\n",
       " array([[-4.6984578]]),\n",
       " array([[ 11.22660851]]),\n",
       " array([[-6.26771714]]),\n",
       " array([[ 14.88385296]]),\n",
       " array([[-4.66305573]]),\n",
       " array([[ 1.68581954]]),\n",
       " array([[-5.78181987]]),\n",
       " array([[-4.76484036]]),\n",
       " array([[-1.12922656]]),\n",
       " array([[ 1.96619501]]),\n",
       " array([[ 10.75184069]]),\n",
       " array([[-3.68378352]]),\n",
       " array([[ 1.43542128]]),\n",
       " array([[-6.66305573]]),\n",
       " array([[ 2.87077344]]),\n",
       " array([[-2.74081399]]),\n",
       " array([[-6.11640365]]),\n",
       " array([[-4.37199596]]),\n",
       " array([[-3.06531172]]),\n",
       " array([[-4.65693284]]),\n",
       " array([[ 4.37741533]]),\n",
       " array([[ 1.68581954]]),\n",
       " array([[-3.36213232]]),\n",
       " array([[ 7.21140143]]),\n",
       " array([[ 1.09676867]]),\n",
       " array([[-6.70277168]]),\n",
       " array([[-5.62258467]]),\n",
       " array([[-5.99634639]]),\n",
       " array([[ 1.30806791]]),\n",
       " array([[-3.66305573]]),\n",
       " array([[-4.6984578]]),\n",
       " array([[-5.31418046]]),\n",
       " array([[-7.15653139]]),\n",
       " array([[-5.76588379]]),\n",
       " array([[-1.48434133]]),\n",
       " array([[-5.52425978]]),\n",
       " array([[-5.17631512]]),\n",
       " array([[-0.78859857]]),\n",
       " array([[-5.59162976]]),\n",
       " array([[-5.61643788]]),\n",
       " array([[-3.85461596]]),\n",
       " array([[-1.74081399]]),\n",
       " array([[ 4.164666]]),\n",
       " array([[-4.40096069]]),\n",
       " array([[-0.78181987]]),\n",
       " array([[ 6.76541354]]),\n",
       " array([[-4.42911868]]),\n",
       " array([[-2.0938931]]),\n",
       " array([[-7.34350205]]),\n",
       " array([[-4.06382315]]),\n",
       " array([[ 2.43542128]]),\n",
       " array([[-2.98144641]]),\n",
       " array([[ 52.69437976]]),\n",
       " array([[-5.11774574]]),\n",
       " array([[-3.62258467]]),\n",
       " array([[-6.49633937]]),\n",
       " array([[ 4.74633892]]),\n",
       " array([[-6.1689192]]),\n",
       " array([[-5.90356784]]),\n",
       " array([[-4.92666051]]),\n",
       " array([[-3.16118982]]),\n",
       " array([[ 16.65014279]]),\n",
       " array([[-6.30988037]]),\n",
       " array([[-6.71651335]]),\n",
       " array([[ 7.48857544]]),\n",
       " array([[-4.38260182]]),\n",
       " array([[-6.61643788]]),\n",
       " array([[-1.90356784]]),\n",
       " array([[-5.78181987]]),\n",
       " array([[-6.96968227]]),\n",
       " array([[-5.53816754]]),\n",
       " array([[-9.58074634]]),\n",
       " array([[-2.05475706]]),\n",
       " array([[ 10.80408333]]),\n",
       " array([[-6.06531172]]),\n",
       " array([[-3.37199596]]),\n",
       " array([[ 4.65344838]]),\n",
       " array([[ 2.59959947]]),\n",
       " array([[-0.72029208]]),\n",
       " array([[-5.61643788]]),\n",
       " array([[-6.11640365]]),\n",
       " array([[ 1.14538404]]),\n",
       " array([[ 6.90394749]]),\n",
       " array([[ 7.25656979]]),\n",
       " array([[-0.13656208]]),\n",
       " array([[-5.01155347]]),\n",
       " array([[ 1.14538404]]),\n",
       " array([[-6.31544814]]),\n",
       " array([[-7.56457872]]),\n",
       " array([[-5.38276495]]),\n",
       " array([[ 1.06896013]]),\n",
       " array([[-4.75846356]]),\n",
       " array([[-6.01264464]]),\n",
       " array([[-0.97208317]]),\n",
       " array([[-5.37242523]]),\n",
       " array([[-4.52099098]]),\n",
       " array([[ 8.54506359]]),\n",
       " array([[ 9.1249453]]),\n",
       " array([[-4.59066622]]),\n",
       " array([[-4.45690907]]),\n",
       " array([[-2.11640365]]),\n",
       " array([[-4.05475706]]),\n",
       " array([[-1.76484036]]),\n",
       " array([[-0.19268024]]),\n",
       " array([[-7.31418046]]),\n",
       " array([[-0.8176582]]),\n",
       " array([[ 3.21140143]]),\n",
       " array([[-4.81209454]]),\n",
       " array([[-5.45253714]]),\n",
       " array([[-3.78004744]]),\n",
       " array([[ 8.28129707]]),\n",
       " array([[ 3.27171006]]),\n",
       " array([[-4.19268024]]),\n",
       " array([[-5.30832683]]),\n",
       " array([[-2.98623647]]),\n",
       " array([[-5.17631512]]),\n",
       " array([[ 2.46074156]]),\n",
       " array([[-3.8176582]]),\n",
       " array([[ 7.14167751]]),\n",
       " array([[-3.62258467]]),\n",
       " array([[-6.85461596]]),\n",
       " array([[-4.89978432]]),\n",
       " array([[-0.81209454]]),\n",
       " array([[ 3.78466063]]),\n",
       " array([[-5.89978432]]),\n",
       " ...]"
      ]
     },
     "execution_count": 262,
     "metadata": {},
     "output_type": "execute_result"
    }
   ],
   "source": [
    "pred_bias"
   ]
  },
  {
   "cell_type": "code",
   "execution_count": 271,
   "metadata": {
    "collapsed": true
   },
   "outputs": [],
   "source": [
    "# df_working.to_csv('data/implicit_ratings3.csv')"
   ]
  },
  {
   "cell_type": "code",
   "execution_count": 275,
   "metadata": {
    "collapsed": false
   },
   "outputs": [
    {
     "data": {
      "image/png": "[encoded data removed]",
      "text/plain": [
       "<matplotlib.figure.Figure at 0x1287d8b70>"
      ]
     },
     "metadata": {},
     "output_type": "display_data"
    }
   ],
   "source": [
    "fig, ax = plt.subplots(figsize=(10, 8))\n",
    "ax.hist(df_working['implicit'])\n",
    "ax.grid(False)\n",
    "ax.set_title('Implicit Rating Distribution', fontsize=16, fontweight='bold')\n",
    "ax.set_ylabel('Counts', fontsize=14, fontweight='bold')\n",
    "ax.set_xlabel('Ratings', fontsize=14, fontweight='bold')\n",
    "plt.savefig('data/implicit_dist.png')"
   ]
  },
  {
   "cell_type": "code",
   "execution_count": 274,
   "metadata": {
    "collapsed": false
   },
   "outputs": [
    {
     "data": {
      "text/plain": [
       "3    26108\n",
       "0    16047\n",
       "2    10123\n",
       "1     3665\n",
       "Name: implicit, dtype: int64"
      ]
     },
     "execution_count": 274,
     "metadata": {},
     "output_type": "execute_result"
    }
   ],
   "source": [
    "df_working['implicit'].value_counts()"
   ]
  },
  {
   "cell_type": "code",
   "execution_count": 221,
   "metadata": {
    "collapsed": false
   },
   "outputs": [
    {
     "name": "stdout",
     "output_type": "stream",
     "text": [
      "<class 'pandas.core.frame.DataFrame'>\n",
      "RangeIndex: 55943 entries, 0 to 55942\n",
      "Data columns (total 5 columns):\n",
      "recipe_title    55943 non-null object\n",
      "user            55943 non-null object\n",
      "comment         55943 non-null object\n",
      "pol_scores      55943 non-null object\n",
      "implicit        55943 non-null int64\n",
      "dtypes: int64(1), object(4)\n",
      "memory usage: 2.1+ MB\n"
     ]
    }
   ],
   "source": [
    "df_working.info()"
   ]
  },
  {
   "cell_type": "code",
   "execution_count": 222,
   "metadata": {
    "collapsed": false
   },
   "outputs": [
    {
     "data": {
      "text/plain": [
       "0                      3040\n",
       "AntoniaJames            783\n",
       "sdebrango               586\n",
       "aargersi                389\n",
       "lapadia                 379\n",
       "boulangere              376\n",
       "hardlikearmour          354\n",
       "mrslarkin               342\n",
       "TheWimpyVegetarian      314\n",
       "drbabs                  306\n",
       "gingerroot              292\n",
       "Sagegreen               286\n",
       "dymnyno                 272\n",
       "Midge                   244\n",
       "fiveandspice            242\n",
       "EmilyC                  237\n",
       "LE BEC FIN              227\n",
       "Kristen Miglore         221\n",
       "healthierkitchen        219\n",
       "Bevi                    195\n",
       "sexyLAMBCHOPx           190\n",
       "Lizthechef              189\n",
       "wssmom                  151\n",
       "ChefJune                143\n",
       "QueenSashy              135\n",
       "lastnightsdinner        134\n",
       "Regine                  127\n",
       "luvcookbooks            122\n",
       "inpatskitchen           118\n",
       "cheese1227              117\n",
       "                       ... \n",
       "lyve life                 1\n",
       "Scott Stephan             1\n",
       "Michelle Sellars          1\n",
       "c                         1\n",
       "Meagan Kelly              1\n",
       "jcrowley                  1\n",
       "healthinspirations        1\n",
       "Hannah Lee                1\n",
       "MadeInMaine               1\n",
       "Dave Hoffman              1\n",
       "CK                        1\n",
       "Eliza Metcalfe            1\n",
       "tamae                     1\n",
       "judi hendricks            1\n",
       "Diana Long                1\n",
       "Laura Mills Ramsey        1\n",
       "Jilly Inspired            1\n",
       "Momster                   1\n",
       "andyj                     1\n",
       "Redd Michaelson           1\n",
       "Noreen Hoard              1\n",
       "Trick Gum                 1\n",
       "Ariel Lauren Wilson       1\n",
       "jonathan e                1\n",
       "vmweldon                  1\n",
       "Hollis Miller             1\n",
       "Shanti                    1\n",
       "LVC                       1\n",
       "Violet U                  1\n",
       "Anne Dungo                1\n",
       "Name: user, Length: 17732, dtype: int64"
      ]
     },
     "execution_count": 222,
     "metadata": {},
     "output_type": "execute_result"
    }
   ],
   "source": [
    "df_working['user'].value_counts()"
   ]
  },
  {
   "cell_type": "code",
   "execution_count": 276,
   "metadata": {
    "collapsed": false
   },
   "outputs": [
    {
     "data": {
      "text/html": [
       "<div>\n",
       "<style>\n",
       "    .dataframe thead tr:only-child th {\n",
       "        text-align: right;\n",
       "    }\n",
       "\n",
       "    .dataframe thead th {\n",
       "        text-align: left;\n",
       "    }\n",
       "\n",
       "    .dataframe tbody tr th {\n",
       "        vertical-align: top;\n",
       "    }\n",
       "</style>\n",
       "<table border=\"1\" class=\"dataframe\">\n",
       "  <thead>\n",
       "    <tr style=\"text-align: right;\">\n",
       "      <th></th>\n",
       "      <th>recipe_title</th>\n",
       "      <th>user</th>\n",
       "      <th>comment</th>\n",
       "      <th>pol_scores</th>\n",
       "      <th>rating</th>\n",
       "      <th>implicit</th>\n",
       "    </tr>\n",
       "  </thead>\n",
       "  <tbody>\n",
       "    <tr>\n",
       "      <th>0</th>\n",
       "      <td>Austin Diner-Style Queso</td>\n",
       "      <td>alex</td>\n",
       "      <td>Do as the locals do: On the stovetop or in the...</td>\n",
       "      <td>{'neg': 0.056, 'neu': 0.853, 'pos': 0.091, 'co...</td>\n",
       "      <td>2</td>\n",
       "      <td>2</td>\n",
       "    </tr>\n",
       "    <tr>\n",
       "      <th>1</th>\n",
       "      <td>Austin Diner-Style Queso</td>\n",
       "      <td>petalpusher</td>\n",
       "      <td>This recipe is good for those of us who are al...</td>\n",
       "      <td>{'neg': 0.137, 'neu': 0.683, 'pos': 0.18, 'com...</td>\n",
       "      <td>2</td>\n",
       "      <td>2</td>\n",
       "    </tr>\n",
       "    <tr>\n",
       "      <th>2</th>\n",
       "      <td>Austin Diner-Style Queso</td>\n",
       "      <td>EmFraiche</td>\n",
       "      <td>How much water do you add? I don’t see an amount.</td>\n",
       "      <td>{'neg': 0.0, 'neu': 1.0, 'pos': 0.0, 'compound...</td>\n",
       "      <td>0</td>\n",
       "      <td>0</td>\n",
       "    </tr>\n",
       "    <tr>\n",
       "      <th>3</th>\n",
       "      <td>Austin Diner-Style Queso</td>\n",
       "      <td>Jennifer M</td>\n",
       "      <td>I put in equal parts milk and water and it see...</td>\n",
       "      <td>{'neg': 0.0, 'neu': 0.861, 'pos': 0.139, 'comp...</td>\n",
       "      <td>2</td>\n",
       "      <td>2</td>\n",
       "    </tr>\n",
       "    <tr>\n",
       "      <th>4</th>\n",
       "      <td>Austin Diner-Style Queso</td>\n",
       "      <td>Ceil_the_great</td>\n",
       "      <td>Sounds tasty! Can you recommend a substitute f...</td>\n",
       "      <td>{'neg': 0.0, 'neu': 0.864, 'pos': 0.136, 'comp...</td>\n",
       "      <td>3</td>\n",
       "      <td>2</td>\n",
       "    </tr>\n",
       "  </tbody>\n",
       "</table>\n",
       "</div>"
      ],
      "text/plain": [
       "               recipe_title            user  \\\n",
       "0  Austin Diner-Style Queso            alex   \n",
       "1  Austin Diner-Style Queso     petalpusher   \n",
       "2  Austin Diner-Style Queso       EmFraiche   \n",
       "3  Austin Diner-Style Queso      Jennifer M   \n",
       "4  Austin Diner-Style Queso  Ceil_the_great   \n",
       "\n",
       "                                             comment  \\\n",
       "0  Do as the locals do: On the stovetop or in the...   \n",
       "1  This recipe is good for those of us who are al...   \n",
       "2  How much water do you add? I don’t see an amount.   \n",
       "3  I put in equal parts milk and water and it see...   \n",
       "4  Sounds tasty! Can you recommend a substitute f...   \n",
       "\n",
       "                                          pol_scores  rating  implicit  \n",
       "0  {'neg': 0.056, 'neu': 0.853, 'pos': 0.091, 'co...       2         2  \n",
       "1  {'neg': 0.137, 'neu': 0.683, 'pos': 0.18, 'com...       2         2  \n",
       "2  {'neg': 0.0, 'neu': 1.0, 'pos': 0.0, 'compound...       0         0  \n",
       "3  {'neg': 0.0, 'neu': 0.861, 'pos': 0.139, 'comp...       2         2  \n",
       "4  {'neg': 0.0, 'neu': 0.864, 'pos': 0.136, 'comp...       3         2  "
      ]
     },
     "execution_count": 276,
     "metadata": {},
     "output_type": "execute_result"
    }
   ],
   "source": [
    "df_working.head()"
   ]
  },
  {
   "cell_type": "code",
   "execution_count": 337,
   "metadata": {
    "collapsed": true
   },
   "outputs": [],
   "source": [
    "comments = df_working['comment'][2]"
   ]
  },
  {
   "cell_type": "code",
   "execution_count": 338,
   "metadata": {
    "collapsed": false
   },
   "outputs": [
    {
     "data": {
      "text/plain": [
       "'How much water do you add? I don’t see an amount.'"
      ]
     },
     "execution_count": 338,
     "metadata": {},
     "output_type": "execute_result"
    }
   ],
   "source": [
    "comments\n"
   ]
  },
  {
   "cell_type": "code",
   "execution_count": 277,
   "metadata": {
    "collapsed": true
   },
   "outputs": [],
   "source": [
    "df_working.rename(columns={'implicit': 'rating'}, inplace=True)"
   ]
  },
  {
   "cell_type": "code",
   "execution_count": 278,
   "metadata": {
    "collapsed": true
   },
   "outputs": [],
   "source": [
    "df_rec = df_working[['user', 'recipe_title', 'rating']]"
   ]
  },
  {
   "cell_type": "code",
   "execution_count": 279,
   "metadata": {
    "collapsed": false
   },
   "outputs": [],
   "source": [
    "df_rec['user'].drop(0, inplace=True)"
   ]
  },
  {
   "cell_type": "code",
   "execution_count": 280,
   "metadata": {
    "collapsed": true
   },
   "outputs": [],
   "source": [
    "user_dict = {user: num for num, user in enumerate(list(set(df_rec['user'])))}"
   ]
  },
  {
   "cell_type": "code",
   "execution_count": 281,
   "metadata": {
    "collapsed": true
   },
   "outputs": [],
   "source": [
    "recipe_dict = {recipe: num for num, recipe in enumerate(list(set(df_rec['recipe_title'])))}"
   ]
  },
  {
   "cell_type": "code",
   "execution_count": 282,
   "metadata": {
    "collapsed": true
   },
   "outputs": [],
   "source": [
    "def recipe_id(col):\n",
    "    return recipe_dict[col]\n",
    "def user_id(col):\n",
    "    return user_dict[col]"
   ]
  },
  {
   "cell_type": "code",
   "execution_count": 283,
   "metadata": {
    "collapsed": false
   },
   "outputs": [
    {
     "name": "stderr",
     "output_type": "stream",
     "text": [
      "/Applications/anaconda/envs/py36/lib/python3.6/site-packages/ipykernel/__main__.py:1: SettingWithCopyWarning: \n",
      "A value is trying to be set on a copy of a slice from a DataFrame.\n",
      "Try using .loc[row_indexer,col_indexer] = value instead\n",
      "\n",
      "See the caveats in the documentation: http://pandas.pydata.org/pandas-docs/stable/indexing.html#indexing-view-versus-copy\n",
      "  if __name__ == '__main__':\n"
     ]
    }
   ],
   "source": [
    "df_rec['recipe_id'] = df_rec['recipe_title'].apply(recipe_id)\n",
    "df_rec['user_id'] = df_rec['user'].apply(user_id)"
   ]
  },
  {
   "cell_type": "code",
   "execution_count": 284,
   "metadata": {
    "collapsed": false
   },
   "outputs": [
    {
     "data": {
      "text/html": [
       "<div>\n",
       "<style>\n",
       "    .dataframe thead tr:only-child th {\n",
       "        text-align: right;\n",
       "    }\n",
       "\n",
       "    .dataframe thead th {\n",
       "        text-align: left;\n",
       "    }\n",
       "\n",
       "    .dataframe tbody tr th {\n",
       "        vertical-align: top;\n",
       "    }\n",
       "</style>\n",
       "<table border=\"1\" class=\"dataframe\">\n",
       "  <thead>\n",
       "    <tr style=\"text-align: right;\">\n",
       "      <th></th>\n",
       "      <th>user</th>\n",
       "      <th>recipe_title</th>\n",
       "      <th>rating</th>\n",
       "      <th>rating</th>\n",
       "      <th>recipe_id</th>\n",
       "      <th>user_id</th>\n",
       "    </tr>\n",
       "  </thead>\n",
       "  <tbody>\n",
       "    <tr>\n",
       "      <th>0</th>\n",
       "      <td>alex</td>\n",
       "      <td>Austin Diner-Style Queso</td>\n",
       "      <td>2</td>\n",
       "      <td>2</td>\n",
       "      <td>1283</td>\n",
       "      <td>3604</td>\n",
       "    </tr>\n",
       "    <tr>\n",
       "      <th>1</th>\n",
       "      <td>petalpusher</td>\n",
       "      <td>Austin Diner-Style Queso</td>\n",
       "      <td>2</td>\n",
       "      <td>2</td>\n",
       "      <td>1283</td>\n",
       "      <td>1772</td>\n",
       "    </tr>\n",
       "    <tr>\n",
       "      <th>2</th>\n",
       "      <td>EmFraiche</td>\n",
       "      <td>Austin Diner-Style Queso</td>\n",
       "      <td>0</td>\n",
       "      <td>0</td>\n",
       "      <td>1283</td>\n",
       "      <td>15674</td>\n",
       "    </tr>\n",
       "    <tr>\n",
       "      <th>3</th>\n",
       "      <td>Jennifer M</td>\n",
       "      <td>Austin Diner-Style Queso</td>\n",
       "      <td>2</td>\n",
       "      <td>2</td>\n",
       "      <td>1283</td>\n",
       "      <td>5953</td>\n",
       "    </tr>\n",
       "    <tr>\n",
       "      <th>4</th>\n",
       "      <td>Ceil_the_great</td>\n",
       "      <td>Austin Diner-Style Queso</td>\n",
       "      <td>3</td>\n",
       "      <td>2</td>\n",
       "      <td>1283</td>\n",
       "      <td>5290</td>\n",
       "    </tr>\n",
       "  </tbody>\n",
       "</table>\n",
       "</div>"
      ],
      "text/plain": [
       "             user              recipe_title  rating  rating  recipe_id  \\\n",
       "0            alex  Austin Diner-Style Queso       2       2       1283   \n",
       "1     petalpusher  Austin Diner-Style Queso       2       2       1283   \n",
       "2       EmFraiche  Austin Diner-Style Queso       0       0       1283   \n",
       "3      Jennifer M  Austin Diner-Style Queso       2       2       1283   \n",
       "4  Ceil_the_great  Austin Diner-Style Queso       3       2       1283   \n",
       "\n",
       "   user_id  \n",
       "0     3604  \n",
       "1     1772  \n",
       "2    15674  \n",
       "3     5953  \n",
       "4     5290  "
      ]
     },
     "execution_count": 284,
     "metadata": {},
     "output_type": "execute_result"
    }
   ],
   "source": [
    "df_rec.head()"
   ]
  },
  {
   "cell_type": "code",
   "execution_count": 285,
   "metadata": {
    "collapsed": true
   },
   "outputs": [],
   "source": [
    "df_final = df_rec[['user_id', 'recipe_id', 'rating']]"
   ]
  },
  {
   "cell_type": "code",
   "execution_count": 286,
   "metadata": {
    "collapsed": true
   },
   "outputs": [],
   "source": [
    "df_final.to_csv('data/f52_user_item_rating3.csv')"
   ]
  },
  {
   "cell_type": "code",
   "execution_count": null,
   "metadata": {
    "collapsed": true
   },
   "outputs": [],
   "source": []
  }
 ],
 "metadata": {
  "anaconda-cloud": {},
  "kernelspec": {
   "display_name": "Python [conda env:py36]",
   "language": "python",
   "name": "conda-env-py36-py"
  },
  "language_info": {
   "codemirror_mode": {
    "name": "ipython",
    "version": 3
   },
   "file_extension": ".py",
   "mimetype": "text/x-python",
   "name": "python",
   "nbconvert_exporter": "python",
   "pygments_lexer": "ipython3",
   "version": "3.6.1"
  }
 },
 "nbformat": 4,
 "nbformat_minor": 2
}
