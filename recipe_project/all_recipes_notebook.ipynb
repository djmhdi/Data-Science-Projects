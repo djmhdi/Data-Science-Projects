{
 "cells": [
  {
   "cell_type": "code",
   "execution_count": 1,
   "metadata": {
    "collapsed": true
   },
   "outputs": [],
   "source": [
    "import requests\n",
    "from bs4 import BeautifulSoup\n",
    "import pandas as pd\n",
    "import numpy as np\n",
    "import matplotlib.pyplot as plt\n",
    "from selenium import webdriver\n",
    "import selenium\n",
    "import time\n",
    "from selenium.webdriver.common.by import By\n",
    "from selenium.webdriver.support.ui import WebDriverWait\n",
    "from selenium.webdriver.support import expected_conditions as EC\n",
    "from selenium.common.exceptions import TimeoutException, NoSuchElementException, InvalidSelectorException\n",
    "import numpy as np\n",
    "import string\n",
    "import pandas as pd\n",
    "from collections import defaultdict\n",
    "from pymongo import MongoClient\n",
    "import json\n",
    "import pickle"
   ]
  },
  {
   "cell_type": "code",
   "execution_count": 120,
   "metadata": {
    "collapsed": true
   },
   "outputs": [],
   "source": [
    "with open('data/allrecipe_chicken_recipelist.pkl', 'rb') as f:\n",
    "        link_list = pickle.load(f)"
   ]
  },
  {
   "cell_type": "code",
   "execution_count": 121,
   "metadata": {},
   "outputs": [
    {
     "data": {
      "text/plain": [
       "['/recipe/213068/grill-master-chicken-wings/', '/recipe/141169/easy-indian-butter-chicken/', '/recipes/728/world-cuisine/latin-american/mexican/', '/recipes/739/healthy-recipes/diabetic/', '/recipe/23312/japanese-chicken-wings/', '/recipes/1231/healthy-recipes/low-fat/', '/recipes/276/desserts/cakes/', '/recipe/23874/catherines-spicy-chicken-soup/', '/recipes/94/soups-stews-and-chili/', '/recipes/201']"
      ]
     },
     "execution_count": 121,
     "metadata": {},
     "output_type": "execute_result"
    }
   ],
   "source": [
    "link_list[:10]"
   ]
  },
  {
   "cell_type": "code",
   "execution_count": 131,
   "metadata": {},
   "outputs": [
    {
     "name": "stdout",
     "output_type": "stream",
     "text": [
      "/recipe/213068/grill-master-chicken-wings/\n"
     ]
    }
   ],
   "source": [
    "link = link_list[0]\n",
    "print (link)"
   ]
  },
  {
   "cell_type": "code",
   "execution_count": 2,
   "metadata": {
    "collapsed": true
   },
   "outputs": [],
   "source": [
    "# num = np.random.randint(2) # built in pause\n",
    "# time.sleep(num)\n",
    "# options = webdriver.ChromeOptions()\n",
    "# options.add_argument('window-size=800x841')\n",
    "# options.add_argument('headless')\n",
    "# driver = webdriver.Chrome(chrome_options=options)\n",
    "\n",
    "driver = webdriver.Chrome()\n",
    "# driver.get('http:allrecipes.com' + link)\n",
    "driver.get('http://allrecipes.com/recipe/25155/red-skinned-potato-salad/')"
   ]
  },
  {
   "cell_type": "code",
   "execution_count": 3,
   "metadata": {
    "collapsed": true
   },
   "outputs": [],
   "source": [
    "from selenium.webdriver.common.action_chains import ActionChains\n"
   ]
  },
  {
   "cell_type": "code",
   "execution_count": 12,
   "metadata": {
    "collapsed": true
   },
   "outputs": [],
   "source": [
    "driver.execute_script(\"window.scrollTo(0, document.body.scrollHeight);\")  #to bottom of page"
   ]
  },
  {
   "cell_type": "code",
   "execution_count": 4,
   "metadata": {
    "collapsed": true
   },
   "outputs": [],
   "source": [
    "\"\"\"this works to open the review page\"\"\"\n",
    "review_window = driver.find_element_by_class_name(\"review-count\") # this opens the window\n",
    "try:\n",
    "    ActionChains(driver).move_to_element(review_window).click().perform()\n",
    "except InvalidSelectorException:\n",
    "    print('why??')"
   ]
  },
  {
   "cell_type": "code",
   "execution_count": 9,
   "metadata": {},
   "outputs": [
    {
     "ename": "NoSuchElementException",
     "evalue": "Message: no such element: Unable to locate element: {\"method\":\"xpath\",\"selector\":\"/html/body/iframe[7]\"}\n  (Session info: chrome=61.0.3163.100)\n  (Driver info: chromedriver=2.32.498537 (cb2f855cbc7b82e20387eaf9a43f6b99b6105061),platform=Mac OS X 10.12.6 x86_64)\n",
     "output_type": "error",
     "traceback": [
      "\u001b[0;31m---------------------------------------------------------------------------\u001b[0m",
      "\u001b[0;31mNoSuchElementException\u001b[0m                    Traceback (most recent call last)",
      "\u001b[0;32m<ipython-input-9-05cc72518ba0>\u001b[0m in \u001b[0;36m<module>\u001b[0;34m()\u001b[0m\n\u001b[0;32m----> 1\u001b[0;31m \u001b[0mframe_path\u001b[0m \u001b[0;34m=\u001b[0m \u001b[0mdriver\u001b[0m\u001b[0;34m.\u001b[0m\u001b[0mfind_element_by_xpath\u001b[0m\u001b[0;34m(\u001b[0m\u001b[0;34m'/html/body/iframe[7]'\u001b[0m\u001b[0;34m)\u001b[0m\u001b[0;34m\u001b[0m\u001b[0m\n\u001b[0m\u001b[1;32m      2\u001b[0m \u001b[0mdriver\u001b[0m\u001b[0;34m.\u001b[0m\u001b[0mswitch_to_frame\u001b[0m\u001b[0;34m(\u001b[0m\u001b[0mframe_path\u001b[0m\u001b[0;34m)\u001b[0m \u001b[0;31m# switches to popup frame\u001b[0m\u001b[0;34m\u001b[0m\u001b[0m\n",
      "\u001b[0;32m/Applications/anaconda/envs/py36/lib/python3.6/site-packages/selenium/webdriver/remote/webdriver.py\u001b[0m in \u001b[0;36mfind_element_by_xpath\u001b[0;34m(self, xpath)\u001b[0m\n\u001b[1;32m    352\u001b[0m             \u001b[0mdriver\u001b[0m\u001b[0;34m.\u001b[0m\u001b[0mfind_element_by_xpath\u001b[0m\u001b[0;34m(\u001b[0m\u001b[0;34m'//div/td[1]'\u001b[0m\u001b[0;34m)\u001b[0m\u001b[0;34m\u001b[0m\u001b[0m\n\u001b[1;32m    353\u001b[0m         \"\"\"\n\u001b[0;32m--> 354\u001b[0;31m         \u001b[0;32mreturn\u001b[0m \u001b[0mself\u001b[0m\u001b[0;34m.\u001b[0m\u001b[0mfind_element\u001b[0m\u001b[0;34m(\u001b[0m\u001b[0mby\u001b[0m\u001b[0;34m=\u001b[0m\u001b[0mBy\u001b[0m\u001b[0;34m.\u001b[0m\u001b[0mXPATH\u001b[0m\u001b[0;34m,\u001b[0m \u001b[0mvalue\u001b[0m\u001b[0;34m=\u001b[0m\u001b[0mxpath\u001b[0m\u001b[0;34m)\u001b[0m\u001b[0;34m\u001b[0m\u001b[0m\n\u001b[0m\u001b[1;32m    355\u001b[0m \u001b[0;34m\u001b[0m\u001b[0m\n\u001b[1;32m    356\u001b[0m     \u001b[0;32mdef\u001b[0m \u001b[0mfind_elements_by_xpath\u001b[0m\u001b[0;34m(\u001b[0m\u001b[0mself\u001b[0m\u001b[0;34m,\u001b[0m \u001b[0mxpath\u001b[0m\u001b[0;34m)\u001b[0m\u001b[0;34m:\u001b[0m\u001b[0;34m\u001b[0m\u001b[0m\n",
      "\u001b[0;32m/Applications/anaconda/envs/py36/lib/python3.6/site-packages/selenium/webdriver/remote/webdriver.py\u001b[0m in \u001b[0;36mfind_element\u001b[0;34m(self, by, value)\u001b[0m\n\u001b[1;32m    830\u001b[0m         return self.execute(Command.FIND_ELEMENT, {\n\u001b[1;32m    831\u001b[0m             \u001b[0;34m'using'\u001b[0m\u001b[0;34m:\u001b[0m \u001b[0mby\u001b[0m\u001b[0;34m,\u001b[0m\u001b[0;34m\u001b[0m\u001b[0m\n\u001b[0;32m--> 832\u001b[0;31m             'value': value})['value']\n\u001b[0m\u001b[1;32m    833\u001b[0m \u001b[0;34m\u001b[0m\u001b[0m\n\u001b[1;32m    834\u001b[0m     \u001b[0;32mdef\u001b[0m \u001b[0mfind_elements\u001b[0m\u001b[0;34m(\u001b[0m\u001b[0mself\u001b[0m\u001b[0;34m,\u001b[0m \u001b[0mby\u001b[0m\u001b[0;34m=\u001b[0m\u001b[0mBy\u001b[0m\u001b[0;34m.\u001b[0m\u001b[0mID\u001b[0m\u001b[0;34m,\u001b[0m \u001b[0mvalue\u001b[0m\u001b[0;34m=\u001b[0m\u001b[0;32mNone\u001b[0m\u001b[0;34m)\u001b[0m\u001b[0;34m:\u001b[0m\u001b[0;34m\u001b[0m\u001b[0m\n",
      "\u001b[0;32m/Applications/anaconda/envs/py36/lib/python3.6/site-packages/selenium/webdriver/remote/webdriver.py\u001b[0m in \u001b[0;36mexecute\u001b[0;34m(self, driver_command, params)\u001b[0m\n\u001b[1;32m    295\u001b[0m         \u001b[0mresponse\u001b[0m \u001b[0;34m=\u001b[0m \u001b[0mself\u001b[0m\u001b[0;34m.\u001b[0m\u001b[0mcommand_executor\u001b[0m\u001b[0;34m.\u001b[0m\u001b[0mexecute\u001b[0m\u001b[0;34m(\u001b[0m\u001b[0mdriver_command\u001b[0m\u001b[0;34m,\u001b[0m \u001b[0mparams\u001b[0m\u001b[0;34m)\u001b[0m\u001b[0;34m\u001b[0m\u001b[0m\n\u001b[1;32m    296\u001b[0m         \u001b[0;32mif\u001b[0m \u001b[0mresponse\u001b[0m\u001b[0;34m:\u001b[0m\u001b[0;34m\u001b[0m\u001b[0m\n\u001b[0;32m--> 297\u001b[0;31m             \u001b[0mself\u001b[0m\u001b[0;34m.\u001b[0m\u001b[0merror_handler\u001b[0m\u001b[0;34m.\u001b[0m\u001b[0mcheck_response\u001b[0m\u001b[0;34m(\u001b[0m\u001b[0mresponse\u001b[0m\u001b[0;34m)\u001b[0m\u001b[0;34m\u001b[0m\u001b[0m\n\u001b[0m\u001b[1;32m    298\u001b[0m             response['value'] = self._unwrap_value(\n\u001b[1;32m    299\u001b[0m                 response.get('value', None))\n",
      "\u001b[0;32m/Applications/anaconda/envs/py36/lib/python3.6/site-packages/selenium/webdriver/remote/errorhandler.py\u001b[0m in \u001b[0;36mcheck_response\u001b[0;34m(self, response)\u001b[0m\n\u001b[1;32m    192\u001b[0m         \u001b[0;32melif\u001b[0m \u001b[0mexception_class\u001b[0m \u001b[0;34m==\u001b[0m \u001b[0mUnexpectedAlertPresentException\u001b[0m \u001b[0;32mand\u001b[0m \u001b[0;34m'alert'\u001b[0m \u001b[0;32min\u001b[0m \u001b[0mvalue\u001b[0m\u001b[0;34m:\u001b[0m\u001b[0;34m\u001b[0m\u001b[0m\n\u001b[1;32m    193\u001b[0m             \u001b[0;32mraise\u001b[0m \u001b[0mexception_class\u001b[0m\u001b[0;34m(\u001b[0m\u001b[0mmessage\u001b[0m\u001b[0;34m,\u001b[0m \u001b[0mscreen\u001b[0m\u001b[0;34m,\u001b[0m \u001b[0mstacktrace\u001b[0m\u001b[0;34m,\u001b[0m \u001b[0mvalue\u001b[0m\u001b[0;34m[\u001b[0m\u001b[0;34m'alert'\u001b[0m\u001b[0;34m]\u001b[0m\u001b[0;34m.\u001b[0m\u001b[0mget\u001b[0m\u001b[0;34m(\u001b[0m\u001b[0;34m'text'\u001b[0m\u001b[0;34m)\u001b[0m\u001b[0;34m)\u001b[0m\u001b[0;34m\u001b[0m\u001b[0m\n\u001b[0;32m--> 194\u001b[0;31m         \u001b[0;32mraise\u001b[0m \u001b[0mexception_class\u001b[0m\u001b[0;34m(\u001b[0m\u001b[0mmessage\u001b[0m\u001b[0;34m,\u001b[0m \u001b[0mscreen\u001b[0m\u001b[0;34m,\u001b[0m \u001b[0mstacktrace\u001b[0m\u001b[0;34m)\u001b[0m\u001b[0;34m\u001b[0m\u001b[0m\n\u001b[0m\u001b[1;32m    195\u001b[0m \u001b[0;34m\u001b[0m\u001b[0m\n\u001b[1;32m    196\u001b[0m     \u001b[0;32mdef\u001b[0m \u001b[0m_value_or_default\u001b[0m\u001b[0;34m(\u001b[0m\u001b[0mself\u001b[0m\u001b[0;34m,\u001b[0m \u001b[0mobj\u001b[0m\u001b[0;34m,\u001b[0m \u001b[0mkey\u001b[0m\u001b[0;34m,\u001b[0m \u001b[0mdefault\u001b[0m\u001b[0;34m)\u001b[0m\u001b[0;34m:\u001b[0m\u001b[0;34m\u001b[0m\u001b[0m\n",
      "\u001b[0;31mNoSuchElementException\u001b[0m: Message: no such element: Unable to locate element: {\"method\":\"xpath\",\"selector\":\"/html/body/iframe[7]\"}\n  (Session info: chrome=61.0.3163.100)\n  (Driver info: chromedriver=2.32.498537 (cb2f855cbc7b82e20387eaf9a43f6b99b6105061),platform=Mac OS X 10.12.6 x86_64)\n"
     ]
    }
   ],
   "source": [
    "frame_path = driver.find_element_by_xpath('/html/body/iframe[7]')\n",
    "driver.switch_to_frame(frame_path) # switches to popup frame"
   ]
  },
  {
   "cell_type": "code",
   "execution_count": 166,
   "metadata": {
    "collapsed": true
   },
   "outputs": [],
   "source": [
    "# content = driver.find_element_by_id('ngdialog1-aria-describeby')"
   ]
  },
  {
   "cell_type": "code",
   "execution_count": 154,
   "metadata": {
    "collapsed": true
   },
   "outputs": [],
   "source": [
    "right_click = driver.find_element_by_xpath('//*[@id=\"ngdialog1-aria-describedby\"]/div/div[3]/div[1]')\n",
    "try:\n",
    "    right_click.ng-click()\n",
    "#     ActionChains(driver).move_to_element(right_click).click().perform()\n",
    "except InvalidSelectorException:\n",
    "    print('why??')"
   ]
  },
  {
   "cell_type": "code",
   "execution_count": 143,
   "metadata": {
    "collapsed": true
   },
   "outputs": [],
   "source": [
    "# innerHTML = driver.execute_script(\"return document.text.innerHTML\") #returns the inner HTML as a string"
   ]
  },
  {
   "cell_type": "code",
   "execution_count": 6,
   "metadata": {},
   "outputs": [
    {
     "name": "stdout",
     "output_type": "stream",
     "text": [
      "why not\n"
     ]
    }
   ],
   "source": [
    "try:\n",
    "    reviews = driver.find_element_by_xpath('//*[@id=\"ngdialog1-aria-describedby\"]/div/div[3]/div[1]')\n",
    "    bs = BeautifulSoup(reviews.get_attribute(\"outerHTML\"), \"html5lib\")\n",
    "except (NoSuchElementException, TimeoutException):\n",
    "    print('why not')"
   ]
  },
  {
   "cell_type": "code",
   "execution_count": null,
   "metadata": {
    "collapsed": true
   },
   "outputs": [],
   "source": []
  },
  {
   "cell_type": "code",
   "execution_count": 128,
   "metadata": {
    "collapsed": true
   },
   "outputs": [],
   "source": [
    "# from lxml import html\n",
    "# page = BeautifulSoup(innerHTML, 'html.parser') #parse innerHTML\n",
    "# fset = page.get_element_by_id(\"fsetdesc\") #get the fieldset"
   ]
  },
  {
   "cell_type": "code",
   "execution_count": null,
   "metadata": {
    "collapsed": true
   },
   "outputs": [],
   "source": []
  },
  {
   "cell_type": "code",
   "execution_count": 51,
   "metadata": {
    "collapsed": true
   },
   "outputs": [],
   "source": [
    "# \"\"\"This one works to scroll the window\"\"\"\n",
    "# right_button = driver.find_element_by_xpath('//*[@id=\"BI_loadReview2_right\"]')\n",
    "# try:\n",
    "#     ActionChains(driver).move_to_element(right_button).click().perform()\n",
    "# except InvalidSelectorException:\n",
    "#     print('why??')"
   ]
  },
  {
   "cell_type": "code",
   "execution_count": 104,
   "metadata": {},
   "outputs": [
    {
     "data": {
      "text/plain": [
       "True"
      ]
     },
     "execution_count": 104,
     "metadata": {},
     "output_type": "execute_result"
    }
   ],
   "source": []
  },
  {
   "cell_type": "code",
   "execution_count": 147,
   "metadata": {},
   "outputs": [
    {
     "name": "stdout",
     "output_type": "stream",
     "text": [
      "why not\n"
     ]
    }
   ],
   "source": [
    "\n",
    "try:\n",
    "    content = driver.find_element_by_class_name('modalContents')\n",
    "    innerHTML = driver.execute_script(\"return document.text.innerHTML\") #returns the inner HTML as a string\n",
    "    \n",
    "#     review = driver.find_element_by_css_selector('#reviews > div:nth-child(7) > article > div.stars-and-date-container > div.rating-stars')\n",
    "#     rater = driver.find_element_by_class_name('ng-binding')\n",
    "#     rating = driver.find_element_by_class_name('rating')\n",
    "#     review = driver.find_element_by_class_name('ReviewText ng-binding')\n",
    "#     print (rater.text, rating.text, review.text)\n",
    "except (NoSuchElementException, TimeoutException):\n",
    "    print('why not')"
   ]
  },
  {
   "cell_type": "code",
   "execution_count": 130,
   "metadata": {
    "collapsed": true
   },
   "outputs": [],
   "source": []
  },
  {
   "cell_type": "code",
   "execution_count": 148,
   "metadata": {},
   "outputs": [
    {
     "data": {
      "text/plain": [
       "'<script type=\"text/javascript\" async=\"\" src=\"https://cdn.krxd.net/partnerjs/segments_to_partner.js?partner=a272cefb-df39-4fcd-beff-79cd6cdf22ec&amp;client=mere\"></script><script>var viewReq = new Array();function vu(u) {var i=new Image();i.src=u.replace(\"&amp;\",\"&\");viewReq.push(i);}</script><script>vu(\"https://securepubads.g.doubleclick.net/pcs/view?xai\\\\x3dAKAOjssm4SeKe7nzmqOPAmOtyg9l8K545unHYicvK-P-Jbd0-Yo8xB-eQ8vmrbDoHgAxraKtiYmh8bCM0zBTYNsHud5VDoV3n9bfRSYDcYe9AhrSa2HJJqmqtwz1SFVfVWBz12NqQJgmWg6-gZB-Q0-jBzKd3RdmeZQdJ7wBHGhyJR2y5ZxroWBGJUgPVNe0Tka3vu5kkIKOJEgagmhJmdGm--tDCTH48nY2SDpvGMvhZY_d14bAE_aBRIUCvGl0ZeWoj6Og\\\\x26sig\\\\x3dCg0ArKJSzKGSSNayvdimEAE\\\\x26urlfix\\\\x3d1\\\\x26adurl\\\\x3d\")</script><!-- Yieldbot.com Creative Tag -->\\n<script type=\"text/javascript\" src=\"//cdn.yldbt.com/js/yieldbot.intent.js\"></script>\\n<script type=\"text/javascript\">\\n    var ybotq = ybotq || [];\\n    ybotq.push(function () {  yieldbot.renderAd(\\'div-gpt-square-fixed-tier1:300x250\\');\\n    });\\n</script><div id=\"ybot-j8ujsz6pnstv4wpeg2\"><div class=\"ybot-creative creative-wrapper\" style=\"width: 300px; height: 250px;\"><iframe frameborder=\"0\" width=\"300\" height=\"250\" scrolling=\"no\" id=\"ybot-j8ujsz6pnstv4wpeg2-iframe\"></iframe></div></div><script type=\"text/javascript\" src=\"http://ads-adseast-vpc.yldbt.com/m/a6b9/ad/creative.js?v=v2017-10-16%7C7cd5a6b&amp;vi=j8ujshzdofz8i1mo6f&amp;si=j8ujshzdnrejh0u5us&amp;ri=j8ujsz6pnstv4wpeg2&amp;slot=div-gpt-square-fixed-tier1%3A300x250&amp;pvi=j8ujsygwagi7iivshl&amp;cts_res=1508180626422&amp;cts_ad=1508180626467&amp;ioa&amp;it=so&amp;e\"></script>\\n<!-- END Yieldbot.com Creative Tag -->\\n<script src=\"https://tpc.googlesyndication.com/pagead/js/r20171011/r20171013/activeview/osd_listener.js\"></script><script type=\"text/javascript\">osdlfm(-1,\\'\\',\\'BK44tkQLlWcb8PJbT-QOytpGYCgAAAAAQATgByAEJwAIC4AIA4AQBoAYW0ggFCIBhEAE\\',\\'\\',997730395,true,\\'ud\\\\x3d1\\\\x26opac\\\\x26la\\\\x3d0\\\\x26alp\\\\x3dxai\\\\x26alh\\\\x3d3047242446\\\\x26\\',3,\\'CAASEuRoz4LYm2y-99R0bT2Elz79ng\\',\\'https://pagead2.googlesyndication.com/pcs/activeview?xai\\\\x3dAKAOjstrK_qSN_8bqh21e2VM15J_Jdjp_55SGVn6Wq97V7rzlhYIyz6kHHvp_YJq_Qw3-kJAQNtNs_GVmmOXS5jtXvhlAvctbmaGLWI\\\\x26sig\\\\x3dCg0ArKJSzCeK2SEMNrsWEAE\\');</script><script>if (window.top && window.top.postMessage) {window.top.postMessage(\\'{\"googMsgType\":\"adpnt\"}\\',\\'*\\');}</script><div style=\"top:0;left:0;width:300px;height:250px;position:absolute;max-width:100%;max-height:100%;pointer-events:none;image-rendering:pixelated;z-index:2147483647;background-image:url(\\'data:image/png;base64,iVBORw0KGgoAAAANSUhEUgAAACsAAAAWBAMAAACrl3iAAAAABlBMVEUAAAD+AciWmZzWAAAAAnRSTlMAApidrBQAAAB+SURBVBjTbZEBCsAwCAPjD/L/146qiQpztKv01JAC/xEV778ygHnLXHRWXKBwZ48gm55s7qM+01i7e0uJ2Fai0ATphpVUV/Q+VFaQmh/dVfVJpA4W1SVuDPFXSE14rfNkpTLQ1DjYMpYnoQm4DpLWze2wiu7rJFwzyPuW9uUD7VgFpNWq/4UAAAAASUVORK5CYII=\\')\"></div><script type=\"text/javascript\" src=\"http://js.moatads.com/meredith678928442552/moatad.js#moatClientLevel1=30456930&amp;moatClientLevel2=202029690&amp;moatClientLevel3=4327171290&amp;moatClientLevel4=49734545130&amp;moatClientSlicer1=50706090&amp;moatClientSlicer2=66165810&amp;zMoatPS=&amp;zMoatST=&amp;zMoatType=recipe&amp;zMoatSlot=square-flex-1\"></script><img onerror=\"(function(e){{e.onload.call(e);return false;}})(this)\" onload=\"\" src=\"data:image/gif;base64,R0lGODlhAQABAIAAAAAAAP///yH5BAEAAAAALAAAAAABAAEAAAIBRAA7\" width=\"0\" height=\"0\" style=\"display:none;\">'"
      ]
     },
     "execution_count": 148,
     "metadata": {},
     "output_type": "execute_result"
    }
   ],
   "source": [
    "innerHTML"
   ]
  },
  {
   "cell_type": "code",
   "execution_count": 10,
   "metadata": {
    "collapsed": true
   },
   "outputs": [],
   "source": [
    "driver.quit()"
   ]
  },
  {
   "cell_type": "code",
   "execution_count": null,
   "metadata": {
    "collapsed": true
   },
   "outputs": [],
   "source": []
  }
 ],
 "metadata": {
  "kernelspec": {
   "display_name": "Python 3",
   "language": "python",
   "name": "python3"
  },
  "language_info": {
   "codemirror_mode": {
    "name": "ipython",
    "version": 3
   },
   "file_extension": ".py",
   "mimetype": "text/x-python",
   "name": "python",
   "nbconvert_exporter": "python",
   "pygments_lexer": "ipython3",
   "version": "3.6.1"
  }
 },
 "nbformat": 4,
 "nbformat_minor": 2
}
