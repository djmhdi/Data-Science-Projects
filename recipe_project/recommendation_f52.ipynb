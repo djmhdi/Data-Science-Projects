{
 "cells": [
  {
   "cell_type": "code",
   "execution_count": 1,
   "metadata": {
    "collapsed": true
   },
   "outputs": [],
   "source": [
    "import pyspark as ps\n",
    "from pyspark.ml.recommendation import ALS\n",
    "from pyspark.ml.evaluation import RegressionEvaluator\n",
    "import logging\n",
    "import pandas as pd\n",
    "import numpy as np"
   ]
  },
  {
   "cell_type": "code",
   "execution_count": 13,
   "metadata": {
    "collapsed": true
   },
   "outputs": [],
   "source": [
    "import pyspark as ps\n",
    "from pyspark.ml.recommendation import ALS\n",
    "from pyspark.ml.evaluation import RegressionEvaluator\n",
    "import logging\n",
    "import pandas as pd\n",
    "import numpy as np\n",
    "\n",
    "\n",
    "class RecipeRecommender():\n",
    "    \"\"\"\n",
    "    Recommendation engine class - uses MLLib Alternating Least Squares Model\n",
    "    \"\"\"\n",
    "\n",
    "    def __init__(self, rank=250, reg=0.1):\n",
    "        \"\"\" Initializes Spark and ALS model selection \"\"\"\n",
    "        spark = (\n",
    "            ps.sql.SparkSession.builder\n",
    "            .master('local[4]')\n",
    "            .appName('BVS')\n",
    "            .getOrCreate()\n",
    "        )\n",
    "        self.spark = spark\n",
    "        self.sc = self.spark.sparkContext\n",
    "\n",
    "        self.model = ALS(\n",
    "            maxIter=5,\n",
    "            rank=rank,\n",
    "            itemCol='recipe_id',\n",
    "            userCol='user_id',\n",
    "            ratingCol='rating',\n",
    "            nonnegative=True,\n",
    "            regParam=reg,\n",
    "#             coldStartStrategy=\"drop\"\n",
    "            )\n",
    "\n",
    "\n",
    "    def fit(self, ratings):\n",
    "        \"\"\"\n",
    "        Trains the recommender on a given set of ratings.\n",
    "\n",
    "        Parameters\n",
    "        ----------\n",
    "        ratings : pandas dataframe, shape = (n_ratings, 4)\n",
    "                  with columns 'user', 'recipe', 'rating'\n",
    "\n",
    "        Returns\n",
    "        -------\n",
    "        self : object\n",
    "            Returns self.\n",
    "        \"\"\"\n",
    "        \"\"\" Convert a Pandas DF to a Spark DF \"\"\"\n",
    "        ratings_df = self.spark.createDataFrame(ratings)\n",
    "        \"\"\"\n",
    "        Train the ALS model. We'll call the trained model `recommender`.\n",
    "        \"\"\"\n",
    "        self.recommender_ = self.model.fit(ratings_df)\n",
    "        return self\n",
    "\n",
    "\n",
    "    def transform(self, requests):\n",
    "        \"\"\"\n",
    "        Predicts the ratings for a given set of user_id/recipe_id pairs.\n",
    "\n",
    "        Parameters\n",
    "        ----------\n",
    "        requests : pandas dataframe, shape = (n_ratings, 2)\n",
    "                  with columns 'user', 'movie'\n",
    "\n",
    "        Returns\n",
    "        -------\n",
    "        dataframe : a pandas dataframe with columns 'user', 'movie', 'rating'\n",
    "                    column 'rating' containing the predicted rating\n",
    "        \"\"\"\n",
    "        # Convert a Pandas DF to a Spark DF\n",
    "        requests_df = self.spark.createDataFrame(requests)\n",
    "        self.predictions = self.recommender_.transform(requests_df)\n",
    "        return self.predictions.toPandas()\n",
    "\n",
    "\n",
    "    def evaluate(self, requests, pred_col='prediction'):\n",
    "        requests_df = self.spark.createDataFrame(requests)\n",
    "        evaluator = RegressionEvaluator(\n",
    "                metricName=\"rmse\",\n",
    "                labelCol=\"rating\",\n",
    "                predictionCol=pred_col\n",
    "            )\n",
    "        rmse = evaluator.evaluate(requests_df)\n",
    "        return rmse\n",
    "\n",
    "    def recommend_for_all(self, who='users', number=10):\n",
    "        if who == 'users':\n",
    "            user_recs = self.recommender_.recommendForAllUsers(number)\n",
    "            return (user_recs.toPandas())\n",
    "        else:\n",
    "            recipe_recs = self.recommender_.recommendForAllItems(number)\n",
    "            return (recipe_recs.toPandas)\n",
    "\n",
    "    def model_save(self, filepath):\n",
    "        self.recommender_.save(self.sc, filepath)\n",
    "\n",
    "\n",
    "if __name__ == \"__main__\":\n",
    "    pass\n"
   ]
  },
  {
   "cell_type": "code",
   "execution_count": 3,
   "metadata": {
    "collapsed": true
   },
   "outputs": [],
   "source": [
    "df = pd.read_csv('data/f52_user_item_rating.csv')"
   ]
  },
  {
   "cell_type": "code",
   "execution_count": 5,
   "metadata": {
    "collapsed": false
   },
   "outputs": [],
   "source": [
    "del df['Unnamed: 0']"
   ]
  },
  {
   "cell_type": "code",
   "execution_count": 8,
   "metadata": {
    "collapsed": false
   },
   "outputs": [],
   "source": [
    "from sklearn.model_selection import ParameterGrid, train_test_split\n",
    "from sklearn.metrics import mean_squared_error"
   ]
  },
  {
   "cell_type": "code",
   "execution_count": 9,
   "metadata": {
    "collapsed": true
   },
   "outputs": [],
   "source": [
    "y = df['rating'].values\n",
    "X = df.values\n",
    "X_train, X_test, y_train, y_test = train_test_split(X, y, test_size=0.2, random_state=42)\n",
    "train_df = pd.DataFrame(X_train)\n",
    "test_df = pd.DataFrame(X_test)\n",
    "cols = 'user_id recipe_id rating'.split()\n",
    "train_df.columns = cols\n",
    "test_df.columns = cols\n",
    "test_df_preds = test_df[['user_id', 'recipe_id']]"
   ]
  },
  {
   "cell_type": "code",
   "execution_count": 17,
   "metadata": {
    "collapsed": true
   },
   "outputs": [],
   "source": [
    "def rmse(preds, train_df, test_df):\n",
    "    train_rating_mean = train_df['rating'].mean()\n",
    "    new_df = preds.merge(test_df, how='left', on=['user_id', 'recipe_id'])\n",
    "    new_df['user_bias'] = new_df['user_id'].apply(user_bias)\n",
    "    new_df['recipe_bias'] = new_df['recipe_id'].apply(recipe_bias)\n",
    "    new_df['total_bias'] = new_df['recipe_bias'] + new_df['user_bias']\n",
    "    new_df['adjusted'] = new_df['prediction'] + new_df['total_bias']\n",
    "    new_df['adjusted'].fillna(new_df['total_bias'].apply(lambda x: train_rating_mean + x ), inplace=True)\n",
    "    y_pred = new_df['adjusted']\n",
    "    y_true = new_df['rating']\n",
    "    return np.sqrt(mean_squared_error(y_true, y_pred))\n",
    "\n",
    "def user_bias(col):\n",
    "    user_groups = train_df['rating'].mean() - train_df.groupby('user_id')['rating'].mean()\n",
    "    if col in user_groups.index:\n",
    "        return user_groups[col]\n",
    "    else:\n",
    "        return 0\n",
    "\n",
    "def recipe_bias(col):\n",
    "    recipe_groups = train_df['rating'].mean() - train_df.groupby('recipe_id')['rating'].mean()\n",
    "    if col in recipe_groups:\n",
    "        return recipe_groups[col]\n",
    "    else:\n",
    "        return 0"
   ]
  },
  {
   "cell_type": "code",
   "execution_count": 14,
   "metadata": {
    "collapsed": true
   },
   "outputs": [],
   "source": [
    "rec_f52 = RecipeRecommender()"
   ]
  },
  {
   "cell_type": "code",
   "execution_count": 15,
   "metadata": {
    "collapsed": false
   },
   "outputs": [
    {
     "data": {
      "text/plain": [
       "<__main__.RecipeRecommender instance at 0x10be2d830>"
      ]
     },
     "execution_count": 15,
     "metadata": {},
     "output_type": "execute_result"
    }
   ],
   "source": [
    "rec_f52.fit(train_df)"
   ]
  },
  {
   "cell_type": "code",
   "execution_count": 16,
   "metadata": {
    "collapsed": false
   },
   "outputs": [],
   "source": [
    "preds = rec_f52.transform(test_df_preds)"
   ]
  },
  {
   "cell_type": "code",
   "execution_count": 18,
   "metadata": {
    "collapsed": true
   },
   "outputs": [],
   "source": [
    "mse_score = rmse(preds, train_df, test_df)"
   ]
  },
  {
   "cell_type": "code",
   "execution_count": 19,
   "metadata": {
    "collapsed": false
   },
   "outputs": [
    {
     "data": {
      "text/plain": [
       "1.6050725924712959"
      ]
     },
     "execution_count": 19,
     "metadata": {},
     "output_type": "execute_result"
    }
   ],
   "source": [
    "mse_score"
   ]
  },
  {
   "cell_type": "code",
   "execution_count": 20,
   "metadata": {
    "collapsed": true
   },
   "outputs": [],
   "source": [
    "def optimization(train_df, test_df_preds, test_df):\n",
    "    output = []\n",
    "    params = {'rank':[1, 2, 5, 10, 50, 250], 'reg':[0.01, 0.1, 0.5, 1]}\n",
    "    combi = list(ParameterGrid(params))\n",
    "    for dct in combi:\n",
    "        rank, reg = dct['rank'], dct['reg']\n",
    "        model = RecipeRecommender(rank, reg)\n",
    "        model.fit(train_df)\n",
    "        preds = model.transform(test_df_preds)\n",
    "        rmse_score = rmse(preds, train_df, test_df)\n",
    "        output.append([rank, reg, rmse_score])\n",
    "    return output"
   ]
  },
  {
   "cell_type": "code",
   "execution_count": 21,
   "metadata": {
    "collapsed": true
   },
   "outputs": [],
   "source": [
    "opt_list = optimization(train_df, test_df_preds, test_df)"
   ]
  },
  {
   "cell_type": "code",
   "execution_count": 22,
   "metadata": {
    "collapsed": false
   },
   "outputs": [
    {
     "data": {
      "text/plain": [
       "[[1, 0.01, 1.5412405938002069],\n",
       " [1, 0.1, 1.4688077430443554],\n",
       " [1, 0.5, 1.5400665911187938],\n",
       " [1, 1, 1.7427019178949266],\n",
       " [2, 0.01, 1.685083987106158],\n",
       " [2, 0.1, 1.5295063254617678],\n",
       " [2, 0.5, 1.554794494500024],\n",
       " [2, 1, 1.7461627983047892],\n",
       " [5, 0.01, 1.7583376463625855],\n",
       " [5, 0.1, 1.5683509584718498],\n",
       " [5, 0.5, 1.5673794231656855],\n",
       " [5, 1, 1.7502879575242445],\n",
       " [10, 0.01, 1.7097559712088928],\n",
       " [10, 0.1, 1.5850047637328333],\n",
       " [10, 0.5, 1.5780648784179816],\n",
       " [10, 1, 1.7551175365650202],\n",
       " [50, 0.01, 1.706804467864077],\n",
       " [50, 0.1, 1.6013840611342842],\n",
       " [50, 0.5, 1.5861837994438892],\n",
       " [50, 1, 1.7588069520068839],\n",
       " [250, 0.01, 1.7499539408508034],\n",
       " [250, 0.1, 1.6050725924712959],\n",
       " [250, 0.5, 1.5861912829178673],\n",
       " [250, 1, 1.7585571297363245]]"
      ]
     },
     "execution_count": 22,
     "metadata": {},
     "output_type": "execute_result"
    }
   ],
   "source": [
    "opt_list"
   ]
  },
  {
   "cell_type": "code",
   "execution_count": 23,
   "metadata": {
    "collapsed": true
   },
   "outputs": [],
   "source": [
    "df_opt = pd.DataFrame.from_records(opt_list)"
   ]
  },
  {
   "cell_type": "code",
   "execution_count": 26,
   "metadata": {
    "collapsed": false
   },
   "outputs": [],
   "source": [
    "df_opt.columns = 'rank reg rmse'.split()"
   ]
  },
  {
   "cell_type": "code",
   "execution_count": 27,
   "metadata": {
    "collapsed": false
   },
   "outputs": [
    {
     "data": {
      "text/plain": [
       "1.4688077430443554"
      ]
     },
     "execution_count": 27,
     "metadata": {},
     "output_type": "execute_result"
    }
   ],
   "source": [
    "df_opt['rmse'].min()"
   ]
  },
  {
   "cell_type": "code",
   "execution_count": 29,
   "metadata": {
    "collapsed": false
   },
   "outputs": [
    {
     "data": {
      "text/plain": [
       "array([[<matplotlib.axes._subplots.AxesSubplot object at 0x117c6c310>]], dtype=object)"
      ]
     },
     "execution_count": 29,
     "metadata": {},
     "output_type": "execute_result"
    },
    {
     "data": {
      "image/png": "[encoded data removed]",
      "text/plain": [
       "<matplotlib.figure.Figure at 0x111152550>"
      ]
     },
     "metadata": {},
     "output_type": "display_data"
    }
   ],
   "source": [
    "%matplotlib inline\n",
    "preds.hist('prediction')"
   ]
  },
  {
   "cell_type": "code",
   "execution_count": null,
   "metadata": {
    "collapsed": true
   },
   "outputs": [],
   "source": []
  }
 ],
 "metadata": {
  "anaconda-cloud": {},
  "kernelspec": {
   "display_name": "Python [conda root]",
   "language": "python",
   "name": "conda-root-py"
  },
  "language_info": {
   "codemirror_mode": {
    "name": "ipython",
    "version": 2
   },
   "file_extension": ".py",
   "mimetype": "text/x-python",
   "name": "python",
   "nbconvert_exporter": "python",
   "pygments_lexer": "ipython2",
   "version": "2.7.12"
  }
 },
 "nbformat": 4,
 "nbformat_minor": 1
}
