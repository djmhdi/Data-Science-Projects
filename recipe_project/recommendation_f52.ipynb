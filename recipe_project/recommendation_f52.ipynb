{
 "cells": [
  {
   "cell_type": "code",
   "execution_count": 1,
   "metadata": {
    "collapsed": true
   },
   "outputs": [],
   "source": [
    "import pyspark as ps\n",
    "from pyspark.ml.recommendation import ALS\n",
    "from pyspark.ml.evaluation import RegressionEvaluator\n",
    "import logging\n",
    "import pandas as pd\n",
    "import numpy as np"
   ]
  },
  {
   "cell_type": "code",
   "execution_count": 2,
   "metadata": {
    "collapsed": true
   },
   "outputs": [],
   "source": [
    "import pyspark as ps\n",
    "from pyspark.ml.recommendation import ALS\n",
    "from pyspark.ml.evaluation import RegressionEvaluator\n",
    "import logging\n",
    "import pandas as pd\n",
    "import numpy as np\n",
    "\n",
    "\n",
    "class RecipeRecommender():\n",
    "    \"\"\"\n",
    "    Recommendation engine class - uses MLLib Alternating Least Squares Model\n",
    "    \"\"\"\n",
    "\n",
    "    def __init__(self, rank=250, reg=0.1):\n",
    "        \"\"\" Initializes Spark and ALS model selection \"\"\"\n",
    "        spark = (\n",
    "            ps.sql.SparkSession.builder\n",
    "            .master('local[4]')\n",
    "            .appName('BVS')\n",
    "            .getOrCreate()\n",
    "        )\n",
    "        self.spark = spark\n",
    "        self.sc = self.spark.sparkContext\n",
    "\n",
    "        self.model = ALS(\n",
    "            maxIter=5,\n",
    "            rank=rank,\n",
    "            itemCol='recipe_id',\n",
    "            userCol='user_id',\n",
    "            ratingCol='rating',\n",
    "            nonnegative=True,\n",
    "            regParam=reg,\n",
    "#             coldStartStrategy=\"drop\"\n",
    "            )\n",
    "\n",
    "\n",
    "    def fit(self, ratings):\n",
    "        \"\"\"\n",
    "        Trains the recommender on a given set of ratings.\n",
    "\n",
    "        Parameters\n",
    "        ----------\n",
    "        ratings : pandas dataframe, shape = (n_ratings, 4)\n",
    "                  with columns 'user', 'recipe', 'rating'\n",
    "\n",
    "        Returns\n",
    "        -------\n",
    "        self : object\n",
    "            Returns self.\n",
    "        \"\"\"\n",
    "        \"\"\" Convert a Pandas DF to a Spark DF \"\"\"\n",
    "        ratings_df = self.spark.createDataFrame(ratings)\n",
    "        \"\"\"\n",
    "        Train the ALS model. We'll call the trained model `recommender`.\n",
    "        \"\"\"\n",
    "        self.recommender_ = self.model.fit(ratings_df)\n",
    "        return self\n",
    "\n",
    "\n",
    "    def transform(self, requests):\n",
    "        \"\"\"\n",
    "        Predicts the ratings for a given set of user_id/recipe_id pairs.\n",
    "\n",
    "        Parameters\n",
    "        ----------\n",
    "        requests : pandas dataframe, shape = (n_ratings, 2)\n",
    "                  with columns 'user', 'movie'\n",
    "\n",
    "        Returns\n",
    "        -------\n",
    "        dataframe : a pandas dataframe with columns 'user', 'movie', 'rating'\n",
    "                    column 'rating' containing the predicted rating\n",
    "        \"\"\"\n",
    "        # Convert a Pandas DF to a Spark DF\n",
    "        requests_df = self.spark.createDataFrame(requests)\n",
    "        self.predictions = self.recommender_.transform(requests_df)\n",
    "        return self.predictions.toPandas()\n",
    "\n",
    "\n",
    "    def evaluate(self, requests, pred_col='prediction'):\n",
    "        requests_df = self.spark.createDataFrame(requests)\n",
    "        evaluator = RegressionEvaluator(\n",
    "                metricName=\"rmse\",\n",
    "                labelCol=\"rating\",\n",
    "                predictionCol=pred_col\n",
    "            )\n",
    "        rmse = evaluator.evaluate(requests_df)\n",
    "        return rmse\n",
    "\n",
    "    def recommend_for_all(self, who='users', number=10):\n",
    "        if who == 'users':\n",
    "            user_recs = self.recommender_.recommendForAllUsers(number)\n",
    "            return (user_recs.toPandas())\n",
    "        else:\n",
    "            recipe_recs = self.recommender_.recommendForAllItems(number)\n",
    "            return (recipe_recs.toPandas)\n",
    "\n",
    "    def model_save(self, filepath):\n",
    "        self.recommender_.save(self.sc, filepath)\n",
    "\n",
    "\n",
    "if __name__ == \"__main__\":\n",
    "    pass\n"
   ]
  },
  {
   "cell_type": "code",
   "execution_count": 32,
   "metadata": {
    "collapsed": true
   },
   "outputs": [],
   "source": [
    "df = pd.read_csv('data/f52_user_item_rating3.csv')"
   ]
  },
  {
   "cell_type": "code",
   "execution_count": 36,
   "metadata": {
    "collapsed": false
   },
   "outputs": [
    {
     "data": {
      "text/html": [
       "<div>\n",
       "<style>\n",
       "    .dataframe thead tr:only-child th {\n",
       "        text-align: right;\n",
       "    }\n",
       "\n",
       "    .dataframe thead th {\n",
       "        text-align: left;\n",
       "    }\n",
       "\n",
       "    .dataframe tbody tr th {\n",
       "        vertical-align: top;\n",
       "    }\n",
       "</style>\n",
       "<table border=\"1\" class=\"dataframe\">\n",
       "  <thead>\n",
       "    <tr style=\"text-align: right;\">\n",
       "      <th></th>\n",
       "      <th>user_id</th>\n",
       "      <th>recipe_id</th>\n",
       "      <th>rating</th>\n",
       "    </tr>\n",
       "  </thead>\n",
       "  <tbody>\n",
       "    <tr>\n",
       "      <th>0</th>\n",
       "      <td>3604</td>\n",
       "      <td>1283</td>\n",
       "      <td>2</td>\n",
       "    </tr>\n",
       "    <tr>\n",
       "      <th>1</th>\n",
       "      <td>1772</td>\n",
       "      <td>1283</td>\n",
       "      <td>2</td>\n",
       "    </tr>\n",
       "    <tr>\n",
       "      <th>2</th>\n",
       "      <td>15674</td>\n",
       "      <td>1283</td>\n",
       "      <td>0</td>\n",
       "    </tr>\n",
       "    <tr>\n",
       "      <th>3</th>\n",
       "      <td>5953</td>\n",
       "      <td>1283</td>\n",
       "      <td>2</td>\n",
       "    </tr>\n",
       "    <tr>\n",
       "      <th>4</th>\n",
       "      <td>5290</td>\n",
       "      <td>1283</td>\n",
       "      <td>3</td>\n",
       "    </tr>\n",
       "  </tbody>\n",
       "</table>\n",
       "</div>"
      ],
      "text/plain": [
       "   user_id  recipe_id  rating\n",
       "0     3604       1283       2\n",
       "1     1772       1283       2\n",
       "2    15674       1283       0\n",
       "3     5953       1283       2\n",
       "4     5290       1283       3"
      ]
     },
     "execution_count": 36,
     "metadata": {},
     "output_type": "execute_result"
    }
   ],
   "source": [
    "# del df['Unnamed: 0']\n",
    "del df['rating.1']\n",
    "df.head()"
   ]
  },
  {
   "cell_type": "code",
   "execution_count": 5,
   "metadata": {
    "collapsed": false
   },
   "outputs": [],
   "source": [
    "from sklearn.model_selection import ParameterGrid, train_test_split\n",
    "from sklearn.metrics import mean_squared_error"
   ]
  },
  {
   "cell_type": "code",
   "execution_count": 37,
   "metadata": {
    "collapsed": false
   },
   "outputs": [],
   "source": [
    "y = df['rating'].values\n",
    "X = df.values\n",
    "X_train, X_test, y_train, y_test = train_test_split(X, y, test_size=0.2, random_state=42)\n",
    "train_df = pd.DataFrame(X_train)\n",
    "test_df = pd.DataFrame(X_test)\n",
    "cols = 'user_id recipe_id rating'.split()\n",
    "train_df.columns = cols\n",
    "test_df.columns = cols\n",
    "test_df_preds = test_df[['user_id', 'recipe_id']]"
   ]
  },
  {
   "cell_type": "code",
   "execution_count": 30,
   "metadata": {
    "collapsed": true
   },
   "outputs": [],
   "source": [
    "def rmse(preds, train_df, test_df):\n",
    "    train_rating_mean = train_df['rating'].mean()\n",
    "    new_df = preds.merge(test_df, how='left', on=['user_id', 'recipe_id'])\n",
    "    new_df['user_bias'] = new_df['user_id'].apply(user_bias)\n",
    "    new_df['recipe_bias'] = new_df['recipe_id'].apply(recipe_bias)\n",
    "    new_df['total_bias'] = new_df['recipe_bias'] + new_df['user_bias']\n",
    "    new_df['adjusted'] = new_df['prediction'] + new_df['total_bias'] + 1.4\n",
    "    new_df['adjusted'].fillna(new_df['total_bias'].apply(lambda x: train_rating_mean + x ), inplace=True)\n",
    "    y_pred = new_df['adjusted']\n",
    "    y_true = new_df['rating']\n",
    "    return np.sqrt(mean_squared_error(y_true, y_pred))\n",
    "\n",
    "def user_bias(col):\n",
    "    user_groups = train_df['rating'].mean() - train_df.groupby('user_id')['rating'].mean()\n",
    "    if col in user_groups.index:\n",
    "        return user_groups[col]\n",
    "    else:\n",
    "        return 0\n",
    "\n",
    "def recipe_bias(col):\n",
    "    recipe_groups = train_df['rating'].mean() - train_df.groupby('recipe_id')['rating'].mean()\n",
    "    if col in recipe_groups:\n",
    "        return recipe_groups[col]\n",
    "    else:\n",
    "        return 0"
   ]
  },
  {
   "cell_type": "code",
   "execution_count": 24,
   "metadata": {
    "collapsed": true
   },
   "outputs": [],
   "source": [
    "rec_f52 = RecipeRecommender()"
   ]
  },
  {
   "cell_type": "code",
   "execution_count": 38,
   "metadata": {
    "collapsed": false
   },
   "outputs": [
    {
     "data": {
      "text/plain": [
       "<__main__.RecipeRecommender instance at 0x1113f0908>"
      ]
     },
     "execution_count": 38,
     "metadata": {},
     "output_type": "execute_result"
    }
   ],
   "source": [
    "rec_f52.fit(train_df)"
   ]
  },
  {
   "cell_type": "code",
   "execution_count": 39,
   "metadata": {
    "collapsed": false
   },
   "outputs": [],
   "source": [
    "preds = rec_f52.transform(test_df_preds)"
   ]
  },
  {
   "cell_type": "code",
   "execution_count": 40,
   "metadata": {
    "collapsed": true
   },
   "outputs": [],
   "source": [
    "mse_score = rmse(preds, train_df, test_df)"
   ]
  },
  {
   "cell_type": "code",
   "execution_count": 41,
   "metadata": {
    "collapsed": false
   },
   "outputs": [
    {
     "data": {
      "text/plain": [
       "1.8933700290352733"
      ]
     },
     "execution_count": 41,
     "metadata": {},
     "output_type": "execute_result"
    }
   ],
   "source": [
    "mse_score"
   ]
  },
  {
   "cell_type": "code",
   "execution_count": 42,
   "metadata": {
    "collapsed": true
   },
   "outputs": [],
   "source": [
    "def optimization(train_df, test_df_preds, test_df):\n",
    "    output = []\n",
    "    params = {'rank':[1, 2, 5, 10, 50], 'reg':[0.1, 0.5, 1]}\n",
    "    combi = list(ParameterGrid(params))\n",
    "    for dct in combi:\n",
    "        rank, reg = dct['rank'], dct['reg']\n",
    "        model = RecipeRecommender(rank, reg)\n",
    "        model.fit(train_df)\n",
    "        preds = model.transform(test_df_preds)\n",
    "        rmse_score = rmse(preds, train_df, test_df)\n",
    "        output.append([rank, reg, rmse_score])\n",
    "    return output"
   ]
  },
  {
   "cell_type": "code",
   "execution_count": 43,
   "metadata": {
    "collapsed": true
   },
   "outputs": [],
   "source": [
    "opt_list = optimization(train_df, test_df_preds, test_df)"
   ]
  },
  {
   "cell_type": "code",
   "execution_count": 44,
   "metadata": {
    "collapsed": false
   },
   "outputs": [
    {
     "data": {
      "text/plain": [
       "[[1, 0.1, 1.9255140550705754],\n",
       " [1, 0.5, 1.8443289084717196],\n",
       " [1, 1, 1.8429735762599671],\n",
       " [2, 0.1, 1.9358805733696742],\n",
       " [2, 0.5, 1.8422024647629296],\n",
       " [2, 1, 1.8436111949337892],\n",
       " [5, 0.1, 1.9303516828828169],\n",
       " [5, 0.5, 1.8422543798348814],\n",
       " [5, 1, 1.8467042564432177],\n",
       " [10, 0.1, 1.916442227203446],\n",
       " [10, 0.5, 1.8407372224643237],\n",
       " [10, 1, 1.8475948445036885],\n",
       " [50, 0.1, 1.8984452191443517],\n",
       " [50, 0.5, 1.8402823928352565],\n",
       " [50, 1, 1.8486015350188407]]"
      ]
     },
     "execution_count": 44,
     "metadata": {},
     "output_type": "execute_result"
    }
   ],
   "source": [
    "opt_list"
   ]
  },
  {
   "cell_type": "code",
   "execution_count": 45,
   "metadata": {
    "collapsed": true
   },
   "outputs": [],
   "source": [
    "df_opt = pd.DataFrame.from_records(opt_list)"
   ]
  },
  {
   "cell_type": "code",
   "execution_count": 46,
   "metadata": {
    "collapsed": false
   },
   "outputs": [],
   "source": [
    "df_opt.columns = 'rank reg rmse'.split()"
   ]
  },
  {
   "cell_type": "code",
   "execution_count": 47,
   "metadata": {
    "collapsed": false
   },
   "outputs": [
    {
     "data": {
      "text/plain": [
       "1.8402823928352565"
      ]
     },
     "execution_count": 47,
     "metadata": {},
     "output_type": "execute_result"
    }
   ],
   "source": [
    "df_opt['rmse'].min()"
   ]
  },
  {
   "cell_type": "code",
   "execution_count": 49,
   "metadata": {
    "collapsed": false
   },
   "outputs": [
    {
     "data": {
      "text/html": [
       "<div>\n",
       "<style>\n",
       "    .dataframe thead tr:only-child th {\n",
       "        text-align: right;\n",
       "    }\n",
       "\n",
       "    .dataframe thead th {\n",
       "        text-align: left;\n",
       "    }\n",
       "\n",
       "    .dataframe tbody tr th {\n",
       "        vertical-align: top;\n",
       "    }\n",
       "</style>\n",
       "<table border=\"1\" class=\"dataframe\">\n",
       "  <thead>\n",
       "    <tr style=\"text-align: right;\">\n",
       "      <th></th>\n",
       "      <th>count</th>\n",
       "      <th>mean</th>\n",
       "      <th>std</th>\n",
       "      <th>min</th>\n",
       "      <th>25%</th>\n",
       "      <th>50%</th>\n",
       "      <th>75%</th>\n",
       "      <th>max</th>\n",
       "    </tr>\n",
       "  </thead>\n",
       "  <tbody>\n",
       "    <tr>\n",
       "      <th>rank</th>\n",
       "      <td>15.0</td>\n",
       "      <td>13.600000</td>\n",
       "      <td>19.115439</td>\n",
       "      <td>1.000000</td>\n",
       "      <td>2.000000</td>\n",
       "      <td>5.000000</td>\n",
       "      <td>10.000000</td>\n",
       "      <td>50.000000</td>\n",
       "    </tr>\n",
       "    <tr>\n",
       "      <th>reg</th>\n",
       "      <td>15.0</td>\n",
       "      <td>0.533333</td>\n",
       "      <td>0.381101</td>\n",
       "      <td>0.100000</td>\n",
       "      <td>0.100000</td>\n",
       "      <td>0.500000</td>\n",
       "      <td>1.000000</td>\n",
       "      <td>1.000000</td>\n",
       "    </tr>\n",
       "    <tr>\n",
       "      <th>rmse</th>\n",
       "      <td>15.0</td>\n",
       "      <td>1.869728</td>\n",
       "      <td>0.038637</td>\n",
       "      <td>1.840282</td>\n",
       "      <td>1.842614</td>\n",
       "      <td>1.846704</td>\n",
       "      <td>1.907444</td>\n",
       "      <td>1.935881</td>\n",
       "    </tr>\n",
       "  </tbody>\n",
       "</table>\n",
       "</div>"
      ],
      "text/plain": [
       "      count       mean        std       min       25%       50%        75%  \\\n",
       "rank   15.0  13.600000  19.115439  1.000000  2.000000  5.000000  10.000000   \n",
       "reg    15.0   0.533333   0.381101  0.100000  0.100000  0.500000   1.000000   \n",
       "rmse   15.0   1.869728   0.038637  1.840282  1.842614  1.846704   1.907444   \n",
       "\n",
       "            max  \n",
       "rank  50.000000  \n",
       "reg    1.000000  \n",
       "rmse   1.935881  "
      ]
     },
     "execution_count": 49,
     "metadata": {},
     "output_type": "execute_result"
    }
   ],
   "source": [
    "df_opt"
   ]
  },
  {
   "cell_type": "code",
   "execution_count": 50,
   "metadata": {
    "collapsed": true
   },
   "outputs": [],
   "source": [
    "import seaborn as sns"
   ]
  },
  {
   "cell_type": "code",
   "execution_count": 52,
   "metadata": {
    "collapsed": false
   },
   "outputs": [
    {
     "data": {
      "text/plain": [
       "<seaborn.axisgrid.PairGrid at 0x112544810>"
      ]
     },
     "execution_count": 52,
     "metadata": {},
     "output_type": "execute_result"
    },
    {
     "data": {
      "image/png": "[encoded data removed]",
      "text/plain": [
       "<matplotlib.figure.Figure at 0x1125445d0>"
      ]
     },
     "metadata": {},
     "output_type": "display_data"
    }
   ],
   "source": [
    "sns.pairplot(df_opt)"
   ]
  },
  {
   "cell_type": "code",
   "execution_count": 48,
   "metadata": {
    "collapsed": false
   },
   "outputs": [
    {
     "data": {
      "text/plain": [
       "array([[<matplotlib.axes._subplots.AxesSubplot object at 0x111f40d90>]], dtype=object)"
      ]
     },
     "execution_count": 48,
     "metadata": {},
     "output_type": "execute_result"
    },
    {
     "data": {
      "image/png": "[encoded data removed]",
      "text/plain": [
       "<matplotlib.figure.Figure at 0x111c3acd0>"
      ]
     },
     "metadata": {},
     "output_type": "display_data"
    }
   ],
   "source": [
    "%matplotlib inline\n",
    "preds.hist('prediction')"
   ]
  },
  {
   "cell_type": "code",
   "execution_count": null,
   "metadata": {
    "collapsed": true
   },
   "outputs": [],
   "source": []
  }
 ],
 "metadata": {
  "anaconda-cloud": {},
  "kernelspec": {
   "display_name": "Python [conda root]",
   "language": "python",
   "name": "conda-root-py"
  },
  "language_info": {
   "codemirror_mode": {
    "name": "ipython",
    "version": 2
   },
   "file_extension": ".py",
   "mimetype": "text/x-python",
   "name": "python",
   "nbconvert_exporter": "python",
   "pygments_lexer": "ipython2",
   "version": "2.7.12"
  }
 },
 "nbformat": 4,
 "nbformat_minor": 1
}
